{
 "cells": [
  {
   "cell_type": "markdown",
   "metadata": {},
   "source": [
    "# Project of text mining"
   ]
  },
  {
   "cell_type": "markdown",
   "metadata": {},
   "source": [
    "## About this code\n",
    "The purpose of this notebook is to show an example of how we can extract information from web pages with some level of accuracy.\n",
    "I've made this notebook as an example to help you in case you needed to scrape infromation in the future.\n",
    "Here, we are collecting the speeches of previous presidents of the united states"
   ]
  },
  {
   "cell_type": "code",
   "execution_count": 8,
   "metadata": {},
   "outputs": [],
   "source": [
    "import os\n",
    "from os import walk\n",
    "from bs4 import BeautifulSoup\n",
    "import requests"
   ]
  },
  {
   "cell_type": "markdown",
   "metadata": {},
   "source": [
    "### Files structures\n",
    "The folders exist each named by the name of some of the american presidents\n",
    "inside each folder, there is an html file \"initial.txt\" scraped from millercenter.org\n",
    "containing links for all the speeches of each corresponding president"
   ]
  },
  {
   "cell_type": "code",
   "execution_count": 9,
   "metadata": {},
   "outputs": [],
   "source": [
    "# parent folder\n",
    "path = 'D:\\Efrei\\M1\\Text mining\\TP project1\\presidents-speeches/'\n",
    "\n",
    "# will contain all the data \"president name\" : [\"speeches links\"]\n",
    "presidential_dictionary_list = []\n",
    "for (root, dirs, files) in walk(path):\n",
    "    # go through child folders, skip the first parent folder\n",
    "    if len(dirs) == 1:\n",
    "        president_speaches_dict = {}\n",
    "        # get the name of the president from the file path\n",
    "        president_name = root.split(\"/\")[1]\n",
    "        president_speaches_dict['president_name'] = president_name\n",
    "        speaches_links = []\n",
    "        file_path = \"{}/{}\".format(root,files[0])\n",
    "        # open the \"initial.txt\" file for each president\n",
    "        with open(file_path) as html_links_file:\n",
    "            # needed for mac users, otherwise .DS_Store files will get into the way\n",
    "            if not file_path.endswith('DS_Store'):\n",
    "                soup = BeautifulSoup(html_links_file)\n",
    "                for link in soup.findAll('a'):\n",
    "                    actual_link = link.get('href')\n",
    "                    # Check for None values and wrong links hidden in a tags\n",
    "                    if actual_link is not None and actual_link.startswith('/the-presidency'):\n",
    "                        # extract the speeches links from the <a> tags\n",
    "                        speaches_links.append(actual_link)\n",
    "        president_speaches_dict['speeches_links'] = speaches_links\n",
    "        presidential_dictionary_list.append(president_speaches_dict)"
   ]
  },
  {
   "cell_type": "code",
   "execution_count": 10,
   "metadata": {
    "scrolled": true
   },
   "outputs": [
    {
     "data": {
      "text/plain": [
       "[{'president_name': 'Andrew Jackson',\n",
       "  'speeches_links': ['/the-presidency/presidential-speeches/march-4-1837-farewell-address',\n",
       "   '/the-presidency/presidential-speeches/december-21-1836-statement-independence-texas',\n",
       "   '/the-presidency/presidential-speeches/december-5-1836-eighth-annual-message-congress',\n",
       "   '/the-presidency/presidential-speeches/december-7-1835-seventh-annual-address-congress',\n",
       "   '/the-presidency/presidential-speeches/december-1-1834-sixth-annual-message-congress',\n",
       "   '/the-presidency/presidential-speeches/april-21-1834-addendum-protest-senate-censure',\n",
       "   '/the-presidency/presidential-speeches/april-15-1834-protest-senate-censure',\n",
       "   '/the-presidency/presidential-speeches/december-12-1833-message-constitutional-rights-and',\n",
       "   '/the-presidency/presidential-speeches/december-3-1833-fifth-annual-message-congress',\n",
       "   '/the-presidency/presidential-speeches/september-18-1833-message-regarding-bank-united-states',\n",
       "   '/the-presidency/presidential-speeches/march-4-1833-second-inaugural-address',\n",
       "   '/the-presidency/presidential-speeches/january-16-1833-message-regarding-south-carolina-nullification',\n",
       "   '/the-presidency/presidential-speeches/december-10-1832-nullification-proclamation',\n",
       "   '/the-presidency/presidential-speeches/december-6-1832-veto-message-internal-improvement-legislation',\n",
       "   '/the-presidency/presidential-speeches/december-4-1832-fourth-annual-message-congress',\n",
       "   '/the-presidency/presidential-speeches/july-10-1832-bank-veto',\n",
       "   '/the-presidency/presidential-speeches/february-15-1832-message-regarding-indian-removal',\n",
       "   '/the-presidency/presidential-speeches/december-6-1831-third-annual-message-congress',\n",
       "   '/the-presidency/presidential-speeches/february-22-1831-message-regarding-indian-relations',\n",
       "   '/the-presidency/presidential-speeches/december-6-1830-second-annual-message-congress',\n",
       "   '/the-presidency/presidential-speeches/october-5-1830-proclamation-regarding-opening-united-states',\n",
       "   '/the-presidency/presidential-speeches/may-27-1830-veto-message-regarding-funding-infrastructure',\n",
       "   '/the-presidency/presidential-speeches/may-6-1830-message-regarding-treaties-choctaw-nation-indians',\n",
       "   '/the-presidency/presidential-speeches/december-8-1829-first-annual-message-congress',\n",
       "   '/the-presidency/presidential-speeches/may-11-1829-proclamation-regarding-duties-austrian-vessels',\n",
       "   '/the-presidency/presidential-speeches/march-4-1829-first-inaugural-address']},\n",
       " {'president_name': 'Barack Obama',\n",
       "  'speeches_links': ['/the-presidency/presidential-speeches/may-15-2016-commencement-address-rutgers-university',\n",
       "   '/the-presidency/presidential-speeches/march-22-2016-remarks-people-cuba',\n",
       "   '/the-presidency/presidential-speeches/january-12-2016-2016-state-union-address',\n",
       "   '/the-presidency/presidential-speeches/june-26-2015-remarks-eulogy-honorable-reverend-clementa',\n",
       "   '/the-presidency/presidential-speeches/march-7-2015-remarks-50th-anniversary-selma-marches',\n",
       "   '/the-presidency/presidential-speeches/january-20-2015-2015-state-union-address',\n",
       "   '/the-presidency/presidential-speeches/november-20-2014-address-nation-immigration',\n",
       "   '/the-presidency/presidential-speeches/january-28-2014-2014-state-union-address',\n",
       "   '/the-presidency/presidential-speeches/december-4-2013-speech-economic-mobility',\n",
       "   '/the-presidency/presidential-speeches/september-10-2013-address-nation-syria',\n",
       "   '/the-presidency/presidential-speeches/july-24-2013-remarks-education-and-economy',\n",
       "   '/the-presidency/presidential-speeches/july-19-2013-remarks-trayvon-martin',\n",
       "   '/the-presidency/presidential-speeches/april-8-2013-speech-gun-violence',\n",
       "   '/the-presidency/presidential-speeches/march-21-2013-address-people-israel',\n",
       "   '/the-presidency/presidential-speeches/march-1-2013-statement-government-sequester',\n",
       "   '/the-presidency/presidential-speeches/february-13-2013-2013-state-union-address',\n",
       "   '/the-presidency/presidential-speeches/january-29-2013-remarks-immigration-reform',\n",
       "   '/the-presidency/presidential-speeches/january-21-2013-second-inaugural-address',\n",
       "   '/the-presidency/presidential-speeches/december-16-2012-remarks-sandy-hook-elementary-shootings',\n",
       "   '/the-presidency/presidential-speeches/november-6-2012-2012-election-night-victory-speech',\n",
       "   '/the-presidency/presidential-speeches/september-6-2012-nominee-acceptance-speech-2012-democratic',\n",
       "   '/the-presidency/presidential-speeches/january-24-2012-2012-state-union-address',\n",
       "   '/the-presidency/presidential-speeches/october-21-2011-remarks-end-war-iraq',\n",
       "   '/the-presidency/presidential-speeches/september-8-2011-address-congress-american-jobs-act',\n",
       "   '/the-presidency/presidential-speeches/june-22-2011-remarks-afghanistan-pullout',\n",
       "   '/the-presidency/presidential-speeches/may-25-2011-address-british-parliament',\n",
       "   '/the-presidency/presidential-speeches/may-19-2011-speech-american-diplomacy-middle-east-and-north',\n",
       "   '/the-presidency/presidential-speeches/may-1-2011-remarks-death-osama-bin-laden',\n",
       "   '/the-presidency/presidential-speeches/january-25-2011-2011-state-union-address',\n",
       "   '/the-presidency/presidential-speeches/january-12-2011-remarks-memorial-victims-tucson-az-shooting',\n",
       "   '/the-presidency/presidential-speeches/november-3-2010-press-conference-after-2010-midterm-elections',\n",
       "   '/the-presidency/presidential-speeches/september-23-2010-address-united-nations',\n",
       "   '/the-presidency/presidential-speeches/august-31-2010-address-end-combat-mission-iraq',\n",
       "   '/the-presidency/presidential-speeches/june-15-2010-speech-bp-oil-spill',\n",
       "   '/the-presidency/presidential-speeches/april-28-2010-remarks-wall-street-reform',\n",
       "   '/the-presidency/presidential-speeches/april-15-2010-remarks-space-exploration-21st-century',\n",
       "   '/the-presidency/presidential-speeches/march-15-2010-speech-health-care-reform',\n",
       "   '/the-presidency/presidential-speeches/february-9-2010-news-conference-congressional-gridlock',\n",
       "   '/the-presidency/presidential-speeches/january-27-2010-2010-state-union-address',\n",
       "   '/the-presidency/presidential-speeches/december-10-2009-acceptance-nobel-peace-prize',\n",
       "   '/the-presidency/presidential-speeches/december-1-2009-speech-strategy-afghanistan-and-pakistan',\n",
       "   '/the-presidency/presidential-speeches/september-9-2009-address-congress-health-care',\n",
       "   '/the-presidency/presidential-speeches/june-4-2009-address-cairo-university',\n",
       "   '/the-presidency/presidential-speeches/may-26-2009-remarks-nominating-judge-sonia-sotomayor-us',\n",
       "   '/the-presidency/presidential-speeches/february-24-2009-address-joint-session-congress',\n",
       "   '/the-presidency/presidential-speeches/february-7-2009-remarks-american-recovery-and-reinvestment-act',\n",
       "   '/the-presidency/presidential-speeches/january-29-2009-remarks-lilly-ledbetter-fair-pay-restoration',\n",
       "   '/the-presidency/presidential-speeches/january-20-2009-inaugural-address',\n",
       "   '/the-presidency/presidential-speeches/november-4-2008-remarks-election-night',\n",
       "   '/the-presidency/presidential-speeches/august-28-2008-acceptance-speech-democratic-national']},\n",
       " {'president_name': 'Bill Clinton',\n",
       "  'speeches_links': ['/the-presidency/presidential-speeches/january-18-2001-farewell-address',\n",
       "   '/the-presidency/presidential-speeches/january-27-2000-state-union-address',\n",
       "   '/the-presidency/presidential-speeches/june-10-1999-address-kosovo-agreement',\n",
       "   '/the-presidency/presidential-speeches/march-24-1999-statement-kosovo',\n",
       "   '/the-presidency/presidential-speeches/january-19-1999-state-union-address',\n",
       "   '/the-presidency/presidential-speeches/august-17-1998-statement-his-testimony-grand-jury',\n",
       "   '/the-presidency/presidential-speeches/march-25-1998-remarks-people-rwanda',\n",
       "   '/the-presidency/presidential-speeches/march-23-1998-remarks-people-ghana',\n",
       "   '/the-presidency/presidential-speeches/january-27-1998-state-union-address',\n",
       "   '/the-presidency/presidential-speeches/january-26-1998-response-lewinsky-allegations',\n",
       "   '/the-presidency/presidential-speeches/april-22-1997-address-people-and-relief-workers-grand-forks-nd',\n",
       "   '/the-presidency/presidential-speeches/february-4-1997-state-union-address',\n",
       "   '/the-presidency/presidential-speeches/january-20-1997-second-inaugural',\n",
       "   '/the-presidency/presidential-speeches/november-3-1996-remarks-congregation-st-pauls-ame-church',\n",
       "   '/the-presidency/presidential-speeches/october-6-1996-presidential-debate-senator-bob-dole',\n",
       "   '/the-presidency/presidential-speeches/august-29-1996-remarks-democratic-national-convention',\n",
       "   '/the-presidency/presidential-speeches/june-25-1996-victims-rights-announcement',\n",
       "   '/the-presidency/presidential-speeches/january-23-1996-state-union-address',\n",
       "   '/the-presidency/presidential-speeches/november-30-1995-address-employees-mackie-metal-plant',\n",
       "   '/the-presidency/presidential-speeches/november-27-1995-address-bosnia',\n",
       "   '/the-presidency/presidential-speeches/october-16-1995-address-race-relations',\n",
       "   '/the-presidency/presidential-speeches/july-19-1995-address-affirmative-action',\n",
       "   '/the-presidency/presidential-speeches/april-23-1995-time-healing-ceremony',\n",
       "   '/the-presidency/presidential-speeches/january-24-1995-state-union-address',\n",
       "   '/the-presidency/presidential-speeches/july-12-1994-remarks-brandenburg-gate',\n",
       "   '/the-presidency/presidential-speeches/june-6-1994-remarks-us-national-cemetery',\n",
       "   '/the-presidency/presidential-speeches/january-25-1994-state-union-address',\n",
       "   '/the-presidency/presidential-speeches/december-8-1993-remarks-signing-nafta',\n",
       "   '/the-presidency/presidential-speeches/november-13-1993-remarks-convocation-church-god-christ-memphis',\n",
       "   '/the-presidency/presidential-speeches/october-7-1993-address-somalia',\n",
       "   '/the-presidency/presidential-speeches/september-22-1993-address-health-care-reform',\n",
       "   '/the-presidency/presidential-speeches/september-13-1993-remarks-signing-israeli-palestinian',\n",
       "   '/the-presidency/presidential-speeches/june-6-1993-speech-25th-anniversary-memorial-mass-robert-f',\n",
       "   '/the-presidency/presidential-speeches/may-5-1993-remarks-operation-restore-hope',\n",
       "   '/the-presidency/presidential-speeches/april-30-1993-national-service-address',\n",
       "   '/the-presidency/presidential-speeches/february-17-1993-address-joint-session-congress',\n",
       "   '/the-presidency/presidential-speeches/february-5-1993-remarks-signing-family-medical-leave-act',\n",
       "   '/the-presidency/presidential-speeches/january-29-1993-press-conference-gays-military',\n",
       "   '/the-presidency/presidential-speeches/january-20-1993-first-inaugural']},\n",
       " {'president_name': 'Donald Trump',\n",
       "  'speeches_links': ['/the-presidency/presidential-speeches/january-8-2020-statement-iran',\n",
       "   '/the-presidency/presidential-speeches/january-3-2020-remarks-killing-qasem-soleimani',\n",
       "   '/the-presidency/presidential-speeches/october-27-2019-statement-death-abu-bakr-al-baghdadi',\n",
       "   '/the-presidency/presidential-speeches/september-25-2019-press-conference',\n",
       "   '/the-presidency/presidential-speeches/september-24-2019-remarks-united-nations-general-assembly',\n",
       "   '/the-presidency/presidential-speeches/february-15-2019-speech-declaring-national-emergency',\n",
       "   '/the-presidency/presidential-speeches/february-5-2019-state-union-address',\n",
       "   '/the-presidency/presidential-speeches/january-19-2019-remarks-about-us-southern-border',\n",
       "   '/the-presidency/presidential-speeches/september-25-2018-address-73rd-session-united-nations-general',\n",
       "   '/the-presidency/presidential-speeches/july-24-2018-speech-veterans-foreign-wars-national-convention',\n",
       "   '/the-presidency/presidential-speeches/march-19-2018-remarks-combating-opioid-crisis',\n",
       "   '/the-presidency/presidential-speeches/february-23-2018-remarks-conservative-political-action',\n",
       "   '/the-presidency/presidential-speeches/february-15-2018-statement-school-shooting-parkland-florida',\n",
       "   '/the-presidency/presidential-speeches/february-1-2018-remarks-house-and-senate-republican-member',\n",
       "   '/the-presidency/presidential-speeches/january-30-2018-state-union-address',\n",
       "   '/the-presidency/presidential-speeches/january-26-2018-address-world-economic-forum',\n",
       "   '/the-presidency/presidential-speeches/december-18-2017-remarks-national-security-strategy',\n",
       "   '/the-presidency/presidential-speeches/september-19-2017-address-united-nations-general-assembly',\n",
       "   '/the-presidency/presidential-speeches/july-24-2017-speech-boy-scout-jamboree',\n",
       "   '/the-presidency/presidential-speeches/june-29-2017-speech-unleashing-american-energy-event',\n",
       "   '/the-presidency/presidential-speeches/february-28-2017-address-joint-session-congress',\n",
       "   '/the-presidency/presidential-speeches/january-20-2017-inaugural-address']},\n",
       " {'president_name': 'Franklin D. Roosevelt',\n",
       "  'speeches_links': ['/the-presidency/presidential-speeches/march-1-1945-address-congress-yalta',\n",
       "   '/the-presidency/presidential-speeches/february-11-1945-joint-statement-churchill-and-stalin-yalta',\n",
       "   '/the-presidency/presidential-speeches/january-20-1945-fourth-inaugural-address',\n",
       "   '/the-presidency/presidential-speeches/july-20-1944-democratic-national-convention',\n",
       "   '/the-presidency/presidential-speeches/june-12-1944-fireside-chat-30-opening-fifth-war-loan-drive',\n",
       "   '/the-presidency/presidential-speeches/june-5-1944-fireside-chat-29-fall-rome',\n",
       "   '/the-presidency/presidential-speeches/january-11-1944-fireside-chat-28-state-union',\n",
       "   '/the-presidency/presidential-speeches/december-24-1943-fireside-chat-27-tehran-and-cairo-conferences',\n",
       "   '/the-presidency/presidential-speeches/december-1-1943-tehran-declaration',\n",
       "   '/the-presidency/presidential-speeches/september-8-1943-fireside-chat-26-armistice-italy',\n",
       "   '/the-presidency/presidential-speeches/july-28-1943-fireside-chat-25-fall-mussolini',\n",
       "   '/the-presidency/presidential-speeches/may-2-1943-fireside-chat-24-coal-crisis',\n",
       "   '/the-presidency/presidential-speeches/january-7-1943-state-union-address',\n",
       "   '/the-presidency/presidential-speeches/october-12-1942-fireside-chat-23-home-front',\n",
       "   '/the-presidency/presidential-speeches/september-7-1942-fireside-chat-22-inflation-and-food-prices',\n",
       "   '/the-presidency/presidential-speeches/april-28-1942-fireside-chat-21-sacrifice',\n",
       "   '/the-presidency/presidential-speeches/february-23-1942-fireside-chat-20-progress-war',\n",
       "   '/the-presidency/presidential-speeches/december-11-1941-message-congress-requesting-war-declarations',\n",
       "   '/the-presidency/presidential-speeches/december-9-1941-fireside-chat-19-war-japan',\n",
       "   '/the-presidency/presidential-speeches/december-8-1941-address-congress-requesting-declaration-war',\n",
       "   '/the-presidency/presidential-speeches/september-11-1941-fireside-chat-18-greer-incident',\n",
       "   '/the-presidency/presidential-speeches/may-27-1941-fireside-chat-17-unlimited-national-emergency',\n",
       "   '/the-presidency/presidential-speeches/march-15-1941-lend-lease',\n",
       "   '/the-presidency/presidential-speeches/january-20-1941-third-inaugural-address',\n",
       "   '/the-presidency/presidential-speeches/january-6-1941-state-union-four-freedoms',\n",
       "   '/the-presidency/presidential-speeches/december-29-1940-fireside-chat-16-arsenal-democracy',\n",
       "   '/the-presidency/presidential-speeches/july-19-1940-democratic-national-convention',\n",
       "   '/the-presidency/presidential-speeches/june-10-1940-stab-back-speech',\n",
       "   '/the-presidency/presidential-speeches/may-26-1940-fireside-chat-15-national-defense',\n",
       "   '/the-presidency/presidential-speeches/september-3-1939-fireside-chat-14-european-war',\n",
       "   '/the-presidency/presidential-speeches/july-8-1938-dedication-memorial-northwest-territory',\n",
       "   '/the-presidency/presidential-speeches/june-24-1938-fireside-chat-13-purging-democratic-party',\n",
       "   '/the-presidency/presidential-speeches/april-14-1938-fireside-chat-12-recession',\n",
       "   '/the-presidency/presidential-speeches/november-14-1937-fireside-chat-11-unemployment-census',\n",
       "   '/the-presidency/presidential-speeches/october-12-1937-fireside-chat-10-new-legislation',\n",
       "   '/the-presidency/presidential-speeches/october-5-1937-quarantine-speech',\n",
       "   '/the-presidency/presidential-speeches/march-9-1937-fireside-chat-9-court-packing',\n",
       "   '/the-presidency/presidential-speeches/january-20-1937-second-inaugural-address',\n",
       "   '/the-presidency/presidential-speeches/october-31-1936-speech-madison-square-garden',\n",
       "   '/the-presidency/presidential-speeches/september-6-1936-fireside-chat-8-farmers-and-laborers',\n",
       "   '/the-presidency/presidential-speeches/june-27-1936-democratic-national-convention',\n",
       "   '/the-presidency/presidential-speeches/april-28-1935-fireside-chat-7-works-relief-program-and-social',\n",
       "   '/the-presidency/presidential-speeches/september-30-1934-fireside-chat-6-government-and-capitalism',\n",
       "   '/the-presidency/presidential-speeches/june-28-1934-fireside-chat-5-addressing-critics',\n",
       "   '/the-presidency/presidential-speeches/october-22-1933-fireside-chat-4-economic-progress',\n",
       "   '/the-presidency/presidential-speeches/july-24-1933-fireside-chat-3-national-recovery-administration',\n",
       "   '/the-presidency/presidential-speeches/may-7-1933-fireside-chat-2-progress-during-first-two-months',\n",
       "   '/the-presidency/presidential-speeches/march-12-1933-fireside-chat-1-banking-crisis',\n",
       "   '/the-presidency/presidential-speeches/march-4-1933-first-inaugural-address']},\n",
       " {'president_name': 'George H. W. Bush',\n",
       "  'speeches_links': ['/the-presidency/presidential-speeches/january-5-1993-address-west-point',\n",
       "   '/the-presidency/presidential-speeches/december-15-1992-remarks-texas-am-university',\n",
       "   '/the-presidency/presidential-speeches/december-4-1992-address-somalia',\n",
       "   '/the-presidency/presidential-speeches/october-11-1992-debate-bill-clinton-and-ross-perot',\n",
       "   '/the-presidency/presidential-speeches/august-20-1992-republican-national-convention',\n",
       "   '/the-presidency/presidential-speeches/january-28-1992-state-union-address',\n",
       "   '/the-presidency/presidential-speeches/july-31-1991-press-conference-mikhail-gorbachev',\n",
       "   '/the-presidency/presidential-speeches/march-6-1991-address-joint-session-congress-end-gulf-war',\n",
       "   '/the-presidency/presidential-speeches/february-27-1991-address-end-gulf-war',\n",
       "   '/the-presidency/presidential-speeches/january-29-1991-state-union-address',\n",
       "   '/the-presidency/presidential-speeches/january-16-1991-address-nation-invasion-iraq',\n",
       "   '/the-presidency/presidential-speeches/october-2-1990-address-nation-budget',\n",
       "   '/the-presidency/presidential-speeches/october-1-1990-address-united-nations',\n",
       "   '/the-presidency/presidential-speeches/september-11-1990-address-joint-session-congress',\n",
       "   '/the-presidency/presidential-speeches/august-8-1990-address-iraqs-invasion-kuwait',\n",
       "   '/the-presidency/presidential-speeches/july-26-1990-remarks-signing-americans-disabilities-act',\n",
       "   '/the-presidency/presidential-speeches/january-31-1990-state-union-address',\n",
       "   '/the-presidency/presidential-speeches/december-20-1989-address-nation-panama',\n",
       "   '/the-presidency/presidential-speeches/may-12-1989-commencement-address-texas-am-university',\n",
       "   '/the-presidency/presidential-speeches/february-9-1989-address-joint-session-congress',\n",
       "   '/the-presidency/presidential-speeches/january-20-1989-inaugural-address',\n",
       "   '/the-presidency/presidential-speeches/september-25-1988-debate-michael-dukakis',\n",
       "   '/the-presidency/presidential-speeches/august-18-1988-acceptance-speech-republican-national']},\n",
       " {'president_name': 'George W. Bush',\n",
       "  'speeches_links': ['/the-presidency/presidential-speeches/january-15-2009-farewell-address-nation',\n",
       "   '/the-presidency/presidential-speeches/january-12-2009-final-press-conference',\n",
       "   '/the-presidency/presidential-speeches/december-19-2008-remarks-plan-assist-automakers',\n",
       "   '/the-presidency/presidential-speeches/november-13-2008-speech-financial-markets-and-world-economy',\n",
       "   '/the-presidency/presidential-speeches/october-3-2008-remarks-emergency-economic-stabilization-act',\n",
       "   '/the-presidency/presidential-speeches/march-19-2008-remarks-war-terror',\n",
       "   '/the-presidency/presidential-speeches/january-28-2008-state-union-address',\n",
       "   '/the-presidency/presidential-speeches/april-9-2007-speech-comprehensive-immigration-reform',\n",
       "   '/the-presidency/presidential-speeches/january-23-2007-state-union-address',\n",
       "   '/the-presidency/presidential-speeches/january-11-2007-address-military-operations-iraq',\n",
       "   '/the-presidency/presidential-speeches/july-19-2006-remarks-stem-cell-research-policy',\n",
       "   '/the-presidency/presidential-speeches/january-31-2006-state-union-address',\n",
       "   '/the-presidency/presidential-speeches/december-19-2005-address-renewal-iraq',\n",
       "   '/the-presidency/presidential-speeches/september-16-2005-hurricane-relief-address-new-orleans',\n",
       "   '/the-presidency/presidential-speeches/august-31-2005-remarks-hurricane-katrina-relief-efforts',\n",
       "   '/the-presidency/presidential-speeches/february-2-2005-state-union-address',\n",
       "   '/the-presidency/presidential-speeches/january-20-2005-second-inaugural-address-0',\n",
       "   '/the-presidency/presidential-speeches/september-3-2004-remarks-republican-national-convention',\n",
       "   '/the-presidency/presidential-speeches/july-17-2004-remarks-national-security-and-war-effort',\n",
       "   '/the-presidency/presidential-speeches/january-20-2004-state-union-address',\n",
       "   '/the-presidency/presidential-speeches/january-7-2004-temporary-worker-program-proposal',\n",
       "   '/the-presidency/presidential-speeches/december-8-2003-address-signing-medicare-legislation',\n",
       "   '/the-presidency/presidential-speeches/november-6-2003-remarks-freedom-iraq-and-middle-east',\n",
       "   '/the-presidency/presidential-speeches/march-20-2003-address-start-iraq-war',\n",
       "   '/the-presidency/presidential-speeches/march-17-2003-address-nation-iraq',\n",
       "   '/the-presidency/presidential-speeches/january-28-2003-state-union-address',\n",
       "   '/the-presidency/presidential-speeches/september-12-2002-remarks-un-general-assembly',\n",
       "   '/the-presidency/presidential-speeches/june-19-2002-speech-new-mother-and-child-hiv-prevention',\n",
       "   '/the-presidency/presidential-speeches/june-7-2002-address-nation-department-homeland-security',\n",
       "   '/the-presidency/presidential-speeches/june-1-2002-graduation-speech-west-point',\n",
       "   '/the-presidency/presidential-speeches/january-29-2002-state-union-address',\n",
       "   '/the-presidency/presidential-speeches/january-8-2002-remarks-no-child-left-behind-bill',\n",
       "   '/the-presidency/presidential-speeches/september-22-2001-address-us-response-attacks-september-11',\n",
       "   '/the-presidency/presidential-speeches/september-11-2001-address-nation-terrorist-attacks',\n",
       "   '/the-presidency/presidential-speeches/august-10-2001-address-nation-stem-cell-research',\n",
       "   '/the-presidency/presidential-speeches/june-7-2001-remarks-signing-economic-growth-and-tax-relief',\n",
       "   '/the-presidency/presidential-speeches/may-11-2001-proposal-global-fund-fight-hivaids-malaria-and',\n",
       "   '/the-presidency/presidential-speeches/january-29-2001-remarks-faith-based-and-community-initiatives',\n",
       "   '/the-presidency/presidential-speeches/january-20-2001-first-inaugural-address']},\n",
       " {'president_name': 'George Washington',\n",
       "  'speeches_links': ['/the-presidency/presidential-speeches/december-7-1796-eighth-annual-message-congress',\n",
       "   '/the-presidency/presidential-speeches/september-19-1796-farewell-address',\n",
       "   '/the-presidency/presidential-speeches/august-29-1796-talk-cherokee-nation',\n",
       "   '/the-presidency/presidential-speeches/march-30-1796-message-house-representatives-declining-submit',\n",
       "   '/the-presidency/presidential-speeches/december-8-1795-seventh-annual-message-congress',\n",
       "   '/the-presidency/presidential-speeches/july-10-1795-proclamation-pardons-western-pennsylvania',\n",
       "   '/the-presidency/presidential-speeches/november-19-1794-sixth-annual-message-congress',\n",
       "   '/the-presidency/presidential-speeches/september-25-1794-proclamation-militia-service',\n",
       "   '/the-presidency/presidential-speeches/august-7-1794-proclamation-against-opposition-execution-laws',\n",
       "   '/the-presidency/presidential-speeches/december-3-1793-fifth-annual-message-congress',\n",
       "   '/the-presidency/presidential-speeches/april-22-1793-proclamation-neutrality',\n",
       "   '/the-presidency/presidential-speeches/march-4-1793-second-inaugural-address',\n",
       "   '/the-presidency/presidential-speeches/december-12-1792-proclamation-against-crimes-against-cherokee',\n",
       "   '/the-presidency/presidential-speeches/november-6-1792-fourth-annual-message-congress',\n",
       "   '/the-presidency/presidential-speeches/april-5-1792-veto-message-congressional-redistricting',\n",
       "   '/the-presidency/presidential-speeches/october-25-1791-third-annual-message-congress',\n",
       "   '/the-presidency/presidential-speeches/december-29-1790-talk-chiefs-and-counselors-seneca-nation',\n",
       "   '/the-presidency/presidential-speeches/december-8-1790-second-annual-message-congress',\n",
       "   '/the-presidency/presidential-speeches/january-8-1790-first-annual-message-congress',\n",
       "   '/the-presidency/presidential-speeches/october-3-1789-thanksgiving-proclamation',\n",
       "   '/the-presidency/presidential-speeches/april-30-1789-first-inaugural-address']},\n",
       " {'president_name': 'Richard M. Nixon',\n",
       "  'speeches_links': ['/the-presidency/presidential-speeches/august-9-1974-remarks-departure-white-house',\n",
       "   '/the-presidency/presidential-speeches/august-8-1974-address-nation-announcing-decision-resign-office',\n",
       "   '/the-presidency/presidential-speeches/april-29-1974-address-nation-presidential-tape-recordings',\n",
       "   '/the-presidency/presidential-speeches/february-25-1974-presidents-news-conference',\n",
       "   '/the-presidency/presidential-speeches/january-30-1974-state-union-address',\n",
       "   '/the-presidency/presidential-speeches/august-15-1973-address-nation-about-watergate-investigations',\n",
       "   '/the-presidency/presidential-speeches/april-30-1973-address-nation-about-watergate-investigations',\n",
       "   '/the-presidency/presidential-speeches/january-23-1973-address-nation-announcing-agreement-ending-war',\n",
       "   '/the-presidency/presidential-speeches/january-20-1973-second-inaugural-address',\n",
       "   '/the-presidency/presidential-speeches/november-7-1972-remarks-being-reelected-presidency',\n",
       "   '/the-presidency/presidential-speeches/november-6-1972-remarks-election-eve',\n",
       "   '/the-presidency/presidential-speeches/may-8-1972-address-nation-situation-southeast-asia',\n",
       "   '/the-presidency/presidential-speeches/january-25-1972-address-nation-plan-peace-vietnam',\n",
       "   '/the-presidency/presidential-speeches/january-20-1972-state-union-address',\n",
       "   '/the-presidency/presidential-speeches/may-20-1971-remarks-announcing-agreement-strategic-arms',\n",
       "   '/the-presidency/presidential-speeches/april-7-1971-address-nation-situation-southeast-asia',\n",
       "   '/the-presidency/presidential-speeches/february-25-1971-radio-address-about-second-annual-foreign',\n",
       "   '/the-presidency/presidential-speeches/january-22-1971-state-union-address',\n",
       "   '/the-presidency/presidential-speeches/april-30-1970-address-nation-situation-southeast-asia',\n",
       "   '/the-presidency/presidential-speeches/january-22-1970-state-union-address',\n",
       "   '/the-presidency/presidential-speeches/november-3-1969-address-nation-war-vietnam',\n",
       "   '/the-presidency/presidential-speeches/january-20-1969-first-inaugural-address',\n",
       "   '/the-presidency/presidential-speeches/september-23-1952-checkers-speech']},\n",
       " {'president_name': 'Ronald Reagan',\n",
       "  'speeches_links': ['/the-presidency/presidential-speeches/january-11-1989-farewell-address',\n",
       "   '/the-presidency/presidential-speeches/december-16-1988-speech-foreign-policy',\n",
       "   '/the-presidency/presidential-speeches/november-11-1988-remarks-veterans-day-ceremony',\n",
       "   '/the-presidency/presidential-speeches/september-26-1988-address-united-nations',\n",
       "   '/the-presidency/presidential-speeches/august-15-1988-farewell-address-republican-national-convention',\n",
       "   '/the-presidency/presidential-speeches/may-31-1988-address-moscow-state-university',\n",
       "   '/the-presidency/presidential-speeches/january-25-1988-state-union-address',\n",
       "   '/the-presidency/presidential-speeches/december-10-1987-address-nation-soviet-us-summit-meeting',\n",
       "   '/the-presidency/presidential-speeches/december-8-1987-remarks-signing-inf-treaty-soviet-premier',\n",
       "   '/the-presidency/presidential-speeches/june-12-1987-address-brandenburg-gate-berlin-wall',\n",
       "   '/the-presidency/presidential-speeches/march-4-1987-address-nation-iran-contra',\n",
       "   '/the-presidency/presidential-speeches/january-27-1987-state-union-address',\n",
       "   '/the-presidency/presidential-speeches/october-22-1986-remarks-signing-tax-reform-act',\n",
       "   '/the-presidency/presidential-speeches/october-13-1986-address-meetings-soviet-premier-gorbachev',\n",
       "   '/the-presidency/presidential-speeches/september-14-1986-speech-nation-campaign-against-drug-abuse',\n",
       "   '/the-presidency/presidential-speeches/april-14-1986-speech-nation-air-strikes-against-libya',\n",
       "   '/the-presidency/presidential-speeches/february-4-1986-state-union-address',\n",
       "   '/the-presidency/presidential-speeches/january-28-1986-address-space-shuttle-challenger',\n",
       "   '/the-presidency/presidential-speeches/november-21-1985-speech-geneva-summit',\n",
       "   '/the-presidency/presidential-speeches/may-5-1985-bergen-belsen-concentration-camp',\n",
       "   '/the-presidency/presidential-speeches/february-6-1985-state-union-address',\n",
       "   '/the-presidency/presidential-speeches/january-21-1985-second-inaugural-address',\n",
       "   '/the-presidency/presidential-speeches/october-21-1984-debate-walter-mondale-defense-and-foreign',\n",
       "   '/the-presidency/presidential-speeches/october-7-1984-debate-walter-mondale-domestic-issues',\n",
       "   '/the-presidency/presidential-speeches/august-23-1984-republican-national-convention',\n",
       "   '/the-presidency/presidential-speeches/june-6-1984-40th-anniversary-d-day',\n",
       "   '/the-presidency/presidential-speeches/june-3-1984-remarks-citizens-ballyporeen-ireland',\n",
       "   '/the-presidency/presidential-speeches/may-28-1984-remarks-honoring-vietnam-wars-unknown-soldier',\n",
       "   '/the-presidency/presidential-speeches/january-29-1984-address-announcing-his-candidacy-reelection',\n",
       "   '/the-presidency/presidential-speeches/january-25-1984-state-union-address',\n",
       "   '/the-presidency/presidential-speeches/november-4-1983-remarks-us-casualties-lebanon-and-grenada',\n",
       "   '/the-presidency/presidential-speeches/november-2-1983-speech-creation-martin-luther-king-jr-national',\n",
       "   '/the-presidency/presidential-speeches/october-27-1983-speech-nation-lebanon-and-grenada',\n",
       "   '/the-presidency/presidential-speeches/september-5-1983-speech-soviet-attack-korean-airliner',\n",
       "   '/the-presidency/presidential-speeches/april-27-1983-address-central-america',\n",
       "   '/the-presidency/presidential-speeches/march-23-1983-address-nation-national-security',\n",
       "   '/the-presidency/presidential-speeches/march-8-1983-evil-empire-speech',\n",
       "   '/the-presidency/presidential-speeches/february-18-1983-speech-conservative-political-action',\n",
       "   '/the-presidency/presidential-speeches/january-25-1983-state-union-address',\n",
       "   '/the-presidency/presidential-speeches/september-20-1982-address-nation-lebanon',\n",
       "   '/the-presidency/presidential-speeches/september-1-1982-speech-nation-us-policy-middle-east',\n",
       "   '/the-presidency/presidential-speeches/august-16-1982-address-tax-and-budget-legislation',\n",
       "   '/the-presidency/presidential-speeches/june-17-1982-speech-united-nations-general-assembly',\n",
       "   '/the-presidency/presidential-speeches/june-9-1982-address-bundestag-west-germany',\n",
       "   '/the-presidency/presidential-speeches/june-8-1982-address-british-parliament',\n",
       "   '/the-presidency/presidential-speeches/january-26-1982-state-union-address',\n",
       "   '/the-presidency/presidential-speeches/december-23-1981-address-nation-christmas-and-situation-poland',\n",
       "   '/the-presidency/presidential-speeches/november-18-1981-speech-strategic-arms-reduction-talks',\n",
       "   '/the-presidency/presidential-speeches/august-3-1981-remarks-air-traffic-controllers-strike',\n",
       "   '/the-presidency/presidential-speeches/july-27-1981-address-federal-tax-reduction-legislation',\n",
       "   '/the-presidency/presidential-speeches/june-29-1981-speech-naacp-annual-convention',\n",
       "   '/the-presidency/presidential-speeches/may-17-1981-address-university-notre-dame',\n",
       "   '/the-presidency/presidential-speeches/april-28-1981-address-program-economic-recovery',\n",
       "   '/the-presidency/presidential-speeches/january-29-1981-first-press-conference',\n",
       "   '/the-presidency/presidential-speeches/january-20-1981-first-inaugural-address',\n",
       "   '/the-presidency/presidential-speeches/july-17-1980-republican-national-convention',\n",
       "   '/the-presidency/presidential-speeches/november-13-1979-announcement-presidential-candidacy',\n",
       "   '/the-presidency/presidential-speeches/august-19-1976-remarks-republican-national-convention',\n",
       "   '/the-presidency/presidential-speeches/october-27-1964-time-choosing']},\n",
       " {'president_name': 'Thomas Jefferson',\n",
       "  'speeches_links': ['/the-presidency/presidential-speeches/april-3-1809-message-inhabitants-albemarle-county',\n",
       "   '/the-presidency/presidential-speeches/november-8-1808-eighth-annual-message',\n",
       "   '/the-presidency/presidential-speeches/october-27-1807-seventh-annual-message',\n",
       "   '/the-presidency/presidential-speeches/july-2-1807-proclamation-response-chesapeake-affair',\n",
       "   '/the-presidency/presidential-speeches/february-10-1807-special-message-congress-gun-boats',\n",
       "   '/the-presidency/presidential-speeches/january-22-1807-special-message-congress-burr-conspiracy',\n",
       "   '/the-presidency/presidential-speeches/december-30-1806-address-wolf-and-people-mandan-nation',\n",
       "   '/the-presidency/presidential-speeches/december-2-1806-sixth-annual-message',\n",
       "   '/the-presidency/presidential-speeches/november-27-1806-proclamation-spanish-territory',\n",
       "   '/the-presidency/presidential-speeches/january-10-1806-address-chiefs-cherokee-nation',\n",
       "   '/the-presidency/presidential-speeches/december-6-1805-special-message-congress-foreign-policy',\n",
       "   '/the-presidency/presidential-speeches/december-3-1805-fifth-annual-message',\n",
       "   '/the-presidency/presidential-speeches/march-4-1805-second-inaugural-address',\n",
       "   '/the-presidency/presidential-speeches/november-8-1804-fourth-annual-message',\n",
       "   '/the-presidency/presidential-speeches/december-17-1803-address-brothers-choctaw-nation',\n",
       "   '/the-presidency/presidential-speeches/october-17-1803-third-annual-message',\n",
       "   '/the-presidency/presidential-speeches/june-20-1803-instructions-captain-lewis',\n",
       "   '/the-presidency/presidential-speeches/january-18-1803-special-message-congress-indian-policy',\n",
       "   '/the-presidency/presidential-speeches/december-15-1802-second-annual-message',\n",
       "   '/the-presidency/presidential-speeches/november-3-1802-address-brother-handsome-lake',\n",
       "   '/the-presidency/presidential-speeches/january-1-1802-response-danbury-baptist-association',\n",
       "   '/the-presidency/presidential-speeches/december-8-1801-first-annual-message',\n",
       "   '/the-presidency/presidential-speeches/july-12-1801-reply-new-haven-remonstrance',\n",
       "   '/the-presidency/presidential-speeches/march-4-1801-first-inaugural-address']}]"
      ]
     },
     "execution_count": 10,
     "metadata": {},
     "output_type": "execute_result"
    }
   ],
   "source": [
    "presidential_dictionary_list"
   ]
  },
  {
   "cell_type": "markdown",
   "metadata": {},
   "source": [
    "### Fetch speeches from the site\n",
    "now that we have the links of the speeches, we can fetch them and extract the content\n",
    "we will save them in files titled by date__title, corresponding to every president"
   ]
  },
  {
   "cell_type": "code",
   "execution_count": null,
   "metadata": {},
   "outputs": [],
   "source": [
    "# format speech titles to be appropriate for usage as file names\n",
    "import re\n",
    "def file_name_format(text):\n",
    "    return re.sub('[^A-Za-z0-9\\-\\_]+', '', text)"
   ]
  },
  {
   "cell_type": "code",
   "execution_count": null,
   "metadata": {
    "scrolled": false
   },
   "outputs": [],
   "source": [
    "for presidential_dictionary in presidential_dictionary_list:\n",
    "    print(\"extracting speeches of president {}\".format(presidential_dictionary['president_name']))\n",
    "    speech_counter = 1\n",
    "    total_speeches = len(presidential_dictionary['speeches_links'])\n",
    "    for speech_link in presidential_dictionary['speeches_links']:\n",
    "        try:\n",
    "            resp = requests.get(\"https://millercenter.org/{}\".format(speech_link))\n",
    "        except requests.exceptions.RequestException as e:\n",
    "            print(e)\n",
    "        print(\"speech {}/{}\".format(speech_counter,total_speeches))\n",
    "        speech_counter+=1\n",
    "        if resp.status_code == 200:\n",
    "            soup = BeautifulSoup(resp._content)\n",
    "            president_speech = ''\n",
    "            # the speech is present inside a <div> with class \"view-transcript\", as a set of <p> tags\n",
    "            for transcripts in soup.find_all('div', { \"class\" : \"view-transcript\"}): # there is only one view-transcript per page\n",
    "                ps = transcripts.find_all('p')\n",
    "                president_speech = ' '.join([p.text for p in ps])\n",
    "            # get the title and date of every speech, and name the file accordingly\n",
    "            for title in soup.find_all('h2', { \"class\" : \"presidential-speeches--title\"}):\n",
    "                ttl = title.find('span').text\n",
    "                date_speech_title = ttl.split(\":\")\n",
    "                date = date_speech_title[0].strip()\n",
    "                speech_title = date_speech_title[1].strip()\n",
    "            with open(path+presidential_dictionary['president_name']+\"/speeches/\"+date+\"__\"+file_name_format(speech_title)+\".txt\",\"w+\") as out_file:\n",
    "                out_file.write(str(president_speech.encode('utf8')))"
   ]
  },
  {
   "cell_type": "markdown",
   "metadata": {},
   "source": [
    "# fin\n",
    "After running this code, all the speeches are be saved inside their corresponding president folder"
   ]
  },
  {
   "cell_type": "markdown",
   "metadata": {},
   "source": [
    "## Problem noticed\n",
    "\n",
    "Like we told you, we have a problem, when you will download this file you'll maybe face an isssue, indeed plots that we have done are maybe not showing. To see them please load the notebook and to save time don't launch the deep learning part (if you want to launch it you'll need to download the GloVe file and others dependencies)."
   ]
  },
  {
   "cell_type": "code",
   "execution_count": 111,
   "metadata": {},
   "outputs": [
    {
     "data": {
      "text/html": [
       "        <script type=\"text/javascript\">\n",
       "        window.PlotlyConfig = {MathJaxConfig: 'local'};\n",
       "        if (window.MathJax) {MathJax.Hub.Config({SVG: {font: \"STIX-Web\"}});}\n",
       "        if (typeof require !== 'undefined') {\n",
       "        require.undef(\"plotly\");\n",
       "        requirejs.config({\n",
       "            paths: {\n",
       "                'plotly': ['https://cdn.plot.ly/plotly-latest.min']\n",
       "            }\n",
       "        });\n",
       "        require(['plotly'], function(Plotly) {\n",
       "            window._Plotly = Plotly;\n",
       "        });\n",
       "        }\n",
       "        </script>\n",
       "        "
      ]
     },
     "metadata": {},
     "output_type": "display_data"
    }
   ],
   "source": [
    "import numpy as np\n",
    "from numpy import empty\n",
    "from numpy import array\n",
    "from numpy import asarray\n",
    "from numpy import zeros\n",
    "import pandas as pd\n",
    "import matplotlib.pyplot as plt\n",
    "from matplotlib.widgets import CheckButtons\n",
    "import string\n",
    "from os import walk\n",
    "from bs4 import BeautifulSoup\n",
    "import plotly\n",
    "import plotly.offline as py\n",
    "import plotly.graph_objs as go\n",
    "#import plotly.express as px\n",
    "from keras.preprocessing.text import one_hot\n",
    "from keras.preprocessing.sequence import pad_sequences\n",
    "from keras.models import Sequential\n",
    "from keras.layers.core import Activation, Dropout, Dense\n",
    "from keras.layers import Flatten, LSTM\n",
    "from keras.layers import GlobalMaxPooling1D\n",
    "from keras.models import Model\n",
    "from keras.layers.embeddings import Embedding\n",
    "from keras.preprocessing.text import Tokenizer\n",
    "from keras.layers import Input\n",
    "from keras.layers.merge import Concatenate\n",
    "from vaderSentiment.vaderSentiment import SentimentIntensityAnalyzer\n",
    "import warnings\n",
    "import nltk\n",
    "from nltk.corpus import stopwords\n",
    "from nltk.tokenize import word_tokenize\n",
    "from nltk.stem import PorterStemmer\n",
    "import re\n",
    "from sklearn.model_selection import train_test_split\n",
    "from sklearn.feature_extraction.text import TfidfTransformer\n",
    "from sklearn.feature_extraction.text import TfidfVectorizer\n",
    "from sklearn.neighbors import KNeighborsClassifier\n",
    "from sklearn.metrics  import accuracy_score\n",
    "from sklearn.linear_model import LogisticRegression\n",
    "from sklearn.model_selection import GridSearchCV \n",
    "from sklearn import svm\n",
    "from sklearn.metrics import classification_report, confusion_matrix \n",
    "from datetime import datetime\n",
    "\n",
    "warnings.filterwarnings('ignore')\n",
    "\n",
    "plotly.offline.init_notebook_mode(connected=True)"
   ]
  },
  {
   "cell_type": "code",
   "execution_count": 112,
   "metadata": {},
   "outputs": [],
   "source": [
    "df = pd.DataFrame(columns=['Name', 'Title', 'Text'])\n",
    "# List all subdirectories using os.listdir\n",
    "basepath = path\n",
    "for entry in os.listdir(basepath):\n",
    "    if os.path.isdir(os.path.join(basepath, entry)):\n",
    "        for entry1 in os.listdir(basepath+\"\"+entry):\n",
    "            if os.path.isdir(os.path.join(basepath+\"\"+entry, entry1)):                \n",
    "                f = []\n",
    "                for (dirpath, dirnames, filenames) in walk(basepath+\"\"+entry+\"/\"+entry1):  \n",
    "                    f.extend(filenames)\n",
    "                    for i in filenames:\n",
    "                        file1 = open(basepath+\"\"+entry+\"/\"+entry1+\"/\"+i,\"r\") \n",
    "                        df = df.append({'Name': entry, 'Title' : i, 'Text' : file1.read()}, ignore_index=True)\n",
    "                        file1.close()\n",
    "                    break"
   ]
  },
  {
   "cell_type": "code",
   "execution_count": 113,
   "metadata": {},
   "outputs": [
    {
     "data": {
      "text/html": [
       "<div>\n",
       "<style scoped>\n",
       "    .dataframe tbody tr th:only-of-type {\n",
       "        vertical-align: middle;\n",
       "    }\n",
       "\n",
       "    .dataframe tbody tr th {\n",
       "        vertical-align: top;\n",
       "    }\n",
       "\n",
       "    .dataframe thead th {\n",
       "        text-align: right;\n",
       "    }\n",
       "</style>\n",
       "<table border=\"1\" class=\"dataframe\">\n",
       "  <thead>\n",
       "    <tr style=\"text-align: right;\">\n",
       "      <th></th>\n",
       "      <th>Name</th>\n",
       "      <th>Title</th>\n",
       "      <th>Text</th>\n",
       "    </tr>\n",
       "  </thead>\n",
       "  <tbody>\n",
       "    <tr>\n",
       "      <td>0</td>\n",
       "      <td>Andrew Jackson</td>\n",
       "      <td>April 15, 1834__ProtestofSenateCensure.txt</td>\n",
       "      <td>b'To the Senate of the United States:\\nIt appe...</td>\n",
       "    </tr>\n",
       "    <tr>\n",
       "      <td>1</td>\n",
       "      <td>Andrew Jackson</td>\n",
       "      <td>April 21, 1834__AddendumtotheProtestofSenateCe...</td>\n",
       "      <td>b'To the Senate of the United States:\\nHaving ...</td>\n",
       "    </tr>\n",
       "    <tr>\n",
       "      <td>2</td>\n",
       "      <td>Andrew Jackson</td>\n",
       "      <td>December 1, 1834__SixthAnnualMessagetoCongress...</td>\n",
       "      <td>b'Fellow Citizens of the Senate and House of R...</td>\n",
       "    </tr>\n",
       "    <tr>\n",
       "      <td>3</td>\n",
       "      <td>Andrew Jackson</td>\n",
       "      <td>December 10, 1832__NullificationProclamation.txt</td>\n",
       "      <td>b'By Andrew Jackson, President of the United S...</td>\n",
       "    </tr>\n",
       "    <tr>\n",
       "      <td>4</td>\n",
       "      <td>Andrew Jackson</td>\n",
       "      <td>December 12, 1833__MessageontheConstitutionalR...</td>\n",
       "      <td>b'I have attentively considered the resolution...</td>\n",
       "    </tr>\n",
       "    <tr>\n",
       "      <td>...</td>\n",
       "      <td>...</td>\n",
       "      <td>...</td>\n",
       "      <td>...</td>\n",
       "    </tr>\n",
       "    <tr>\n",
       "      <td>370</td>\n",
       "      <td>Thomas Jefferson</td>\n",
       "      <td>November 3, 1802__AddresstoBrotherHandsomeLake...</td>\n",
       "      <td>b\"TO BROTHER HANDSOME LAKE:           I have r...</td>\n",
       "    </tr>\n",
       "    <tr>\n",
       "      <td>371</td>\n",
       "      <td>Thomas Jefferson</td>\n",
       "      <td>November 8, 1804__FourthAnnualMessage.txt</td>\n",
       "      <td>b'To the Senate and House of Representatives o...</td>\n",
       "    </tr>\n",
       "    <tr>\n",
       "      <td>372</td>\n",
       "      <td>Thomas Jefferson</td>\n",
       "      <td>November 8, 1808__EighthAnnualMessage.txt</td>\n",
       "      <td>b\"  TO THE SENATE AND HOUSE OF REPRESENTATIVES...</td>\n",
       "    </tr>\n",
       "    <tr>\n",
       "      <td>373</td>\n",
       "      <td>Thomas Jefferson</td>\n",
       "      <td>October 17, 1803__ThirdAnnualMessage.txt</td>\n",
       "      <td>b'TO THE SENATE AND HOUSE OF REPRESENTATIVES O...</td>\n",
       "    </tr>\n",
       "    <tr>\n",
       "      <td>374</td>\n",
       "      <td>Thomas Jefferson</td>\n",
       "      <td>October 27, 1807__SeventhAnnualMessage.txt</td>\n",
       "      <td>b\"  To the Senate and House of Representatives...</td>\n",
       "    </tr>\n",
       "  </tbody>\n",
       "</table>\n",
       "<p>375 rows × 3 columns</p>\n",
       "</div>"
      ],
      "text/plain": [
       "                 Name                                              Title  \\\n",
       "0      Andrew Jackson         April 15, 1834__ProtestofSenateCensure.txt   \n",
       "1      Andrew Jackson  April 21, 1834__AddendumtotheProtestofSenateCe...   \n",
       "2      Andrew Jackson  December 1, 1834__SixthAnnualMessagetoCongress...   \n",
       "3      Andrew Jackson   December 10, 1832__NullificationProclamation.txt   \n",
       "4      Andrew Jackson  December 12, 1833__MessageontheConstitutionalR...   \n",
       "..                ...                                                ...   \n",
       "370  Thomas Jefferson  November 3, 1802__AddresstoBrotherHandsomeLake...   \n",
       "371  Thomas Jefferson          November 8, 1804__FourthAnnualMessage.txt   \n",
       "372  Thomas Jefferson          November 8, 1808__EighthAnnualMessage.txt   \n",
       "373  Thomas Jefferson           October 17, 1803__ThirdAnnualMessage.txt   \n",
       "374  Thomas Jefferson         October 27, 1807__SeventhAnnualMessage.txt   \n",
       "\n",
       "                                                  Text  \n",
       "0    b'To the Senate of the United States:\\nIt appe...  \n",
       "1    b'To the Senate of the United States:\\nHaving ...  \n",
       "2    b'Fellow Citizens of the Senate and House of R...  \n",
       "3    b'By Andrew Jackson, President of the United S...  \n",
       "4    b'I have attentively considered the resolution...  \n",
       "..                                                 ...  \n",
       "370  b\"TO BROTHER HANDSOME LAKE:           I have r...  \n",
       "371  b'To the Senate and House of Representatives o...  \n",
       "372  b\"  TO THE SENATE AND HOUSE OF REPRESENTATIVES...  \n",
       "373  b'TO THE SENATE AND HOUSE OF REPRESENTATIVES O...  \n",
       "374  b\"  To the Senate and House of Representatives...  \n",
       "\n",
       "[375 rows x 3 columns]"
      ]
     },
     "execution_count": 113,
     "metadata": {},
     "output_type": "execute_result"
    }
   ],
   "source": [
    "df"
   ]
  },
  {
   "cell_type": "markdown",
   "metadata": {},
   "source": [
    "## Preprocessing"
   ]
  },
  {
   "cell_type": "code",
   "execution_count": 114,
   "metadata": {},
   "outputs": [],
   "source": [
    "df['Text'] = df['Text'].str.lower()"
   ]
  },
  {
   "cell_type": "code",
   "execution_count": 115,
   "metadata": {},
   "outputs": [
    {
     "data": {
      "text/html": [
       "<div>\n",
       "<style scoped>\n",
       "    .dataframe tbody tr th:only-of-type {\n",
       "        vertical-align: middle;\n",
       "    }\n",
       "\n",
       "    .dataframe tbody tr th {\n",
       "        vertical-align: top;\n",
       "    }\n",
       "\n",
       "    .dataframe thead th {\n",
       "        text-align: right;\n",
       "    }\n",
       "</style>\n",
       "<table border=\"1\" class=\"dataframe\">\n",
       "  <thead>\n",
       "    <tr style=\"text-align: right;\">\n",
       "      <th></th>\n",
       "      <th>Name</th>\n",
       "      <th>Title</th>\n",
       "      <th>Text</th>\n",
       "      <th>Cleaned</th>\n",
       "    </tr>\n",
       "  </thead>\n",
       "  <tbody>\n",
       "    <tr>\n",
       "      <td>0</td>\n",
       "      <td>Andrew Jackson</td>\n",
       "      <td>April 15, 1834__ProtestofSenateCensure.txt</td>\n",
       "      <td>to the senate of the united states: it appears...</td>\n",
       "      <td>to the senate of the united states it appears ...</td>\n",
       "    </tr>\n",
       "    <tr>\n",
       "      <td>1</td>\n",
       "      <td>Andrew Jackson</td>\n",
       "      <td>April 21, 1834__AddendumtotheProtestofSenateCe...</td>\n",
       "      <td>to the senate of the united states: having rea...</td>\n",
       "      <td>to the senate of the united states having reas...</td>\n",
       "    </tr>\n",
       "    <tr>\n",
       "      <td>2</td>\n",
       "      <td>Andrew Jackson</td>\n",
       "      <td>December 1, 1834__SixthAnnualMessagetoCongress...</td>\n",
       "      <td>fellow citizens of the senate and house of rep...</td>\n",
       "      <td>fellow citizens of the senate and house of rep...</td>\n",
       "    </tr>\n",
       "    <tr>\n",
       "      <td>3</td>\n",
       "      <td>Andrew Jackson</td>\n",
       "      <td>December 10, 1832__NullificationProclamation.txt</td>\n",
       "      <td>by andrew jackson, president of the united sta...</td>\n",
       "      <td>by andrew jackson president of the united stat...</td>\n",
       "    </tr>\n",
       "    <tr>\n",
       "      <td>4</td>\n",
       "      <td>Andrew Jackson</td>\n",
       "      <td>December 12, 1833__MessageontheConstitutionalR...</td>\n",
       "      <td>i have attentively considered the resolution o...</td>\n",
       "      <td>i have attentively considered the resolution o...</td>\n",
       "    </tr>\n",
       "    <tr>\n",
       "      <td>...</td>\n",
       "      <td>...</td>\n",
       "      <td>...</td>\n",
       "      <td>...</td>\n",
       "      <td>...</td>\n",
       "    </tr>\n",
       "    <tr>\n",
       "      <td>370</td>\n",
       "      <td>Thomas Jefferson</td>\n",
       "      <td>November 3, 1802__AddresstoBrotherHandsomeLake...</td>\n",
       "      <td>to brother handsome lake:           i have rec...</td>\n",
       "      <td>to brother handsome lake           i have rece...</td>\n",
       "    </tr>\n",
       "    <tr>\n",
       "      <td>371</td>\n",
       "      <td>Thomas Jefferson</td>\n",
       "      <td>November 8, 1804__FourthAnnualMessage.txt</td>\n",
       "      <td>to the senate and house of representatives of ...</td>\n",
       "      <td>to the senate and house of representatives of ...</td>\n",
       "    </tr>\n",
       "    <tr>\n",
       "      <td>372</td>\n",
       "      <td>Thomas Jefferson</td>\n",
       "      <td>November 8, 1808__EighthAnnualMessage.txt</td>\n",
       "      <td>to the senate and house of representatives o...</td>\n",
       "      <td>to the senate and house of representatives o...</td>\n",
       "    </tr>\n",
       "    <tr>\n",
       "      <td>373</td>\n",
       "      <td>Thomas Jefferson</td>\n",
       "      <td>October 17, 1803__ThirdAnnualMessage.txt</td>\n",
       "      <td>to the senate and house of representatives of ...</td>\n",
       "      <td>to the senate and house of representatives of ...</td>\n",
       "    </tr>\n",
       "    <tr>\n",
       "      <td>374</td>\n",
       "      <td>Thomas Jefferson</td>\n",
       "      <td>October 27, 1807__SeventhAnnualMessage.txt</td>\n",
       "      <td>to the senate and house of representatives o...</td>\n",
       "      <td>to the senate and house of representatives o...</td>\n",
       "    </tr>\n",
       "  </tbody>\n",
       "</table>\n",
       "<p>375 rows × 4 columns</p>\n",
       "</div>"
      ],
      "text/plain": [
       "                 Name                                              Title  \\\n",
       "0      Andrew Jackson         April 15, 1834__ProtestofSenateCensure.txt   \n",
       "1      Andrew Jackson  April 21, 1834__AddendumtotheProtestofSenateCe...   \n",
       "2      Andrew Jackson  December 1, 1834__SixthAnnualMessagetoCongress...   \n",
       "3      Andrew Jackson   December 10, 1832__NullificationProclamation.txt   \n",
       "4      Andrew Jackson  December 12, 1833__MessageontheConstitutionalR...   \n",
       "..                ...                                                ...   \n",
       "370  Thomas Jefferson  November 3, 1802__AddresstoBrotherHandsomeLake...   \n",
       "371  Thomas Jefferson          November 8, 1804__FourthAnnualMessage.txt   \n",
       "372  Thomas Jefferson          November 8, 1808__EighthAnnualMessage.txt   \n",
       "373  Thomas Jefferson           October 17, 1803__ThirdAnnualMessage.txt   \n",
       "374  Thomas Jefferson         October 27, 1807__SeventhAnnualMessage.txt   \n",
       "\n",
       "                                                  Text  \\\n",
       "0    to the senate of the united states: it appears...   \n",
       "1    to the senate of the united states: having rea...   \n",
       "2    fellow citizens of the senate and house of rep...   \n",
       "3    by andrew jackson, president of the united sta...   \n",
       "4    i have attentively considered the resolution o...   \n",
       "..                                                 ...   \n",
       "370  to brother handsome lake:           i have rec...   \n",
       "371  to the senate and house of representatives of ...   \n",
       "372    to the senate and house of representatives o...   \n",
       "373  to the senate and house of representatives of ...   \n",
       "374    to the senate and house of representatives o...   \n",
       "\n",
       "                                               Cleaned  \n",
       "0    to the senate of the united states it appears ...  \n",
       "1    to the senate of the united states having reas...  \n",
       "2    fellow citizens of the senate and house of rep...  \n",
       "3    by andrew jackson president of the united stat...  \n",
       "4    i have attentively considered the resolution o...  \n",
       "..                                                 ...  \n",
       "370  to brother handsome lake           i have rece...  \n",
       "371  to the senate and house of representatives of ...  \n",
       "372    to the senate and house of representatives o...  \n",
       "373  to the senate and house of representatives of ...  \n",
       "374    to the senate and house of representatives o...  \n",
       "\n",
       "[375 rows x 4 columns]"
      ]
     },
     "execution_count": 115,
     "metadata": {},
     "output_type": "execute_result"
    }
   ],
   "source": [
    "df['Text'] = df['Text'].str.replace(\"b'\", \"\")\n",
    "df['Text'] = df['Text'].str.replace('b\"', '')\n",
    "df['Text'] = df['Text'].str.replace('\\xc2', '')\n",
    "df['Text'] = df['Text'].str.replace('\\xa0', '')\n",
    "df['Text'] = df['Text'].str.replace('\\xe2', '')\n",
    "df['Text'] = df['Text'].str.replace('\\x99', '')\n",
    "df['Text'] = df['Text'].str.replace('\\x80', '')\n",
    "df['Text'] = df['Text'].str.replace('\\x93', '')\n",
    "df['Text'] = df['Text'].str.replace('\\x99re', '')\n",
    "df['Text'] = df['Text'].str.replace('\\x94', '')\n",
    "df['Text'] = df['Text'].str.replace('\\x99ve', '')\n",
    "df['Text'] = df['Text'].str.replace('\\x9d', '')\n",
    "df['Text'] = df['Text'].str.replace(\"'\", \"\")\n",
    "df['Text'] = df['Text'].str.replace(\"/\", \"\")\n",
    "df = df.replace(r'\\\\n',' ', regex=True) \n",
    "\n",
    "\n",
    "df['Cleaned'] = df['Text'].apply(lambda x:''.join([i for i in x if i not in string.punctuation]))\n",
    "df"
   ]
  },
  {
   "cell_type": "code",
   "execution_count": 116,
   "metadata": {},
   "outputs": [],
   "source": [
    "stop = stopwords.words('english')\n",
    "df['Cleaned'] = df['Cleaned'].apply(lambda x: ' '.join([word for word in x.split() if word not in (stop)]))"
   ]
  },
  {
   "cell_type": "code",
   "execution_count": 117,
   "metadata": {},
   "outputs": [
    {
     "data": {
      "text/html": [
       "<div>\n",
       "<style scoped>\n",
       "    .dataframe tbody tr th:only-of-type {\n",
       "        vertical-align: middle;\n",
       "    }\n",
       "\n",
       "    .dataframe tbody tr th {\n",
       "        vertical-align: top;\n",
       "    }\n",
       "\n",
       "    .dataframe thead th {\n",
       "        text-align: right;\n",
       "    }\n",
       "</style>\n",
       "<table border=\"1\" class=\"dataframe\">\n",
       "  <thead>\n",
       "    <tr style=\"text-align: right;\">\n",
       "      <th></th>\n",
       "      <th>Name</th>\n",
       "      <th>Title</th>\n",
       "      <th>Text</th>\n",
       "      <th>Cleaned</th>\n",
       "    </tr>\n",
       "  </thead>\n",
       "  <tbody>\n",
       "    <tr>\n",
       "      <td>0</td>\n",
       "      <td>Andrew Jackson</td>\n",
       "      <td>April 15, 1834__ProtestofSenateCensure.txt</td>\n",
       "      <td>to the senate of the united states: it appears...</td>\n",
       "      <td>senat unit state appear publish journal senat ...</td>\n",
       "    </tr>\n",
       "    <tr>\n",
       "      <td>1</td>\n",
       "      <td>Andrew Jackson</td>\n",
       "      <td>April 21, 1834__AddendumtotheProtestofSenateCe...</td>\n",
       "      <td>to the senate of the united states: having rea...</td>\n",
       "      <td>senat unit state reason believ certain passag ...</td>\n",
       "    </tr>\n",
       "    <tr>\n",
       "      <td>2</td>\n",
       "      <td>Andrew Jackson</td>\n",
       "      <td>December 1, 1834__SixthAnnualMessagetoCongress...</td>\n",
       "      <td>fellow citizens of the senate and house of rep...</td>\n",
       "      <td>fellow citizen senat hous repres perform duti ...</td>\n",
       "    </tr>\n",
       "    <tr>\n",
       "      <td>3</td>\n",
       "      <td>Andrew Jackson</td>\n",
       "      <td>December 10, 1832__NullificationProclamation.txt</td>\n",
       "      <td>by andrew jackson, president of the united sta...</td>\n",
       "      <td>andrew jackson presid unit state wherea conven...</td>\n",
       "    </tr>\n",
       "    <tr>\n",
       "      <td>4</td>\n",
       "      <td>Andrew Jackson</td>\n",
       "      <td>December 12, 1833__MessageontheConstitutionalR...</td>\n",
       "      <td>i have attentively considered the resolution o...</td>\n",
       "      <td>attent consid resolut senat th instant request...</td>\n",
       "    </tr>\n",
       "    <tr>\n",
       "      <td>...</td>\n",
       "      <td>...</td>\n",
       "      <td>...</td>\n",
       "      <td>...</td>\n",
       "      <td>...</td>\n",
       "    </tr>\n",
       "    <tr>\n",
       "      <td>370</td>\n",
       "      <td>Thomas Jefferson</td>\n",
       "      <td>November 3, 1802__AddresstoBrotherHandsomeLake...</td>\n",
       "      <td>to brother handsome lake:           i have rec...</td>\n",
       "      <td>brother handsom lake receiv messag write sent ...</td>\n",
       "    </tr>\n",
       "    <tr>\n",
       "      <td>371</td>\n",
       "      <td>Thomas Jefferson</td>\n",
       "      <td>November 8, 1804__FourthAnnualMessage.txt</td>\n",
       "      <td>to the senate and house of representatives of ...</td>\n",
       "      <td>senat hous repres unit state peopl fellowcitiz...</td>\n",
       "    </tr>\n",
       "    <tr>\n",
       "      <td>372</td>\n",
       "      <td>Thomas Jefferson</td>\n",
       "      <td>November 8, 1808__EighthAnnualMessage.txt</td>\n",
       "      <td>to the senate and house of representatives o...</td>\n",
       "      <td>senat hous repres unit state would sourc fello...</td>\n",
       "    </tr>\n",
       "    <tr>\n",
       "      <td>373</td>\n",
       "      <td>Thomas Jefferson</td>\n",
       "      <td>October 17, 1803__ThirdAnnualMessage.txt</td>\n",
       "      <td>to the senate and house of representatives of ...</td>\n",
       "      <td>senat hous repres unit state call togeth fello...</td>\n",
       "    </tr>\n",
       "    <tr>\n",
       "      <td>374</td>\n",
       "      <td>Thomas Jefferson</td>\n",
       "      <td>October 27, 1807__SeventhAnnualMessage.txt</td>\n",
       "      <td>to the senate and house of representatives o...</td>\n",
       "      <td>senat hous repres unit state circumst fellowci...</td>\n",
       "    </tr>\n",
       "  </tbody>\n",
       "</table>\n",
       "<p>375 rows × 4 columns</p>\n",
       "</div>"
      ],
      "text/plain": [
       "                 Name                                              Title  \\\n",
       "0      Andrew Jackson         April 15, 1834__ProtestofSenateCensure.txt   \n",
       "1      Andrew Jackson  April 21, 1834__AddendumtotheProtestofSenateCe...   \n",
       "2      Andrew Jackson  December 1, 1834__SixthAnnualMessagetoCongress...   \n",
       "3      Andrew Jackson   December 10, 1832__NullificationProclamation.txt   \n",
       "4      Andrew Jackson  December 12, 1833__MessageontheConstitutionalR...   \n",
       "..                ...                                                ...   \n",
       "370  Thomas Jefferson  November 3, 1802__AddresstoBrotherHandsomeLake...   \n",
       "371  Thomas Jefferson          November 8, 1804__FourthAnnualMessage.txt   \n",
       "372  Thomas Jefferson          November 8, 1808__EighthAnnualMessage.txt   \n",
       "373  Thomas Jefferson           October 17, 1803__ThirdAnnualMessage.txt   \n",
       "374  Thomas Jefferson         October 27, 1807__SeventhAnnualMessage.txt   \n",
       "\n",
       "                                                  Text  \\\n",
       "0    to the senate of the united states: it appears...   \n",
       "1    to the senate of the united states: having rea...   \n",
       "2    fellow citizens of the senate and house of rep...   \n",
       "3    by andrew jackson, president of the united sta...   \n",
       "4    i have attentively considered the resolution o...   \n",
       "..                                                 ...   \n",
       "370  to brother handsome lake:           i have rec...   \n",
       "371  to the senate and house of representatives of ...   \n",
       "372    to the senate and house of representatives o...   \n",
       "373  to the senate and house of representatives of ...   \n",
       "374    to the senate and house of representatives o...   \n",
       "\n",
       "                                               Cleaned  \n",
       "0    senat unit state appear publish journal senat ...  \n",
       "1    senat unit state reason believ certain passag ...  \n",
       "2    fellow citizen senat hous repres perform duti ...  \n",
       "3    andrew jackson presid unit state wherea conven...  \n",
       "4    attent consid resolut senat th instant request...  \n",
       "..                                                 ...  \n",
       "370  brother handsom lake receiv messag write sent ...  \n",
       "371  senat hous repres unit state peopl fellowcitiz...  \n",
       "372  senat hous repres unit state would sourc fello...  \n",
       "373  senat hous repres unit state call togeth fello...  \n",
       "374  senat hous repres unit state circumst fellowci...  \n",
       "\n",
       "[375 rows x 4 columns]"
      ]
     },
     "execution_count": 117,
     "metadata": {},
     "output_type": "execute_result"
    }
   ],
   "source": [
    "stemmer = PorterStemmer()\n",
    "w_tokenizer = nltk.tokenize.WhitespaceTokenizer()\n",
    "\n",
    "def scrub_words(text):\n",
    "    \"\"\"Basic cleaning of texts.\"\"\"\n",
    "\n",
    "    # remove html markup\n",
    "    text=re.sub(\"(<.*?>)\",\"\",text)\n",
    "\n",
    "    #remove non-ascii and digits\n",
    "    text=re.sub(\"(\\W|\\d)\",\" \",text)\n",
    "\n",
    "    #remove whitespace\n",
    "    text=text.strip()\n",
    "    return text\n",
    "\n",
    "\n",
    "\n",
    "def test(text):\n",
    "    return [scrub_words(w) for w in w_tokenizer.tokenize(text)]\n",
    "\n",
    "\n",
    "def lemmatize_text(text):\n",
    "    return [stemmer.stem(w) for w in w_tokenizer.tokenize(text)]\n",
    "\n",
    "df['Cleaned'] = df.Cleaned.apply(lemmatize_text)\n",
    "df['Cleaned'] = [\" \".join(word) for word in df['Cleaned'].values]\n",
    "df['Cleaned'] = df.Cleaned.apply(test)\n",
    "df['Cleaned'] = [\" \".join(word) for word in df['Cleaned'].values]\n",
    "df"
   ]
  },
  {
   "cell_type": "markdown",
   "metadata": {},
   "source": [
    "**We split the dataset into 80/20 for every president set**"
   ]
  },
  {
   "cell_type": "code",
   "execution_count": 118,
   "metadata": {},
   "outputs": [],
   "source": [
    "X_trainFinal = pd.Series([])\n",
    "X_testFinal = pd.Series([])\n",
    "y_trainFinal = pd.Series([])\n",
    "y_testFinal = pd.Series([])\n",
    "\n",
    "X = df.iloc[:,3]\n",
    "y = df.iloc[:,0]\n",
    "\n",
    "for i in df.Name.unique():\n",
    "    df2 = df.groupby(\"Name\")\n",
    "    df3 = df2.get_group(i)\n",
    "    X_train, X_test, y_train, y_test = train_test_split(df3[\"Cleaned\"], df3[\"Name\"], test_size=0.2, random_state=21)\n",
    "    X_trainFinal = X_trainFinal.append(X_train)\n",
    "    X_testFinal = X_testFinal.append(X_test)\n",
    "    y_trainFinal = y_trainFinal.append(y_train)\n",
    "    y_testFinal = y_testFinal.append(y_test)"
   ]
  },
  {
   "cell_type": "markdown",
   "metadata": {},
   "source": [
    "**TF-IDF**"
   ]
  },
  {
   "cell_type": "code",
   "execution_count": 119,
   "metadata": {},
   "outputs": [],
   "source": [
    "vectorizer = TfidfVectorizer()\n",
    "train_vectors = vectorizer.fit_transform(X_trainFinal)\n",
    "test_vectors = vectorizer.transform(X_testFinal)"
   ]
  },
  {
   "cell_type": "markdown",
   "metadata": {},
   "source": [
    "**KNN classification**"
   ]
  },
  {
   "cell_type": "code",
   "execution_count": 120,
   "metadata": {},
   "outputs": [
    {
     "data": {
      "text/plain": [
       "0.759493670886076"
      ]
     },
     "execution_count": 120,
     "metadata": {},
     "output_type": "execute_result"
    }
   ],
   "source": [
    "knn = KNeighborsClassifier()\n",
    "knn.fit(train_vectors,y_trainFinal)\n",
    "pred = knn.predict(test_vectors)\n",
    "accuracy_score(pred,y_testFinal)"
   ]
  },
  {
   "cell_type": "markdown",
   "metadata": {},
   "source": [
    "**Logistic regression classification**"
   ]
  },
  {
   "cell_type": "code",
   "execution_count": 121,
   "metadata": {},
   "outputs": [
    {
     "data": {
      "text/plain": [
       "0.7974683544303798"
      ]
     },
     "execution_count": 121,
     "metadata": {},
     "output_type": "execute_result"
    }
   ],
   "source": [
    "clf = LogisticRegression(random_state=0).fit(train_vectors, y_trainFinal)\n",
    "pred = clf.predict(test_vectors)\n",
    "accuracy_score(pred,y_testFinal)"
   ]
  },
  {
   "cell_type": "markdown",
   "metadata": {},
   "source": [
    "**We do a GridSearchCV for our LinearSVC model with different regularization parameters**"
   ]
  },
  {
   "cell_type": "code",
   "execution_count": 122,
   "metadata": {},
   "outputs": [
    {
     "name": "stdout",
     "output_type": "stream",
     "text": [
      "Fitting 3 folds for each of 5 candidates, totalling 15 fits\n",
      "[CV] C=0.1 ...........................................................\n",
      "[CV] ............................... C=0.1, score=0.641, total=   0.1s\n",
      "[CV] C=0.1 ...........................................................\n"
     ]
    },
    {
     "name": "stderr",
     "output_type": "stream",
     "text": [
      "[Parallel(n_jobs=1)]: Using backend SequentialBackend with 1 concurrent workers.\n",
      "[Parallel(n_jobs=1)]: Done   1 out of   1 | elapsed:    0.0s remaining:    0.0s\n"
     ]
    },
    {
     "name": "stdout",
     "output_type": "stream",
     "text": [
      "[CV] ............................... C=0.1, score=0.724, total=   0.1s\n",
      "[CV] C=0.1 ...........................................................\n",
      "[CV] ............................... C=0.1, score=0.747, total=   0.1s\n",
      "[CV] C=1 .............................................................\n"
     ]
    },
    {
     "name": "stderr",
     "output_type": "stream",
     "text": [
      "[Parallel(n_jobs=1)]: Done   2 out of   2 | elapsed:    0.2s remaining:    0.0s\n"
     ]
    },
    {
     "name": "stdout",
     "output_type": "stream",
     "text": [
      "[CV] ................................. C=1, score=0.738, total=   0.2s\n",
      "[CV] C=1 .............................................................\n",
      "[CV] ................................. C=1, score=0.827, total=   0.2s\n",
      "[CV] C=1 .............................................................\n",
      "[CV] ................................. C=1, score=0.863, total=   0.3s\n",
      "[CV] C=10 ............................................................\n",
      "[CV] ................................ C=10, score=0.767, total=   0.5s\n",
      "[CV] C=10 ............................................................\n",
      "[CV] ................................ C=10, score=0.867, total=   0.4s\n",
      "[CV] C=10 ............................................................\n",
      "[CV] ................................ C=10, score=0.884, total=   0.5s\n",
      "[CV] C=100 ...........................................................\n",
      "[CV] ............................... C=100, score=0.767, total=   1.0s\n",
      "[CV] C=100 ...........................................................\n",
      "[CV] ............................... C=100, score=0.878, total=   1.4s\n",
      "[CV] C=100 ...........................................................\n",
      "[CV] ............................... C=100, score=0.905, total=   0.7s\n",
      "[CV] C=1000 ..........................................................\n",
      "[CV] .............................. C=1000, score=0.767, total=   0.8s\n",
      "[CV] C=1000 ..........................................................\n",
      "[CV] .............................. C=1000, score=0.888, total=   0.6s\n",
      "[CV] C=1000 ..........................................................\n",
      "[CV] .............................. C=1000, score=0.916, total=   0.8s\n"
     ]
    },
    {
     "name": "stderr",
     "output_type": "stream",
     "text": [
      "[Parallel(n_jobs=1)]: Done  15 out of  15 | elapsed:    7.7s finished\n"
     ]
    },
    {
     "data": {
      "text/plain": [
       "GridSearchCV(cv='warn', error_score='raise-deprecating',\n",
       "             estimator=LinearSVC(C=1.0, class_weight=None, dual=True,\n",
       "                                 fit_intercept=True, intercept_scaling=1,\n",
       "                                 loss='squared_hinge', max_iter=1000,\n",
       "                                 multi_class='ovr', penalty='l2',\n",
       "                                 random_state=None, tol=0.0001, verbose=0),\n",
       "             iid='warn', n_jobs=None, param_grid={'C': [0.1, 1, 10, 100, 1000]},\n",
       "             pre_dispatch='2*n_jobs', refit=True, return_train_score=False,\n",
       "             scoring=None, verbose=3)"
      ]
     },
     "execution_count": 122,
     "metadata": {},
     "output_type": "execute_result"
    }
   ],
   "source": [
    "# defining parameter range \n",
    "param_grid = {'C': [0.1, 1, 10, 100, 1000]}  \n",
    "  \n",
    "grid = GridSearchCV(svm.LinearSVC(), param_grid, refit = True, verbose = 3) \n",
    "  \n",
    "# fitting the model for grid search\n",
    "grid.fit(train_vectors, y_trainFinal)"
   ]
  },
  {
   "cell_type": "markdown",
   "metadata": {},
   "source": [
    "**LinearSVC classification**"
   ]
  },
  {
   "cell_type": "code",
   "execution_count": 123,
   "metadata": {},
   "outputs": [
    {
     "name": "stdout",
     "output_type": "stream",
     "text": [
      "0.9113924050632911\n",
      "                       precision    recall  f1-score   support\n",
      "\n",
      "       Andrew Jackson       0.86      1.00      0.92         6\n",
      "         Barack Obama       0.83      1.00      0.91        10\n",
      "         Bill Clinton       0.78      0.88      0.82         8\n",
      "         Donald Trump       1.00      0.80      0.89         5\n",
      "Franklin D. Roosevelt       1.00      1.00      1.00        10\n",
      "    George H. W. Bush       1.00      0.40      0.57         5\n",
      "       George W. Bush       1.00      0.88      0.93         8\n",
      "    George Washington       1.00      0.80      0.89         5\n",
      "     Richard M. Nixon       0.83      1.00      0.91         5\n",
      "        Ronald Reagan       0.92      1.00      0.96        12\n",
      "     Thomas Jefferson       1.00      1.00      1.00         5\n",
      "\n",
      "             accuracy                           0.91        79\n",
      "            macro avg       0.93      0.89      0.89        79\n",
      "         weighted avg       0.92      0.91      0.91        79\n",
      "\n"
     ]
    }
   ],
   "source": [
    "cf = svm.LinearSVC(C=1.0, class_weight=None, dual=True,\n",
    "                                 fit_intercept=True, intercept_scaling=1,\n",
    "                                 loss='squared_hinge', max_iter=1000,\n",
    "                                 multi_class='ovr', penalty='l2',\n",
    "                                 random_state=None, tol=0.0001, verbose=0)\n",
    "cf.fit(train_vectors, y_trainFinal)\n",
    "pred = cf.predict(test_vectors)\n",
    "print(accuracy_score(pred,y_testFinal))\n",
    "\n",
    "print(classification_report(y_testFinal, pred)) "
   ]
  },
  {
   "cell_type": "markdown",
   "metadata": {},
   "source": [
    "### Deep learning model"
   ]
  },
  {
   "cell_type": "code",
   "execution_count": 124,
   "metadata": {},
   "outputs": [
    {
     "data": {
      "text/html": [
       "<div>\n",
       "<style scoped>\n",
       "    .dataframe tbody tr th:only-of-type {\n",
       "        vertical-align: middle;\n",
       "    }\n",
       "\n",
       "    .dataframe tbody tr th {\n",
       "        vertical-align: top;\n",
       "    }\n",
       "\n",
       "    .dataframe thead th {\n",
       "        text-align: right;\n",
       "    }\n",
       "</style>\n",
       "<table border=\"1\" class=\"dataframe\">\n",
       "  <thead>\n",
       "    <tr style=\"text-align: right;\">\n",
       "      <th></th>\n",
       "      <th>Andrew Jackson</th>\n",
       "      <th>Barack Obama</th>\n",
       "      <th>Bill Clinton</th>\n",
       "      <th>Franklin D. Roosevelt</th>\n",
       "      <th>George W. Bush</th>\n",
       "      <th>George Washington</th>\n",
       "      <th>Richard M. Nixon</th>\n",
       "      <th>Ronald Reagan</th>\n",
       "      <th>Thomas Jefferson</th>\n",
       "    </tr>\n",
       "  </thead>\n",
       "  <tbody>\n",
       "    <tr>\n",
       "      <td>0</td>\n",
       "      <td>1</td>\n",
       "      <td>0</td>\n",
       "      <td>0</td>\n",
       "      <td>0</td>\n",
       "      <td>0</td>\n",
       "      <td>0</td>\n",
       "      <td>0</td>\n",
       "      <td>0</td>\n",
       "      <td>0</td>\n",
       "    </tr>\n",
       "    <tr>\n",
       "      <td>1</td>\n",
       "      <td>1</td>\n",
       "      <td>0</td>\n",
       "      <td>0</td>\n",
       "      <td>0</td>\n",
       "      <td>0</td>\n",
       "      <td>0</td>\n",
       "      <td>0</td>\n",
       "      <td>0</td>\n",
       "      <td>0</td>\n",
       "    </tr>\n",
       "    <tr>\n",
       "      <td>2</td>\n",
       "      <td>1</td>\n",
       "      <td>0</td>\n",
       "      <td>0</td>\n",
       "      <td>0</td>\n",
       "      <td>0</td>\n",
       "      <td>0</td>\n",
       "      <td>0</td>\n",
       "      <td>0</td>\n",
       "      <td>0</td>\n",
       "    </tr>\n",
       "    <tr>\n",
       "      <td>3</td>\n",
       "      <td>1</td>\n",
       "      <td>0</td>\n",
       "      <td>0</td>\n",
       "      <td>0</td>\n",
       "      <td>0</td>\n",
       "      <td>0</td>\n",
       "      <td>0</td>\n",
       "      <td>0</td>\n",
       "      <td>0</td>\n",
       "    </tr>\n",
       "    <tr>\n",
       "      <td>4</td>\n",
       "      <td>1</td>\n",
       "      <td>0</td>\n",
       "      <td>0</td>\n",
       "      <td>0</td>\n",
       "      <td>0</td>\n",
       "      <td>0</td>\n",
       "      <td>0</td>\n",
       "      <td>0</td>\n",
       "      <td>0</td>\n",
       "    </tr>\n",
       "  </tbody>\n",
       "</table>\n",
       "</div>"
      ],
      "text/plain": [
       "   Andrew Jackson  Barack Obama  Bill Clinton  Franklin D. Roosevelt  \\\n",
       "0               1             0             0                      0   \n",
       "1               1             0             0                      0   \n",
       "2               1             0             0                      0   \n",
       "3               1             0             0                      0   \n",
       "4               1             0             0                      0   \n",
       "\n",
       "   George W. Bush  George Washington  Richard M. Nixon  Ronald Reagan  \\\n",
       "0               0                  0                 0              0   \n",
       "1               0                  0                 0              0   \n",
       "2               0                  0                 0              0   \n",
       "3               0                  0                 0              0   \n",
       "4               0                  0                 0              0   \n",
       "\n",
       "   Thomas Jefferson  \n",
       "0                 0  \n",
       "1                 0  \n",
       "2                 0  \n",
       "3                 0  \n",
       "4                 0  "
      ]
     },
     "execution_count": 124,
     "metadata": {},
     "output_type": "execute_result"
    }
   ],
   "source": [
    "dfDummies = pd.get_dummies(df['Name'])\n",
    "\n",
    "name_label = dfDummies[[\"Andrew Jackson\", \"Barack Obama\", \"Bill Clinton\", \"Franklin D. Roosevelt\", \"George W. Bush\", \"George Washington\", \"Richard M. Nixon\", \"Ronald Reagan\", \"Thomas Jefferson\"]]\n",
    "name_label.head()"
   ]
  },
  {
   "cell_type": "markdown",
   "metadata": {},
   "source": [
    "**X and y**"
   ]
  },
  {
   "cell_type": "code",
   "execution_count": 125,
   "metadata": {},
   "outputs": [],
   "source": [
    "X = []\n",
    "sentences = list(df[\"Cleaned\"])\n",
    "\n",
    "for sen in sentences:\n",
    "    X.append(sen)\n",
    "\n",
    "y = name_label.values"
   ]
  },
  {
   "cell_type": "code",
   "execution_count": 126,
   "metadata": {},
   "outputs": [],
   "source": [
    "X_train, X_test, y_train, y_test = train_test_split(X, y, test_size=0.20, random_state=42)"
   ]
  },
  {
   "cell_type": "markdown",
   "metadata": {},
   "source": [
    "**Tokenization**"
   ]
  },
  {
   "cell_type": "code",
   "execution_count": 127,
   "metadata": {},
   "outputs": [],
   "source": [
    "tokenizer = Tokenizer(num_words=5000)\n",
    "tokenizer.fit_on_texts(X_train)\n",
    "\n",
    "X_train = tokenizer.texts_to_sequences(X_train)\n",
    "X_test = tokenizer.texts_to_sequences(X_test)\n",
    "\n",
    "vocab_size = len(tokenizer.word_index) + 1\n",
    "maxlen = 3000\n",
    "\n",
    "X_train = pad_sequences(X_train, padding='post', maxlen=maxlen)\n",
    "X_test = pad_sequences(X_test, padding='post', maxlen=maxlen)"
   ]
  },
  {
   "cell_type": "markdown",
   "metadata": {},
   "source": [
    "**We use a pretrained GloVe to do the word embedding**\n",
    "\n",
    "To download GloVe : https://nlp.stanford.edu/projects/glove/ | We took the Wikipedia2014 + Gigaword\n",
    "\n",
    "We used -> glove.6B.100d"
   ]
  },
  {
   "cell_type": "code",
   "execution_count": 128,
   "metadata": {},
   "outputs": [],
   "source": [
    "embeddings_dictionary = dict()\n",
    "\n",
    "glove_file = open('D:/Efrei/M1/Text mining/TP project1/glove.6B.100d.txt', encoding=\"utf8\")\n",
    "\n",
    "for line in glove_file:\n",
    "    records = line.split()\n",
    "    word = records[0]\n",
    "    vector_dimensions = asarray(records[1:], dtype='float32')\n",
    "    embeddings_dictionary[word] = vector_dimensions\n",
    "glove_file.close()\n",
    "\n",
    "embedding_matrix = zeros((vocab_size, 100))\n",
    "for word, index in tokenizer.word_index.items():\n",
    "    embedding_vector = embeddings_dictionary.get(word)\n",
    "    if embedding_vector is not None:\n",
    "        embedding_matrix[index] = embedding_vector"
   ]
  },
  {
   "cell_type": "markdown",
   "metadata": {},
   "source": [
    "**We create the LSTM model with 1 input layer | Embedding layer | LSTM layer | Dense layer**"
   ]
  },
  {
   "cell_type": "code",
   "execution_count": 129,
   "metadata": {},
   "outputs": [],
   "source": [
    "deep_inputs = Input(shape=(maxlen,))\n",
    "\n",
    "embedding_layer = Embedding(vocab_size, 100, weights=[embedding_matrix], trainable=False)(deep_inputs)\n",
    "LSTM_Layer_1 = LSTM(128)(embedding_layer)\n",
    "dense_layer_1 = Dense(9, activation='sigmoid')(LSTM_Layer_1)\n",
    "model = Model(inputs=deep_inputs, outputs=dense_layer_1)\n",
    "\n",
    "model.compile(loss='binary_crossentropy', optimizer='adam', metrics=['acc'])"
   ]
  },
  {
   "cell_type": "code",
   "execution_count": 130,
   "metadata": {},
   "outputs": [
    {
     "name": "stdout",
     "output_type": "stream",
     "text": [
      "Model: \"model_2\"\n",
      "_________________________________________________________________\n",
      "Layer (type)                 Output Shape              Param #   \n",
      "=================================================================\n",
      "input_2 (InputLayer)         (None, 3000)              0         \n",
      "_________________________________________________________________\n",
      "embedding_2 (Embedding)      (None, 3000, 100)         1906700   \n",
      "_________________________________________________________________\n",
      "lstm_2 (LSTM)                (None, 128)               117248    \n",
      "_________________________________________________________________\n",
      "dense_2 (Dense)              (None, 9)                 1161      \n",
      "=================================================================\n",
      "Total params: 2,025,109\n",
      "Trainable params: 118,409\n",
      "Non-trainable params: 1,906,700\n",
      "_________________________________________________________________\n",
      "None\n"
     ]
    }
   ],
   "source": [
    "print(model.summary())"
   ]
  },
  {
   "cell_type": "markdown",
   "metadata": {},
   "source": [
    "**We tried with many epoch (1, 3, 5, 10) but it is not very usefull to add more than 3**"
   ]
  },
  {
   "cell_type": "code",
   "execution_count": 131,
   "metadata": {
    "scrolled": true
   },
   "outputs": [
    {
     "name": "stdout",
     "output_type": "stream",
     "text": [
      "Train on 240 samples, validate on 60 samples\n",
      "Epoch 1/3\n",
      "240/240 [==============================] - 51s 215ms/step - loss: 0.6896 - acc: 0.8653 - val_loss: 0.6756 - val_acc: 0.8981\n",
      "Epoch 2/3\n",
      "240/240 [==============================] - 31s 129ms/step - loss: 0.6746 - acc: 0.8995 - val_loss: 0.6588 - val_acc: 0.9074\n",
      "Epoch 3/3\n",
      "240/240 [==============================] - 23s 94ms/step - loss: 0.6592 - acc: 0.9032 - val_loss: 0.6379 - val_acc: 0.9037\n"
     ]
    }
   ],
   "source": [
    "history = model.fit(X_train, y_train, batch_size=128, epochs=3, verbose=1, validation_split=0.2)"
   ]
  },
  {
   "cell_type": "code",
   "execution_count": 132,
   "metadata": {},
   "outputs": [
    {
     "name": "stdout",
     "output_type": "stream",
     "text": [
      "75/75 [==============================] - 2s 33ms/step\n",
      "Test Score: 0.6220561830202739\n",
      "Test Accuracy: 0.9007407426834106\n"
     ]
    }
   ],
   "source": [
    "score = model.evaluate(X_test, y_test, verbose=1)\n",
    "\n",
    "print(\"Test Score:\", score[0])\n",
    "print(\"Test Accuracy:\", score[1])"
   ]
  },
  {
   "cell_type": "markdown",
   "metadata": {},
   "source": [
    "# Sentiment Analysis"
   ]
  },
  {
   "cell_type": "markdown",
   "metadata": {},
   "source": [
    "### Order the presidents in chronological order, from oldest to newest"
   ]
  },
  {
   "cell_type": "code",
   "execution_count": 133,
   "metadata": {},
   "outputs": [],
   "source": [
    "df[\"Chrono\"] = \"\"\n",
    "for i, j in df.iterrows(): \n",
    "    if j.Name == \"George Washington\":\n",
    "        df[\"Chrono\"][i] = 1\n",
    "    if j.Name == \"Thomas Jefferson\":\n",
    "        df[\"Chrono\"][i] = 2\n",
    "    if j.Name == \"Andrew Jackson\":\n",
    "        df[\"Chrono\"][i] = 3\n",
    "    if j.Name == \"Franklin D. Roosevelt\":\n",
    "        df[\"Chrono\"][i] = 4\n",
    "    if j.Name == \"Richard M. Nixon\":\n",
    "        df[\"Chrono\"][i] = 5\n",
    "    if j.Name == \"Ronald Reagan\":\n",
    "        df[\"Chrono\"][i] = 6\n",
    "    if j.Name == \"George H. W. Bush\":\n",
    "        df[\"Chrono\"][i] = 7\n",
    "    if j.Name == \"Bill Clinton\":\n",
    "        df[\"Chrono\"][i] = 8\n",
    "    if j.Name == \"George W. Bush\":\n",
    "        df[\"Chrono\"][i] = 9\n",
    "    if j.Name == \"Barack Obama\":\n",
    "        df[\"Chrono\"][i] = 10\n",
    "    if j.Name == \"Donald Trump\":\n",
    "        df[\"Chrono\"][i] = 11"
   ]
  },
  {
   "cell_type": "markdown",
   "metadata": {},
   "source": [
    "### Order each of their speeches in chronological order as well, from oldest to newest."
   ]
  },
  {
   "cell_type": "code",
   "execution_count": 134,
   "metadata": {},
   "outputs": [],
   "source": [
    "df[\"Date\"] = \"\"\n",
    "\n",
    "def extractMax(input): \n",
    "    numbers = re.findall('\\d+',input) \n",
    "    numbers = map(int,numbers) \n",
    "    return max(numbers)  \n",
    "     \n",
    "for i, j in df.iterrows(): \n",
    "    a = j.Title.split(\",\")\n",
    "    res = extractMax(str(a[1]))\n",
    "    a[1] = str(res)\n",
    "    a = ' '.join(a)\n",
    "\n",
    "    d = datetime.strptime(a, '%B %d %Y')\n",
    "    d = d.strftime('%Y-%m-%d')\n",
    "    df[\"Date\"][i] = d\n",
    "    \n",
    "df['Date']= pd.to_datetime(df['Date'])"
   ]
  },
  {
   "cell_type": "code",
   "execution_count": 135,
   "metadata": {
    "scrolled": false
   },
   "outputs": [
    {
     "data": {
      "text/html": [
       "<div>\n",
       "<style scoped>\n",
       "    .dataframe tbody tr th:only-of-type {\n",
       "        vertical-align: middle;\n",
       "    }\n",
       "\n",
       "    .dataframe tbody tr th {\n",
       "        vertical-align: top;\n",
       "    }\n",
       "\n",
       "    .dataframe thead th {\n",
       "        text-align: right;\n",
       "    }\n",
       "</style>\n",
       "<table border=\"1\" class=\"dataframe\">\n",
       "  <thead>\n",
       "    <tr style=\"text-align: right;\">\n",
       "      <th></th>\n",
       "      <th>Name</th>\n",
       "      <th>Title</th>\n",
       "      <th>Text</th>\n",
       "      <th>Cleaned</th>\n",
       "      <th>Chrono</th>\n",
       "      <th>Date</th>\n",
       "    </tr>\n",
       "  </thead>\n",
       "  <tbody>\n",
       "    <tr>\n",
       "      <td>249</td>\n",
       "      <td>George Washington</td>\n",
       "      <td>April 30, 1789__FirstInauguralAddress.txt</td>\n",
       "      <td>fellow citizens of the senate and the house of...</td>\n",
       "      <td>fellow citizen senat hous repres among vicissi...</td>\n",
       "      <td>1</td>\n",
       "      <td>1789-04-30</td>\n",
       "    </tr>\n",
       "    <tr>\n",
       "      <td>266</td>\n",
       "      <td>George Washington</td>\n",
       "      <td>October 3, 1789__ThanksgivingProclamation.txt</td>\n",
       "      <td>whereas it is the duty of all nations to ackno...</td>\n",
       "      <td>wherea duti nation acknowledg provid almighti ...</td>\n",
       "      <td>1</td>\n",
       "      <td>1789-10-03</td>\n",
       "    </tr>\n",
       "    <tr>\n",
       "      <td>259</td>\n",
       "      <td>George Washington</td>\n",
       "      <td>January 8, 1790__FirstAnnualMessagetoCongress.txt</td>\n",
       "      <td>fellow citizens of the senate and house of rep...</td>\n",
       "      <td>fellow citizen senat hous repres embrac great ...</td>\n",
       "      <td>1</td>\n",
       "      <td>1790-01-08</td>\n",
       "    </tr>\n",
       "    <tr>\n",
       "      <td>257</td>\n",
       "      <td>George Washington</td>\n",
       "      <td>December 8, 1790__SecondAnnualMessagetoCongres...</td>\n",
       "      <td>fellow citizens of the senate and house of re...</td>\n",
       "      <td>fellow citizen senat hous repres meet feel muc...</td>\n",
       "      <td>1</td>\n",
       "      <td>1790-12-08</td>\n",
       "    </tr>\n",
       "    <tr>\n",
       "      <td>254</td>\n",
       "      <td>George Washington</td>\n",
       "      <td>December 29, 1790__TalktotheChiefsandCounselor...</td>\n",
       "      <td>i the president of the united states, by my o...</td>\n",
       "      <td>presid unit state mouth written speech sign ha...</td>\n",
       "      <td>1</td>\n",
       "      <td>1790-12-29</td>\n",
       "    </tr>\n",
       "    <tr>\n",
       "      <td>...</td>\n",
       "      <td>...</td>\n",
       "      <td>...</td>\n",
       "      <td>...</td>\n",
       "      <td>...</td>\n",
       "      <td>...</td>\n",
       "      <td>...</td>\n",
       "    </tr>\n",
       "    <tr>\n",
       "      <td>134</td>\n",
       "      <td>Donald Trump</td>\n",
       "      <td>September 24, 2019__RemarksattheUnitedNationsG...</td>\n",
       "      <td>president trump:\\xc2\\xa0 thank you very much.\\...</td>\n",
       "      <td>presid trumpxc xa thank muchxc xa mr presid mr...</td>\n",
       "      <td>11</td>\n",
       "      <td>2019-09-24</td>\n",
       "    </tr>\n",
       "    <tr>\n",
       "      <td>136</td>\n",
       "      <td>Donald Trump</td>\n",
       "      <td>September 25, 2019__PressConference.txt</td>\n",
       "      <td>president trump:\\xc2\\xa0 thank you very much.\\...</td>\n",
       "      <td>presid trumpxc xa thank muchxc xa thank well t...</td>\n",
       "      <td>11</td>\n",
       "      <td>2019-09-25</td>\n",
       "    </tr>\n",
       "    <tr>\n",
       "      <td>132</td>\n",
       "      <td>Donald Trump</td>\n",
       "      <td>October 27, 2019__StatementonthetheDeathofAbuB...</td>\n",
       "      <td>last night, the united states brought the worl...</td>\n",
       "      <td>last night unit state brought worldxe x  x num...</td>\n",
       "      <td>11</td>\n",
       "      <td>2019-10-27</td>\n",
       "    </tr>\n",
       "    <tr>\n",
       "      <td>125</td>\n",
       "      <td>Donald Trump</td>\n",
       "      <td>January 3, 2020__RemarksontheKillingofQasemSol...</td>\n",
       "      <td>hello, everybody.\\xc2\\xa0well, thank you very ...</td>\n",
       "      <td>hello everybodyxc xa wel thank muchxc xa and g...</td>\n",
       "      <td>11</td>\n",
       "      <td>2020-01-03</td>\n",
       "    </tr>\n",
       "    <tr>\n",
       "      <td>127</td>\n",
       "      <td>Donald Trump</td>\n",
       "      <td>January 8, 2020__StatementonIran.txt</td>\n",
       "      <td>as long as i am president of the united states...</td>\n",
       "      <td>long presid unit state iran never allow nuclea...</td>\n",
       "      <td>11</td>\n",
       "      <td>2020-01-08</td>\n",
       "    </tr>\n",
       "  </tbody>\n",
       "</table>\n",
       "<p>375 rows × 6 columns</p>\n",
       "</div>"
      ],
      "text/plain": [
       "                  Name                                              Title  \\\n",
       "249  George Washington          April 30, 1789__FirstInauguralAddress.txt   \n",
       "266  George Washington      October 3, 1789__ThanksgivingProclamation.txt   \n",
       "259  George Washington  January 8, 1790__FirstAnnualMessagetoCongress.txt   \n",
       "257  George Washington  December 8, 1790__SecondAnnualMessagetoCongres...   \n",
       "254  George Washington  December 29, 1790__TalktotheChiefsandCounselor...   \n",
       "..                 ...                                                ...   \n",
       "134       Donald Trump  September 24, 2019__RemarksattheUnitedNationsG...   \n",
       "136       Donald Trump            September 25, 2019__PressConference.txt   \n",
       "132       Donald Trump  October 27, 2019__StatementonthetheDeathofAbuB...   \n",
       "125       Donald Trump  January 3, 2020__RemarksontheKillingofQasemSol...   \n",
       "127       Donald Trump               January 8, 2020__StatementonIran.txt   \n",
       "\n",
       "                                                  Text  \\\n",
       "249  fellow citizens of the senate and the house of...   \n",
       "266  whereas it is the duty of all nations to ackno...   \n",
       "259  fellow citizens of the senate and house of rep...   \n",
       "257   fellow citizens of the senate and house of re...   \n",
       "254   i the president of the united states, by my o...   \n",
       "..                                                 ...   \n",
       "134  president trump:\\xc2\\xa0 thank you very much.\\...   \n",
       "136  president trump:\\xc2\\xa0 thank you very much.\\...   \n",
       "132  last night, the united states brought the worl...   \n",
       "125  hello, everybody.\\xc2\\xa0well, thank you very ...   \n",
       "127  as long as i am president of the united states...   \n",
       "\n",
       "                                               Cleaned Chrono       Date  \n",
       "249  fellow citizen senat hous repres among vicissi...      1 1789-04-30  \n",
       "266  wherea duti nation acknowledg provid almighti ...      1 1789-10-03  \n",
       "259  fellow citizen senat hous repres embrac great ...      1 1790-01-08  \n",
       "257  fellow citizen senat hous repres meet feel muc...      1 1790-12-08  \n",
       "254  presid unit state mouth written speech sign ha...      1 1790-12-29  \n",
       "..                                                 ...    ...        ...  \n",
       "134  presid trumpxc xa thank muchxc xa mr presid mr...     11 2019-09-24  \n",
       "136  presid trumpxc xa thank muchxc xa thank well t...     11 2019-09-25  \n",
       "132  last night unit state brought worldxe x  x num...     11 2019-10-27  \n",
       "125  hello everybodyxc xa wel thank muchxc xa and g...     11 2020-01-03  \n",
       "127  long presid unit state iran never allow nuclea...     11 2020-01-08  \n",
       "\n",
       "[375 rows x 6 columns]"
      ]
     },
     "execution_count": 135,
     "metadata": {},
     "output_type": "execute_result"
    }
   ],
   "source": [
    "df.sort_values(\"Chrono\", axis = 0, ascending = True, \n",
    "                 inplace = True, na_position ='last') \n",
    "df.sort_values(\"Date\", axis = 0, ascending = True, \n",
    "                 inplace = True, na_position ='last') \n",
    "df"
   ]
  },
  {
   "cell_type": "markdown",
   "metadata": {},
   "source": [
    "### VADER sentiment analyzer on the processed speeches and extract the sentiment of every speech."
   ]
  },
  {
   "cell_type": "code",
   "execution_count": 136,
   "metadata": {},
   "outputs": [
    {
     "data": {
      "text/html": [
       "<div>\n",
       "<style scoped>\n",
       "    .dataframe tbody tr th:only-of-type {\n",
       "        vertical-align: middle;\n",
       "    }\n",
       "\n",
       "    .dataframe tbody tr th {\n",
       "        vertical-align: top;\n",
       "    }\n",
       "\n",
       "    .dataframe thead th {\n",
       "        text-align: right;\n",
       "    }\n",
       "</style>\n",
       "<table border=\"1\" class=\"dataframe\">\n",
       "  <thead>\n",
       "    <tr style=\"text-align: right;\">\n",
       "      <th></th>\n",
       "      <th>Name</th>\n",
       "      <th>Title</th>\n",
       "      <th>Text</th>\n",
       "      <th>Cleaned</th>\n",
       "      <th>Chrono</th>\n",
       "      <th>Date</th>\n",
       "      <th>Sentiment Speech</th>\n",
       "      <th>Ratio positive</th>\n",
       "      <th>Ratio negative</th>\n",
       "    </tr>\n",
       "  </thead>\n",
       "  <tbody>\n",
       "    <tr>\n",
       "      <td>249</td>\n",
       "      <td>George Washington</td>\n",
       "      <td>April 30, 1789__FirstInauguralAddress.txt</td>\n",
       "      <td>fellow citizens of the senate and the house of...</td>\n",
       "      <td>fellow citizen senat hous repres among vicissi...</td>\n",
       "      <td>1</td>\n",
       "      <td>1789-04-30</td>\n",
       "      <td>Positive</td>\n",
       "      <td>0.264</td>\n",
       "      <td>0.037</td>\n",
       "    </tr>\n",
       "    <tr>\n",
       "      <td>266</td>\n",
       "      <td>George Washington</td>\n",
       "      <td>October 3, 1789__ThanksgivingProclamation.txt</td>\n",
       "      <td>whereas it is the duty of all nations to ackno...</td>\n",
       "      <td>wherea duti nation acknowledg provid almighti ...</td>\n",
       "      <td>1</td>\n",
       "      <td>1789-10-03</td>\n",
       "      <td>Positive</td>\n",
       "      <td>0.364</td>\n",
       "      <td>0.014</td>\n",
       "    </tr>\n",
       "    <tr>\n",
       "      <td>259</td>\n",
       "      <td>George Washington</td>\n",
       "      <td>January 8, 1790__FirstAnnualMessagetoCongress.txt</td>\n",
       "      <td>fellow citizens of the senate and house of rep...</td>\n",
       "      <td>fellow citizen senat hous repres embrac great ...</td>\n",
       "      <td>1</td>\n",
       "      <td>1790-01-08</td>\n",
       "      <td>Positive</td>\n",
       "      <td>0.257</td>\n",
       "      <td>0.033</td>\n",
       "    </tr>\n",
       "    <tr>\n",
       "      <td>257</td>\n",
       "      <td>George Washington</td>\n",
       "      <td>December 8, 1790__SecondAnnualMessagetoCongres...</td>\n",
       "      <td>fellow citizens of the senate and house of re...</td>\n",
       "      <td>fellow citizen senat hous repres meet feel muc...</td>\n",
       "      <td>1</td>\n",
       "      <td>1790-12-08</td>\n",
       "      <td>Positive</td>\n",
       "      <td>0.202</td>\n",
       "      <td>0.077</td>\n",
       "    </tr>\n",
       "    <tr>\n",
       "      <td>254</td>\n",
       "      <td>George Washington</td>\n",
       "      <td>December 29, 1790__TalktotheChiefsandCounselor...</td>\n",
       "      <td>i the president of the united states, by my o...</td>\n",
       "      <td>presid unit state mouth written speech sign ha...</td>\n",
       "      <td>1</td>\n",
       "      <td>1790-12-29</td>\n",
       "      <td>Positive</td>\n",
       "      <td>0.171</td>\n",
       "      <td>0.121</td>\n",
       "    </tr>\n",
       "    <tr>\n",
       "      <td>...</td>\n",
       "      <td>...</td>\n",
       "      <td>...</td>\n",
       "      <td>...</td>\n",
       "      <td>...</td>\n",
       "      <td>...</td>\n",
       "      <td>...</td>\n",
       "      <td>...</td>\n",
       "      <td>...</td>\n",
       "      <td>...</td>\n",
       "    </tr>\n",
       "    <tr>\n",
       "      <td>134</td>\n",
       "      <td>Donald Trump</td>\n",
       "      <td>September 24, 2019__RemarksattheUnitedNationsG...</td>\n",
       "      <td>president trump:\\xc2\\xa0 thank you very much.\\...</td>\n",
       "      <td>presid trumpxc xa thank muchxc xa mr presid mr...</td>\n",
       "      <td>11</td>\n",
       "      <td>2019-09-24</td>\n",
       "      <td>Positive</td>\n",
       "      <td>0.194</td>\n",
       "      <td>0.083</td>\n",
       "    </tr>\n",
       "    <tr>\n",
       "      <td>136</td>\n",
       "      <td>Donald Trump</td>\n",
       "      <td>September 25, 2019__PressConference.txt</td>\n",
       "      <td>president trump:\\xc2\\xa0 thank you very much.\\...</td>\n",
       "      <td>presid trumpxc xa thank muchxc xa thank well t...</td>\n",
       "      <td>11</td>\n",
       "      <td>2019-09-25</td>\n",
       "      <td>Positive</td>\n",
       "      <td>0.109</td>\n",
       "      <td>0.042</td>\n",
       "    </tr>\n",
       "    <tr>\n",
       "      <td>132</td>\n",
       "      <td>Donald Trump</td>\n",
       "      <td>October 27, 2019__StatementonthetheDeathofAbuB...</td>\n",
       "      <td>last night, the united states brought the worl...</td>\n",
       "      <td>last night unit state brought worldxe x  x num...</td>\n",
       "      <td>11</td>\n",
       "      <td>2019-10-27</td>\n",
       "      <td>Negative</td>\n",
       "      <td>0.16</td>\n",
       "      <td>0.254</td>\n",
       "    </tr>\n",
       "    <tr>\n",
       "      <td>125</td>\n",
       "      <td>Donald Trump</td>\n",
       "      <td>January 3, 2020__RemarksontheKillingofQasemSol...</td>\n",
       "      <td>hello, everybody.\\xc2\\xa0well, thank you very ...</td>\n",
       "      <td>hello everybodyxc xa wel thank muchxc xa and g...</td>\n",
       "      <td>11</td>\n",
       "      <td>2020-01-03</td>\n",
       "      <td>Negative</td>\n",
       "      <td>0.188</td>\n",
       "      <td>0.226</td>\n",
       "    </tr>\n",
       "    <tr>\n",
       "      <td>127</td>\n",
       "      <td>Donald Trump</td>\n",
       "      <td>January 8, 2020__StatementonIran.txt</td>\n",
       "      <td>as long as i am president of the united states...</td>\n",
       "      <td>long presid unit state iran never allow nuclea...</td>\n",
       "      <td>11</td>\n",
       "      <td>2020-01-08</td>\n",
       "      <td>Negative</td>\n",
       "      <td>0.105</td>\n",
       "      <td>0.188</td>\n",
       "    </tr>\n",
       "  </tbody>\n",
       "</table>\n",
       "<p>375 rows × 9 columns</p>\n",
       "</div>"
      ],
      "text/plain": [
       "                  Name                                              Title  \\\n",
       "249  George Washington          April 30, 1789__FirstInauguralAddress.txt   \n",
       "266  George Washington      October 3, 1789__ThanksgivingProclamation.txt   \n",
       "259  George Washington  January 8, 1790__FirstAnnualMessagetoCongress.txt   \n",
       "257  George Washington  December 8, 1790__SecondAnnualMessagetoCongres...   \n",
       "254  George Washington  December 29, 1790__TalktotheChiefsandCounselor...   \n",
       "..                 ...                                                ...   \n",
       "134       Donald Trump  September 24, 2019__RemarksattheUnitedNationsG...   \n",
       "136       Donald Trump            September 25, 2019__PressConference.txt   \n",
       "132       Donald Trump  October 27, 2019__StatementonthetheDeathofAbuB...   \n",
       "125       Donald Trump  January 3, 2020__RemarksontheKillingofQasemSol...   \n",
       "127       Donald Trump               January 8, 2020__StatementonIran.txt   \n",
       "\n",
       "                                                  Text  \\\n",
       "249  fellow citizens of the senate and the house of...   \n",
       "266  whereas it is the duty of all nations to ackno...   \n",
       "259  fellow citizens of the senate and house of rep...   \n",
       "257   fellow citizens of the senate and house of re...   \n",
       "254   i the president of the united states, by my o...   \n",
       "..                                                 ...   \n",
       "134  president trump:\\xc2\\xa0 thank you very much.\\...   \n",
       "136  president trump:\\xc2\\xa0 thank you very much.\\...   \n",
       "132  last night, the united states brought the worl...   \n",
       "125  hello, everybody.\\xc2\\xa0well, thank you very ...   \n",
       "127  as long as i am president of the united states...   \n",
       "\n",
       "                                               Cleaned Chrono       Date  \\\n",
       "249  fellow citizen senat hous repres among vicissi...      1 1789-04-30   \n",
       "266  wherea duti nation acknowledg provid almighti ...      1 1789-10-03   \n",
       "259  fellow citizen senat hous repres embrac great ...      1 1790-01-08   \n",
       "257  fellow citizen senat hous repres meet feel muc...      1 1790-12-08   \n",
       "254  presid unit state mouth written speech sign ha...      1 1790-12-29   \n",
       "..                                                 ...    ...        ...   \n",
       "134  presid trumpxc xa thank muchxc xa mr presid mr...     11 2019-09-24   \n",
       "136  presid trumpxc xa thank muchxc xa thank well t...     11 2019-09-25   \n",
       "132  last night unit state brought worldxe x  x num...     11 2019-10-27   \n",
       "125  hello everybodyxc xa wel thank muchxc xa and g...     11 2020-01-03   \n",
       "127  long presid unit state iran never allow nuclea...     11 2020-01-08   \n",
       "\n",
       "    Sentiment Speech Ratio positive Ratio negative  \n",
       "249         Positive          0.264          0.037  \n",
       "266         Positive          0.364          0.014  \n",
       "259         Positive          0.257          0.033  \n",
       "257         Positive          0.202          0.077  \n",
       "254         Positive          0.171          0.121  \n",
       "..               ...            ...            ...  \n",
       "134         Positive          0.194          0.083  \n",
       "136         Positive          0.109          0.042  \n",
       "132         Negative           0.16          0.254  \n",
       "125         Negative          0.188          0.226  \n",
       "127         Negative          0.105          0.188  \n",
       "\n",
       "[375 rows x 9 columns]"
      ]
     },
     "execution_count": 136,
     "metadata": {},
     "output_type": "execute_result"
    }
   ],
   "source": [
    "def sentiment_scores(sentence): \n",
    "  \n",
    "    # Create a SentimentIntensityAnalyzer object. \n",
    "    sid_obj = SentimentIntensityAnalyzer() \n",
    "  \n",
    "    # polarity_scores method of SentimentIntensityAnalyzer \n",
    "    # oject gives a sentiment dictionary. \n",
    "    # which contains pos, neg, neu, and compound scores. \n",
    "    sentiment_dict = sid_obj.polarity_scores(sentence) \n",
    "  \n",
    "    # decide sentiment as positive, negative and neutral \n",
    "    if sentiment_dict['compound'] >= 0.05 : \n",
    "        return 0,sentiment_dict['neg'],sentiment_dict['pos']\n",
    "  \n",
    "    elif sentiment_dict['compound'] <= - 0.05 : \n",
    "        return 1,sentiment_dict['neg'],sentiment_dict['pos']\n",
    "df[\"Sentiment Speech\"] = \"\"\n",
    "df[\"Ratio positive\"] = \"\"\n",
    "df[\"Ratio negative\"] = \"\"\n",
    "\n",
    "for k, j in df.iterrows():\n",
    "    sentiment,ratioN,ratioP = sentiment_scores(j.Cleaned)\n",
    "    if(sentiment == 0):\n",
    "        df[\"Sentiment Speech\"][k] = \"Positive\"\n",
    "        df[\"Ratio positive\"][k] = ratioP\n",
    "        df[\"Ratio negative\"][k] = ratioN\n",
    "    elif(sentiment == 1):\n",
    "        df[\"Sentiment Speech\"][k] = \"Negative\"\n",
    "        df[\"Ratio positive\"][k] = ratioP\n",
    "        df[\"Ratio negative\"][k] = ratioN\n",
    "df"
   ]
  },
  {
   "cell_type": "code",
   "execution_count": 137,
   "metadata": {
    "scrolled": false
   },
   "outputs": [
    {
     "data": {
      "text/html": [
       "<div>\n",
       "<style scoped>\n",
       "    .dataframe tbody tr th:only-of-type {\n",
       "        vertical-align: middle;\n",
       "    }\n",
       "\n",
       "    .dataframe tbody tr th {\n",
       "        vertical-align: top;\n",
       "    }\n",
       "\n",
       "    .dataframe thead th {\n",
       "        text-align: right;\n",
       "    }\n",
       "</style>\n",
       "<table border=\"1\" class=\"dataframe\">\n",
       "  <thead>\n",
       "    <tr style=\"text-align: right;\">\n",
       "      <th></th>\n",
       "      <th>Name</th>\n",
       "      <th>Title</th>\n",
       "      <th>Text</th>\n",
       "      <th>Cleaned</th>\n",
       "      <th>Chrono</th>\n",
       "      <th>Date</th>\n",
       "      <th>Sentiment Speech</th>\n",
       "      <th>Ratio positive</th>\n",
       "      <th>Ratio negative</th>\n",
       "    </tr>\n",
       "  </thead>\n",
       "  <tbody>\n",
       "    <tr>\n",
       "      <td>249</td>\n",
       "      <td>George Washington</td>\n",
       "      <td>April 30, 1789__FirstInauguralAddress.txt</td>\n",
       "      <td>fellow citizens of the senate and the house of...</td>\n",
       "      <td>fellow citizen senat hous repres among vicissi...</td>\n",
       "      <td>1</td>\n",
       "      <td>1789-04-30</td>\n",
       "      <td>Positive</td>\n",
       "      <td>0.264</td>\n",
       "      <td>0.037</td>\n",
       "    </tr>\n",
       "    <tr>\n",
       "      <td>266</td>\n",
       "      <td>George Washington</td>\n",
       "      <td>October 3, 1789__ThanksgivingProclamation.txt</td>\n",
       "      <td>whereas it is the duty of all nations to ackno...</td>\n",
       "      <td>wherea duti nation acknowledg provid almighti ...</td>\n",
       "      <td>1</td>\n",
       "      <td>1789-10-03</td>\n",
       "      <td>Positive</td>\n",
       "      <td>0.364</td>\n",
       "      <td>0.014</td>\n",
       "    </tr>\n",
       "    <tr>\n",
       "      <td>259</td>\n",
       "      <td>George Washington</td>\n",
       "      <td>January 8, 1790__FirstAnnualMessagetoCongress.txt</td>\n",
       "      <td>fellow citizens of the senate and house of rep...</td>\n",
       "      <td>fellow citizen senat hous repres embrac great ...</td>\n",
       "      <td>1</td>\n",
       "      <td>1790-01-08</td>\n",
       "      <td>Positive</td>\n",
       "      <td>0.257</td>\n",
       "      <td>0.033</td>\n",
       "    </tr>\n",
       "    <tr>\n",
       "      <td>257</td>\n",
       "      <td>George Washington</td>\n",
       "      <td>December 8, 1790__SecondAnnualMessagetoCongres...</td>\n",
       "      <td>fellow citizens of the senate and house of re...</td>\n",
       "      <td>fellow citizen senat hous repres meet feel muc...</td>\n",
       "      <td>1</td>\n",
       "      <td>1790-12-08</td>\n",
       "      <td>Positive</td>\n",
       "      <td>0.202</td>\n",
       "      <td>0.077</td>\n",
       "    </tr>\n",
       "    <tr>\n",
       "      <td>254</td>\n",
       "      <td>George Washington</td>\n",
       "      <td>December 29, 1790__TalktotheChiefsandCounselor...</td>\n",
       "      <td>i the president of the united states, by my o...</td>\n",
       "      <td>presid unit state mouth written speech sign ha...</td>\n",
       "      <td>1</td>\n",
       "      <td>1790-12-29</td>\n",
       "      <td>Positive</td>\n",
       "      <td>0.171</td>\n",
       "      <td>0.121</td>\n",
       "    </tr>\n",
       "    <tr>\n",
       "      <td>...</td>\n",
       "      <td>...</td>\n",
       "      <td>...</td>\n",
       "      <td>...</td>\n",
       "      <td>...</td>\n",
       "      <td>...</td>\n",
       "      <td>...</td>\n",
       "      <td>...</td>\n",
       "      <td>...</td>\n",
       "      <td>...</td>\n",
       "    </tr>\n",
       "    <tr>\n",
       "      <td>134</td>\n",
       "      <td>Donald Trump</td>\n",
       "      <td>September 24, 2019__RemarksattheUnitedNationsG...</td>\n",
       "      <td>president trump:\\xc2\\xa0 thank you very much.\\...</td>\n",
       "      <td>presid trumpxc xa thank muchxc xa mr presid mr...</td>\n",
       "      <td>11</td>\n",
       "      <td>2019-09-24</td>\n",
       "      <td>Positive</td>\n",
       "      <td>0.194</td>\n",
       "      <td>0.083</td>\n",
       "    </tr>\n",
       "    <tr>\n",
       "      <td>136</td>\n",
       "      <td>Donald Trump</td>\n",
       "      <td>September 25, 2019__PressConference.txt</td>\n",
       "      <td>president trump:\\xc2\\xa0 thank you very much.\\...</td>\n",
       "      <td>presid trumpxc xa thank muchxc xa thank well t...</td>\n",
       "      <td>11</td>\n",
       "      <td>2019-09-25</td>\n",
       "      <td>Positive</td>\n",
       "      <td>0.109</td>\n",
       "      <td>0.042</td>\n",
       "    </tr>\n",
       "    <tr>\n",
       "      <td>132</td>\n",
       "      <td>Donald Trump</td>\n",
       "      <td>October 27, 2019__StatementonthetheDeathofAbuB...</td>\n",
       "      <td>last night, the united states brought the worl...</td>\n",
       "      <td>last night unit state brought worldxe x  x num...</td>\n",
       "      <td>11</td>\n",
       "      <td>2019-10-27</td>\n",
       "      <td>Negative</td>\n",
       "      <td>0.16</td>\n",
       "      <td>0.254</td>\n",
       "    </tr>\n",
       "    <tr>\n",
       "      <td>125</td>\n",
       "      <td>Donald Trump</td>\n",
       "      <td>January 3, 2020__RemarksontheKillingofQasemSol...</td>\n",
       "      <td>hello, everybody.\\xc2\\xa0well, thank you very ...</td>\n",
       "      <td>hello everybodyxc xa wel thank muchxc xa and g...</td>\n",
       "      <td>11</td>\n",
       "      <td>2020-01-03</td>\n",
       "      <td>Negative</td>\n",
       "      <td>0.188</td>\n",
       "      <td>0.226</td>\n",
       "    </tr>\n",
       "    <tr>\n",
       "      <td>127</td>\n",
       "      <td>Donald Trump</td>\n",
       "      <td>January 8, 2020__StatementonIran.txt</td>\n",
       "      <td>as long as i am president of the united states...</td>\n",
       "      <td>long presid unit state iran never allow nuclea...</td>\n",
       "      <td>11</td>\n",
       "      <td>2020-01-08</td>\n",
       "      <td>Negative</td>\n",
       "      <td>0.105</td>\n",
       "      <td>0.188</td>\n",
       "    </tr>\n",
       "  </tbody>\n",
       "</table>\n",
       "<p>375 rows × 9 columns</p>\n",
       "</div>"
      ],
      "text/plain": [
       "                  Name                                              Title  \\\n",
       "249  George Washington          April 30, 1789__FirstInauguralAddress.txt   \n",
       "266  George Washington      October 3, 1789__ThanksgivingProclamation.txt   \n",
       "259  George Washington  January 8, 1790__FirstAnnualMessagetoCongress.txt   \n",
       "257  George Washington  December 8, 1790__SecondAnnualMessagetoCongres...   \n",
       "254  George Washington  December 29, 1790__TalktotheChiefsandCounselor...   \n",
       "..                 ...                                                ...   \n",
       "134       Donald Trump  September 24, 2019__RemarksattheUnitedNationsG...   \n",
       "136       Donald Trump            September 25, 2019__PressConference.txt   \n",
       "132       Donald Trump  October 27, 2019__StatementonthetheDeathofAbuB...   \n",
       "125       Donald Trump  January 3, 2020__RemarksontheKillingofQasemSol...   \n",
       "127       Donald Trump               January 8, 2020__StatementonIran.txt   \n",
       "\n",
       "                                                  Text  \\\n",
       "249  fellow citizens of the senate and the house of...   \n",
       "266  whereas it is the duty of all nations to ackno...   \n",
       "259  fellow citizens of the senate and house of rep...   \n",
       "257   fellow citizens of the senate and house of re...   \n",
       "254   i the president of the united states, by my o...   \n",
       "..                                                 ...   \n",
       "134  president trump:\\xc2\\xa0 thank you very much.\\...   \n",
       "136  president trump:\\xc2\\xa0 thank you very much.\\...   \n",
       "132  last night, the united states brought the worl...   \n",
       "125  hello, everybody.\\xc2\\xa0well, thank you very ...   \n",
       "127  as long as i am president of the united states...   \n",
       "\n",
       "                                               Cleaned Chrono       Date  \\\n",
       "249  fellow citizen senat hous repres among vicissi...      1 1789-04-30   \n",
       "266  wherea duti nation acknowledg provid almighti ...      1 1789-10-03   \n",
       "259  fellow citizen senat hous repres embrac great ...      1 1790-01-08   \n",
       "257  fellow citizen senat hous repres meet feel muc...      1 1790-12-08   \n",
       "254  presid unit state mouth written speech sign ha...      1 1790-12-29   \n",
       "..                                                 ...    ...        ...   \n",
       "134  presid trumpxc xa thank muchxc xa mr presid mr...     11 2019-09-24   \n",
       "136  presid trumpxc xa thank muchxc xa thank well t...     11 2019-09-25   \n",
       "132  last night unit state brought worldxe x  x num...     11 2019-10-27   \n",
       "125  hello everybodyxc xa wel thank muchxc xa and g...     11 2020-01-03   \n",
       "127  long presid unit state iran never allow nuclea...     11 2020-01-08   \n",
       "\n",
       "    Sentiment Speech Ratio positive Ratio negative  \n",
       "249         Positive          0.264          0.037  \n",
       "266         Positive          0.364          0.014  \n",
       "259         Positive          0.257          0.033  \n",
       "257         Positive          0.202          0.077  \n",
       "254         Positive          0.171          0.121  \n",
       "..               ...            ...            ...  \n",
       "134         Positive          0.194          0.083  \n",
       "136         Positive          0.109          0.042  \n",
       "132         Negative           0.16          0.254  \n",
       "125         Negative          0.188          0.226  \n",
       "127         Negative          0.105          0.188  \n",
       "\n",
       "[375 rows x 9 columns]"
      ]
     },
     "execution_count": 137,
     "metadata": {},
     "output_type": "execute_result"
    }
   ],
   "source": [
    "df"
   ]
  },
  {
   "cell_type": "code",
   "execution_count": 138,
   "metadata": {},
   "outputs": [],
   "source": [
    "donald_trump = pd.DataFrame()\n",
    "donald_trump = df.where(df['Name'] == \"Donald Trump\")\n",
    "donald_trump = donald_trump[donald_trump['Name'].notnull()]"
   ]
  },
  {
   "cell_type": "markdown",
   "metadata": {},
   "source": [
    "**Usefull function to creathe the graph**"
   ]
  },
  {
   "cell_type": "code",
   "execution_count": 139,
   "metadata": {
    "scrolled": true
   },
   "outputs": [],
   "source": [
    "names = df['Name'].unique()\n",
    "\n",
    "def createData(name, df):\n",
    "    \"\"\"\n",
    "    name : It is the list of names inside the dataframe\n",
    "    df : It is the dataframe which contains the informations\n",
    "    \n",
    "    return a list of all plots with the corresponding data of the president\n",
    "    \"\"\"\n",
    "    l = []\n",
    "    for name in df['Name'].unique():\n",
    "        tempo = pd.DataFrame()\n",
    "        tempo = df.where(df['Name'] == name)\n",
    "        tempo = tempo[tempo['Name'].notnull()]\n",
    "        #Donald trump\n",
    "        neg = go.Scatter(x=tempo['Date'],\n",
    "                        y=tempo['Ratio negative'],\n",
    "                        name='Ratio negative',\n",
    "                        line=dict(color='red'),\n",
    "                        line_shape='spline')\n",
    "\n",
    "        pos = go.Scatter(x=tempo['Date'],\n",
    "                        y=tempo['Ratio positive'],\n",
    "                        name='Ratio positive',\n",
    "                        line=dict(color='green'),\n",
    "                            line_shape='spline')\n",
    "        l.append(neg)\n",
    "        l.append(pos)\n",
    "        \n",
    "    return l\n",
    "\n",
    "l = createData(names, df)"
   ]
  },
  {
   "cell_type": "code",
   "execution_count": 140,
   "metadata": {},
   "outputs": [],
   "source": [
    "data = l\n",
    "\n",
    "def buttonsUpdateMenu(names):\n",
    "    \"\"\"\n",
    "    names : Names of presidents present in the dataframe\n",
    "    \n",
    "    return a list usefull to the graph (control the visibility and buttons of the graph)\n",
    "    \"\"\"\n",
    "    i = 0\n",
    "    l = []\n",
    "    visibleList = [False, False, False, False, False,False, False,False, False,False, False,False, False,False, False,False, False,False, False,False, False,False]\n",
    "    for name in names:\n",
    "        visibleList[i] = True\n",
    "        i = i+1\n",
    "        visibleList[i] = True\n",
    "        i = i+1\n",
    "        l.append(dict(label = name,\n",
    "             method = 'update',\n",
    "             args = [{'visible': visibleList},\n",
    "                     {'title': name}]))\n",
    "        visibleList = [False, False, False, False, False,False, False,False, False,False, False,False, False,False, False,False, False,False, False,False, False,False]\n",
    "\n",
    "    return l\n",
    "\n",
    "updateButtonsList = list([\n",
    "    dict(type=\"buttons\",\n",
    "         active=-1,\n",
    "         buttons= buttonsUpdateMenu(names),\n",
    "    )\n",
    "])"
   ]
  },
  {
   "cell_type": "markdown",
   "metadata": {},
   "source": [
    "**Graph for all presidents (1 by 1)**"
   ]
  },
  {
   "cell_type": "code",
   "execution_count": 141,
   "metadata": {},
   "outputs": [
    {
     "data": {
      "application/vnd.plotly.v1+json": {
       "config": {
        "linkText": "Export to plot.ly",
        "plotlyServerURL": "https://plot.ly",
        "showLink": false
       },
       "data": [
        {
         "line": {
          "color": "red",
          "shape": "spline"
         },
         "name": "Ratio negative",
         "type": "scatter",
         "x": [
          "1789-04-30T00:00:00",
          "1789-10-03T00:00:00",
          "1790-01-08T00:00:00",
          "1790-12-08T00:00:00",
          "1790-12-29T00:00:00",
          "1791-10-25T00:00:00",
          "1792-04-05T00:00:00",
          "1792-11-06T00:00:00",
          "1792-12-12T00:00:00",
          "1793-03-04T00:00:00",
          "1793-04-22T00:00:00",
          "1793-12-03T00:00:00",
          "1794-08-07T00:00:00",
          "1794-09-25T00:00:00",
          "1794-11-19T00:00:00",
          "1795-07-10T00:00:00",
          "1795-12-08T00:00:00",
          "1796-03-30T00:00:00",
          "1796-08-29T00:00:00",
          "1796-09-19T00:00:00",
          "1796-12-07T00:00:00"
         ],
         "y": [
          0.037,
          0.014,
          0.033,
          0.077,
          0.121,
          0.031,
          0.029,
          0.059,
          0.148,
          0.021,
          0.124,
          0.071,
          0.099,
          0.053,
          0.096,
          0.111,
          0.105,
          0.051,
          0.035,
          0.088,
          0.085
         ]
        },
        {
         "line": {
          "color": "green",
          "shape": "spline"
         },
         "name": "Ratio positive",
         "type": "scatter",
         "x": [
          "1789-04-30T00:00:00",
          "1789-10-03T00:00:00",
          "1790-01-08T00:00:00",
          "1790-12-08T00:00:00",
          "1790-12-29T00:00:00",
          "1791-10-25T00:00:00",
          "1792-04-05T00:00:00",
          "1792-11-06T00:00:00",
          "1792-12-12T00:00:00",
          "1793-03-04T00:00:00",
          "1793-04-22T00:00:00",
          "1793-12-03T00:00:00",
          "1794-08-07T00:00:00",
          "1794-09-25T00:00:00",
          "1794-11-19T00:00:00",
          "1795-07-10T00:00:00",
          "1795-12-08T00:00:00",
          "1796-03-30T00:00:00",
          "1796-08-29T00:00:00",
          "1796-09-19T00:00:00",
          "1796-12-07T00:00:00"
         ],
         "y": [
          0.264,
          0.364,
          0.257,
          0.202,
          0.171,
          0.145,
          0.202,
          0.13,
          0.189,
          0.088,
          0.213,
          0.137,
          0.08,
          0.19,
          0.12,
          0.134,
          0.157,
          0.152,
          0.235,
          0.2,
          0.156
         ]
        },
        {
         "line": {
          "color": "red",
          "shape": "spline"
         },
         "name": "Ratio negative",
         "type": "scatter",
         "x": [
          "1801-03-04T00:00:00",
          "1801-07-12T00:00:00",
          "1801-12-08T00:00:00",
          "1802-01-01T00:00:00",
          "1802-11-03T00:00:00",
          "1802-12-15T00:00:00",
          "1803-01-18T00:00:00",
          "1803-06-20T00:00:00",
          "1803-10-17T00:00:00",
          "1803-12-17T00:00:00",
          "1804-11-08T00:00:00",
          "1805-03-04T00:00:00",
          "1805-12-03T00:00:00",
          "1805-12-06T00:00:00",
          "1806-01-10T00:00:00",
          "1806-11-27T00:00:00",
          "1806-12-02T00:00:00",
          "1806-12-30T00:00:00",
          "1807-01-22T00:00:00",
          "1807-02-10T00:00:00",
          "1807-07-02T00:00:00",
          "1807-10-27T00:00:00",
          "1808-11-08T00:00:00",
          "1809-04-03T00:00:00"
         ],
         "y": [
          0.076,
          0.058,
          0.076,
          0.031,
          0.073,
          0.069,
          0.031,
          0.051,
          0.08,
          0.075,
          0.078,
          0.065,
          0.077,
          0.068,
          0.144,
          0.055,
          0.053,
          0.065,
          0.048,
          0.079,
          0.089,
          0.081,
          0.065,
          0.059
         ]
        },
        {
         "line": {
          "color": "green",
          "shape": "spline"
         },
         "name": "Ratio positive",
         "type": "scatter",
         "x": [
          "1801-03-04T00:00:00",
          "1801-07-12T00:00:00",
          "1801-12-08T00:00:00",
          "1802-01-01T00:00:00",
          "1802-11-03T00:00:00",
          "1802-12-15T00:00:00",
          "1803-01-18T00:00:00",
          "1803-06-20T00:00:00",
          "1803-10-17T00:00:00",
          "1803-12-17T00:00:00",
          "1804-11-08T00:00:00",
          "1805-03-04T00:00:00",
          "1805-12-03T00:00:00",
          "1805-12-06T00:00:00",
          "1806-01-10T00:00:00",
          "1806-11-27T00:00:00",
          "1806-12-02T00:00:00",
          "1806-12-30T00:00:00",
          "1807-01-22T00:00:00",
          "1807-02-10T00:00:00",
          "1807-07-02T00:00:00",
          "1807-10-27T00:00:00",
          "1808-11-08T00:00:00",
          "1809-04-03T00:00:00"
         ],
         "y": [
          0.237,
          0.168,
          0.142,
          0.274,
          0.213,
          0.125,
          0.177,
          0.147,
          0.15,
          0.24,
          0.148,
          0.193,
          0.131,
          0.086,
          0.181,
          0.109,
          0.151,
          0.267,
          0.098,
          0.083,
          0.126,
          0.1,
          0.136,
          0.208
         ]
        },
        {
         "line": {
          "color": "red",
          "shape": "spline"
         },
         "name": "Ratio negative",
         "type": "scatter",
         "x": [
          "1829-03-04T00:00:00",
          "1829-05-11T00:00:00",
          "1829-12-08T00:00:00",
          "1830-05-06T00:00:00",
          "1830-05-27T00:00:00",
          "1830-10-05T00:00:00",
          "1830-12-06T00:00:00",
          "1831-02-22T00:00:00",
          "1831-12-06T00:00:00",
          "1832-02-15T00:00:00",
          "1832-07-10T00:00:00",
          "1832-12-04T00:00:00",
          "1832-12-06T00:00:00",
          "1832-12-10T00:00:00",
          "1833-01-16T00:00:00",
          "1833-03-04T00:00:00",
          "1833-09-18T00:00:00",
          "1833-12-03T00:00:00",
          "1833-12-12T00:00:00",
          "1834-04-15T00:00:00",
          "1834-04-21T00:00:00",
          "1834-12-01T00:00:00",
          "1835-12-07T00:00:00",
          "1836-12-05T00:00:00",
          "1836-12-21T00:00:00",
          "1837-03-04T00:00:00"
         ],
         "y": [
          0.035,
          0.022,
          0.064,
          0.005,
          0.048,
          0.005,
          0.054,
          0.054,
          0.052,
          0.031,
          0.052,
          0.075,
          0.088,
          0.094,
          0.042,
          0.053,
          0.058,
          0.061,
          0.009,
          0.058,
          0.038,
          0.076,
          0.065,
          0.061,
          0.075,
          0.098
         ]
        },
        {
         "line": {
          "color": "green",
          "shape": "spline"
         },
         "name": "Ratio positive",
         "type": "scatter",
         "x": [
          "1829-03-04T00:00:00",
          "1829-05-11T00:00:00",
          "1829-12-08T00:00:00",
          "1830-05-06T00:00:00",
          "1830-05-27T00:00:00",
          "1830-10-05T00:00:00",
          "1830-12-06T00:00:00",
          "1831-02-22T00:00:00",
          "1831-12-06T00:00:00",
          "1832-02-15T00:00:00",
          "1832-07-10T00:00:00",
          "1832-12-04T00:00:00",
          "1832-12-06T00:00:00",
          "1832-12-10T00:00:00",
          "1833-01-16T00:00:00",
          "1833-03-04T00:00:00",
          "1833-09-18T00:00:00",
          "1833-12-03T00:00:00",
          "1833-12-12T00:00:00",
          "1834-04-15T00:00:00",
          "1834-04-21T00:00:00",
          "1834-12-01T00:00:00",
          "1835-12-07T00:00:00",
          "1836-12-05T00:00:00",
          "1836-12-21T00:00:00",
          "1837-03-04T00:00:00"
         ],
         "y": [
          0.228,
          0.057,
          0.175,
          0.126,
          0.165,
          0.075,
          0.173,
          0.084,
          0.16,
          0.167,
          0.13,
          0.167,
          0.148,
          0.112,
          0.11,
          0.163,
          0.092,
          0.148,
          0.057,
          0.103,
          0.118,
          0.126,
          0.142,
          0.128,
          0.111,
          0.199
         ]
        },
        {
         "line": {
          "color": "red",
          "shape": "spline"
         },
         "name": "Ratio negative",
         "type": "scatter",
         "x": [
          "1933-03-04T00:00:00",
          "1933-03-12T00:00:00",
          "1933-05-07T00:00:00",
          "1933-07-24T00:00:00",
          "1933-10-22T00:00:00",
          "1934-06-28T00:00:00",
          "1934-09-30T00:00:00",
          "1935-04-28T00:00:00",
          "1936-06-27T00:00:00",
          "1936-09-06T00:00:00",
          "1936-10-31T00:00:00",
          "1937-01-20T00:00:00",
          "1937-03-09T00:00:00",
          "1937-10-05T00:00:00",
          "1937-10-12T00:00:00",
          "1937-11-14T00:00:00",
          "1938-04-14T00:00:00",
          "1938-06-24T00:00:00",
          "1938-07-08T00:00:00",
          "1939-09-03T00:00:00",
          "1940-05-26T00:00:00",
          "1940-06-10T00:00:00",
          "1940-07-19T00:00:00",
          "1940-12-29T00:00:00",
          "1941-01-06T00:00:00",
          "1941-01-20T00:00:00",
          "1941-03-15T00:00:00",
          "1941-05-27T00:00:00",
          "1941-09-11T00:00:00",
          "1941-12-08T00:00:00",
          "1941-12-09T00:00:00",
          "1941-12-11T00:00:00",
          "1942-02-23T00:00:00",
          "1942-04-28T00:00:00",
          "1942-09-07T00:00:00",
          "1942-10-12T00:00:00",
          "1943-01-07T00:00:00",
          "1943-05-02T00:00:00",
          "1943-07-28T00:00:00",
          "1943-09-08T00:00:00",
          "1943-12-01T00:00:00",
          "1943-12-24T00:00:00",
          "1944-01-11T00:00:00",
          "1944-06-05T00:00:00",
          "1944-06-12T00:00:00",
          "1944-07-20T00:00:00",
          "1945-01-20T00:00:00",
          "1945-02-11T00:00:00",
          "1945-03-01T00:00:00"
         ],
         "y": [
          0.105,
          0.057,
          0.102,
          0.08,
          0.047,
          0.061,
          0.064,
          0.08,
          0.105,
          0.053,
          0.093,
          0.096,
          0.075,
          0.145,
          0.076,
          0.06,
          0.085,
          0.069,
          0.03,
          0.144,
          0.115,
          0.11,
          0.076,
          0.134,
          0.11,
          0.071,
          0.091,
          0.135,
          0.139,
          0.161,
          0.102,
          0.214,
          0.143,
          0.151,
          0.161,
          0.14,
          0.168,
          0.15,
          0.135,
          0.187,
          0.148,
          0.101,
          0.143,
          0.084,
          0.169,
          0.099,
          0.083,
          0.071,
          0.083
         ]
        },
        {
         "line": {
          "color": "green",
          "shape": "spline"
         },
         "name": "Ratio positive",
         "type": "scatter",
         "x": [
          "1933-03-04T00:00:00",
          "1933-03-12T00:00:00",
          "1933-05-07T00:00:00",
          "1933-07-24T00:00:00",
          "1933-10-22T00:00:00",
          "1934-06-28T00:00:00",
          "1934-09-30T00:00:00",
          "1935-04-28T00:00:00",
          "1936-06-27T00:00:00",
          "1936-09-06T00:00:00",
          "1936-10-31T00:00:00",
          "1937-01-20T00:00:00",
          "1937-03-09T00:00:00",
          "1937-10-05T00:00:00",
          "1937-10-12T00:00:00",
          "1937-11-14T00:00:00",
          "1938-04-14T00:00:00",
          "1938-06-24T00:00:00",
          "1938-07-08T00:00:00",
          "1939-09-03T00:00:00",
          "1940-05-26T00:00:00",
          "1940-06-10T00:00:00",
          "1940-07-19T00:00:00",
          "1940-12-29T00:00:00",
          "1941-01-06T00:00:00",
          "1941-01-20T00:00:00",
          "1941-03-15T00:00:00",
          "1941-05-27T00:00:00",
          "1941-09-11T00:00:00",
          "1941-12-08T00:00:00",
          "1941-12-09T00:00:00",
          "1941-12-11T00:00:00",
          "1942-02-23T00:00:00",
          "1942-04-28T00:00:00",
          "1942-09-07T00:00:00",
          "1942-10-12T00:00:00",
          "1943-01-07T00:00:00",
          "1943-05-02T00:00:00",
          "1943-07-28T00:00:00",
          "1943-09-08T00:00:00",
          "1943-12-01T00:00:00",
          "1943-12-24T00:00:00",
          "1944-01-11T00:00:00",
          "1944-06-05T00:00:00",
          "1944-06-12T00:00:00",
          "1944-07-20T00:00:00",
          "1945-01-20T00:00:00",
          "1945-02-11T00:00:00",
          "1945-03-01T00:00:00"
         ],
         "y": [
          0.23,
          0.169,
          0.151,
          0.206,
          0.139,
          0.196,
          0.196,
          0.166,
          0.236,
          0.164,
          0.123,
          0.172,
          0.117,
          0.143,
          0.131,
          0.148,
          0.16,
          0.138,
          0.169,
          0.129,
          0.12,
          0.16,
          0.168,
          0.142,
          0.179,
          0.2,
          0.154,
          0.147,
          0.118,
          0.075,
          0.116,
          0.064,
          0.106,
          0.119,
          0.11,
          0.145,
          0.134,
          0.113,
          0.142,
          0.147,
          0.169,
          0.18,
          0.16,
          0.178,
          0.093,
          0.138,
          0.228,
          0.083,
          0.137
         ]
        },
        {
         "line": {
          "color": "red",
          "shape": "spline"
         },
         "name": "Ratio negative",
         "type": "scatter",
         "x": [
          "1952-09-23T00:00:00",
          "1969-01-20T00:00:00",
          "1969-11-03T00:00:00",
          "1970-01-22T00:00:00",
          "1970-04-30T00:00:00",
          "1971-01-22T00:00:00",
          "1971-02-25T00:00:00",
          "1971-04-07T00:00:00",
          "1971-05-20T00:00:00",
          "1972-01-20T00:00:00",
          "1972-01-25T00:00:00",
          "1972-05-08T00:00:00",
          "1972-11-06T00:00:00",
          "1972-11-07T00:00:00",
          "1973-01-20T00:00:00",
          "1973-01-23T00:00:00",
          "1973-04-30T00:00:00",
          "1973-08-15T00:00:00",
          "1974-01-30T00:00:00",
          "1974-02-25T00:00:00",
          "1974-04-29T00:00:00",
          "1974-08-08T00:00:00",
          "1974-08-09T00:00:00"
         ],
         "y": [
          0.08,
          0.078,
          0.111,
          0.11,
          0.098,
          0.046,
          0.096,
          0.118,
          0.054,
          0.082,
          0.1,
          0.184,
          0.072,
          0.027,
          0.064,
          0.146,
          0.05,
          0.084,
          0.057,
          0.07,
          0.05,
          0.084,
          0.119
         ]
        },
        {
         "line": {
          "color": "green",
          "shape": "spline"
         },
         "name": "Ratio positive",
         "type": "scatter",
         "x": [
          "1952-09-23T00:00:00",
          "1969-01-20T00:00:00",
          "1969-11-03T00:00:00",
          "1970-01-22T00:00:00",
          "1970-04-30T00:00:00",
          "1971-01-22T00:00:00",
          "1971-02-25T00:00:00",
          "1971-04-07T00:00:00",
          "1971-05-20T00:00:00",
          "1972-01-20T00:00:00",
          "1972-01-25T00:00:00",
          "1972-05-08T00:00:00",
          "1972-11-06T00:00:00",
          "1972-11-07T00:00:00",
          "1973-01-20T00:00:00",
          "1973-01-23T00:00:00",
          "1973-04-30T00:00:00",
          "1973-08-15T00:00:00",
          "1974-01-30T00:00:00",
          "1974-02-25T00:00:00",
          "1974-04-29T00:00:00",
          "1974-08-08T00:00:00",
          "1974-08-09T00:00:00"
         ],
         "y": [
          0.13,
          0.224,
          0.124,
          0.188,
          0.088,
          0.158,
          0.208,
          0.144,
          0.178,
          0.202,
          0.102,
          0.123,
          0.191,
          0.297,
          0.227,
          0.199,
          0.175,
          0.14,
          0.168,
          0.108,
          0.116,
          0.215,
          0.248
         ]
        },
        {
         "line": {
          "color": "red",
          "shape": "spline"
         },
         "name": "Ratio negative",
         "type": "scatter",
         "x": [
          "1964-10-27T00:00:00",
          "1976-08-19T00:00:00",
          "1979-11-13T00:00:00",
          "1980-07-17T00:00:00",
          "1981-01-20T00:00:00",
          "1981-01-29T00:00:00",
          "1981-04-28T00:00:00",
          "1981-05-17T00:00:00",
          "1981-06-29T00:00:00",
          "1981-07-27T00:00:00",
          "1981-08-03T00:00:00",
          "1981-11-18T00:00:00",
          "1981-12-23T00:00:00",
          "1982-01-26T00:00:00",
          "1982-06-08T00:00:00",
          "1982-06-09T00:00:00",
          "1982-06-17T00:00:00",
          "1982-08-16T00:00:00",
          "1982-09-01T00:00:00",
          "1982-09-20T00:00:00",
          "1983-01-25T00:00:00",
          "1983-02-18T00:00:00",
          "1983-03-08T00:00:00",
          "1983-03-23T00:00:00",
          "1983-04-27T00:00:00",
          "1983-09-05T00:00:00",
          "1983-10-27T00:00:00",
          "1983-11-02T00:00:00",
          "1983-11-04T00:00:00",
          "1984-01-25T00:00:00",
          "1984-01-29T00:00:00",
          "1984-05-28T00:00:00",
          "1984-06-03T00:00:00",
          "1984-06-06T00:00:00",
          "1984-08-23T00:00:00",
          "1984-10-07T00:00:00",
          "1984-10-21T00:00:00",
          "1985-01-21T00:00:00",
          "1985-02-06T00:00:00",
          "1985-05-05T00:00:00",
          "1985-11-21T00:00:00",
          "1986-01-28T00:00:00",
          "1986-02-04T00:00:00",
          "1986-04-14T00:00:00",
          "1986-09-14T00:00:00",
          "1986-10-13T00:00:00",
          "1986-10-22T00:00:00",
          "1987-01-27T00:00:00",
          "1987-03-04T00:00:00",
          "1987-06-12T00:00:00",
          "1987-12-08T00:00:00",
          "1987-12-10T00:00:00",
          "1988-01-25T00:00:00",
          "1988-05-31T00:00:00",
          "1988-08-15T00:00:00",
          "1988-09-26T00:00:00",
          "1988-11-11T00:00:00",
          "1988-12-16T00:00:00",
          "1989-01-11T00:00:00"
         ],
         "y": [
          0.088,
          0.104,
          0.061,
          0.097,
          0.074,
          0.058,
          0.072,
          0.065,
          0.07,
          0.091,
          0.05,
          0.099,
          0.105,
          0.081,
          0.106,
          0.115,
          0.122,
          0.094,
          0.065,
          0.072,
          0.105,
          0.093,
          0.086,
          0.109,
          0.092,
          0.135,
          0.123,
          0.074,
          0.145,
          0.07,
          0.094,
          0.118,
          0.047,
          0.14,
          0.088,
          0.101,
          0.102,
          0.081,
          0.071,
          0.237,
          0.076,
          0.143,
          0.103,
          0.238,
          0.098,
          0.084,
          0.102,
          0.088,
          0.039,
          0.074,
          0.068,
          0.103,
          0.072,
          0.059,
          0.106,
          0.118,
          0.102,
          0.061,
          0.06
         ]
        },
        {
         "line": {
          "color": "green",
          "shape": "spline"
         },
         "name": "Ratio positive",
         "type": "scatter",
         "x": [
          "1964-10-27T00:00:00",
          "1976-08-19T00:00:00",
          "1979-11-13T00:00:00",
          "1980-07-17T00:00:00",
          "1981-01-20T00:00:00",
          "1981-01-29T00:00:00",
          "1981-04-28T00:00:00",
          "1981-05-17T00:00:00",
          "1981-06-29T00:00:00",
          "1981-07-27T00:00:00",
          "1981-08-03T00:00:00",
          "1981-11-18T00:00:00",
          "1981-12-23T00:00:00",
          "1982-01-26T00:00:00",
          "1982-06-08T00:00:00",
          "1982-06-09T00:00:00",
          "1982-06-17T00:00:00",
          "1982-08-16T00:00:00",
          "1982-09-01T00:00:00",
          "1982-09-20T00:00:00",
          "1983-01-25T00:00:00",
          "1983-02-18T00:00:00",
          "1983-03-08T00:00:00",
          "1983-03-23T00:00:00",
          "1983-04-27T00:00:00",
          "1983-09-05T00:00:00",
          "1983-10-27T00:00:00",
          "1983-11-02T00:00:00",
          "1983-11-04T00:00:00",
          "1984-01-25T00:00:00",
          "1984-01-29T00:00:00",
          "1984-05-28T00:00:00",
          "1984-06-03T00:00:00",
          "1984-06-06T00:00:00",
          "1984-08-23T00:00:00",
          "1984-10-07T00:00:00",
          "1984-10-21T00:00:00",
          "1985-01-21T00:00:00",
          "1985-02-06T00:00:00",
          "1985-05-05T00:00:00",
          "1985-11-21T00:00:00",
          "1986-01-28T00:00:00",
          "1986-02-04T00:00:00",
          "1986-04-14T00:00:00",
          "1986-09-14T00:00:00",
          "1986-10-13T00:00:00",
          "1986-10-22T00:00:00",
          "1987-01-27T00:00:00",
          "1987-03-04T00:00:00",
          "1987-06-12T00:00:00",
          "1987-12-08T00:00:00",
          "1987-12-10T00:00:00",
          "1988-01-25T00:00:00",
          "1988-05-31T00:00:00",
          "1988-08-15T00:00:00",
          "1988-09-26T00:00:00",
          "1988-11-11T00:00:00",
          "1988-12-16T00:00:00",
          "1989-01-11T00:00:00"
         ],
         "y": [
          0.111,
          0.183,
          0.115,
          0.17,
          0.228,
          0.13,
          0.174,
          0.181,
          0.16,
          0.147,
          0.098,
          0.136,
          0.215,
          0.176,
          0.173,
          0.154,
          0.143,
          0.158,
          0.161,
          0.123,
          0.215,
          0.148,
          0.191,
          0.145,
          0.172,
          0.103,
          0.15,
          0.161,
          0.271,
          0.243,
          0.19,
          0.218,
          0.225,
          0.222,
          0.145,
          0.137,
          0.124,
          0.221,
          0.253,
          0.153,
          0.186,
          0.222,
          0.227,
          0.116,
          0.19,
          0.16,
          0.196,
          0.184,
          0.129,
          0.208,
          0.198,
          0.189,
          0.209,
          0.185,
          0.234,
          0.157,
          0.272,
          0.195,
          0.21
         ]
        },
        {
         "line": {
          "color": "red",
          "shape": "spline"
         },
         "name": "Ratio negative",
         "type": "scatter",
         "x": [
          "1988-08-18T00:00:00",
          "1988-09-25T00:00:00",
          "1989-01-20T00:00:00",
          "1989-02-09T00:00:00",
          "1989-05-12T00:00:00",
          "1989-12-20T00:00:00",
          "1990-01-31T00:00:00",
          "1990-07-26T00:00:00",
          "1990-08-08T00:00:00",
          "1990-09-11T00:00:00",
          "1990-10-01T00:00:00",
          "1990-10-02T00:00:00",
          "1991-01-16T00:00:00",
          "1991-01-29T00:00:00",
          "1991-02-27T00:00:00",
          "1991-03-06T00:00:00",
          "1991-07-31T00:00:00",
          "1992-01-28T00:00:00",
          "1992-08-20T00:00:00",
          "1992-10-11T00:00:00",
          "1992-12-04T00:00:00",
          "1992-12-15T00:00:00",
          "1993-01-05T00:00:00"
         ],
         "y": [
          0.093,
          0.093,
          0.058,
          0.065,
          0.078,
          0.136,
          0.043,
          0.029,
          0.107,
          0.093,
          0.121,
          0.136,
          0.152,
          0.109,
          0.123,
          0.143,
          0.053,
          0.09,
          0.085,
          0.094,
          0.091,
          0.109,
          0.093
         ]
        },
        {
         "line": {
          "color": "green",
          "shape": "spline"
         },
         "name": "Ratio positive",
         "type": "scatter",
         "x": [
          "1988-08-18T00:00:00",
          "1988-09-25T00:00:00",
          "1989-01-20T00:00:00",
          "1989-02-09T00:00:00",
          "1989-05-12T00:00:00",
          "1989-12-20T00:00:00",
          "1990-01-31T00:00:00",
          "1990-07-26T00:00:00",
          "1990-08-08T00:00:00",
          "1990-09-11T00:00:00",
          "1990-10-01T00:00:00",
          "1990-10-02T00:00:00",
          "1991-01-16T00:00:00",
          "1991-01-29T00:00:00",
          "1991-02-27T00:00:00",
          "1991-03-06T00:00:00",
          "1991-07-31T00:00:00",
          "1992-01-28T00:00:00",
          "1992-08-20T00:00:00",
          "1992-10-11T00:00:00",
          "1992-12-04T00:00:00",
          "1992-12-15T00:00:00",
          "1993-01-05T00:00:00"
         ],
         "y": [
          0.209,
          0.158,
          0.282,
          0.173,
          0.191,
          0.124,
          0.195,
          0.23,
          0.128,
          0.155,
          0.157,
          0.218,
          0.123,
          0.193,
          0.163,
          0.142,
          0.143,
          0.182,
          0.182,
          0.147,
          0.153,
          0.2,
          0.221
         ]
        },
        {
         "line": {
          "color": "red",
          "shape": "spline"
         },
         "name": "Ratio negative",
         "type": "scatter",
         "x": [
          "1993-01-20T00:00:00",
          "1993-01-29T00:00:00",
          "1993-02-05T00:00:00",
          "1993-02-17T00:00:00",
          "1993-04-30T00:00:00",
          "1993-05-05T00:00:00",
          "1993-06-06T00:00:00",
          "1993-09-13T00:00:00",
          "1993-09-22T00:00:00",
          "1993-10-07T00:00:00",
          "1993-11-13T00:00:00",
          "1993-12-08T00:00:00",
          "1994-01-25T00:00:00",
          "1994-06-06T00:00:00",
          "1994-07-12T00:00:00",
          "1995-01-24T00:00:00",
          "1995-04-23T00:00:00",
          "1995-07-19T00:00:00",
          "1995-10-16T00:00:00",
          "1995-11-27T00:00:00",
          "1995-11-30T00:00:00",
          "1996-01-23T00:00:00",
          "1996-06-25T00:00:00",
          "1996-08-29T00:00:00",
          "1996-10-06T00:00:00",
          "1996-11-03T00:00:00",
          "1997-01-20T00:00:00",
          "1997-02-04T00:00:00",
          "1997-04-22T00:00:00",
          "1998-01-26T00:00:00",
          "1998-01-27T00:00:00",
          "1998-03-23T00:00:00",
          "1998-03-25T00:00:00",
          "1998-08-17T00:00:00",
          "1999-01-19T00:00:00",
          "1999-03-24T00:00:00",
          "1999-06-10T00:00:00",
          "2000-01-27T00:00:00",
          "2001-01-18T00:00:00"
         ],
         "y": [
          0.085,
          0.049,
          0.054,
          0.102,
          0.055,
          0.065,
          0.142,
          0.085,
          0.079,
          0.123,
          0.124,
          0.052,
          0.127,
          0.103,
          0.041,
          0.103,
          0.179,
          0.048,
          0.099,
          0.18,
          0.09,
          0.103,
          0.174,
          0.1,
          0.062,
          0.087,
          0.061,
          0.073,
          0.038,
          0.049,
          0.074,
          0.064,
          0.115,
          0.106,
          0.076,
          0.174,
          0.159,
          0.072,
          0.059
         ]
        },
        {
         "line": {
          "color": "green",
          "shape": "spline"
         },
         "name": "Ratio positive",
         "type": "scatter",
         "x": [
          "1993-01-20T00:00:00",
          "1993-01-29T00:00:00",
          "1993-02-05T00:00:00",
          "1993-02-17T00:00:00",
          "1993-04-30T00:00:00",
          "1993-05-05T00:00:00",
          "1993-06-06T00:00:00",
          "1993-09-13T00:00:00",
          "1993-09-22T00:00:00",
          "1993-10-07T00:00:00",
          "1993-11-13T00:00:00",
          "1993-12-08T00:00:00",
          "1994-01-25T00:00:00",
          "1994-06-06T00:00:00",
          "1994-07-12T00:00:00",
          "1995-01-24T00:00:00",
          "1995-04-23T00:00:00",
          "1995-07-19T00:00:00",
          "1995-10-16T00:00:00",
          "1995-11-27T00:00:00",
          "1995-11-30T00:00:00",
          "1996-01-23T00:00:00",
          "1996-06-25T00:00:00",
          "1996-08-29T00:00:00",
          "1996-10-06T00:00:00",
          "1996-11-03T00:00:00",
          "1997-01-20T00:00:00",
          "1997-02-04T00:00:00",
          "1997-04-22T00:00:00",
          "1998-01-26T00:00:00",
          "1998-01-27T00:00:00",
          "1998-03-23T00:00:00",
          "1998-03-25T00:00:00",
          "1998-08-17T00:00:00",
          "1999-01-19T00:00:00",
          "1999-03-24T00:00:00",
          "1999-06-10T00:00:00",
          "2000-01-27T00:00:00",
          "2001-01-18T00:00:00"
         ],
         "y": [
          0.185,
          0.119,
          0.241,
          0.19,
          0.153,
          0.192,
          0.157,
          0.133,
          0.183,
          0.145,
          0.183,
          0.205,
          0.221,
          0.161,
          0.179,
          0.17,
          0.224,
          0.119,
          0.199,
          0.164,
          0.195,
          0.179,
          0.181,
          0.189,
          0.12,
          0.157,
          0.213,
          0.18,
          0.239,
          0.196,
          0.193,
          0.213,
          0.19,
          0.141,
          0.195,
          0.14,
          0.153,
          0.209,
          0.197
         ]
        },
        {
         "line": {
          "color": "red",
          "shape": "spline"
         },
         "name": "Ratio negative",
         "type": "scatter",
         "x": [
          "2001-01-20T00:00:00",
          "2001-01-29T00:00:00",
          "2001-05-11T00:00:00",
          "2001-06-07T00:00:00",
          "2001-08-10T00:00:00",
          "2001-09-11T00:00:00",
          "2001-09-22T00:00:00",
          "2002-01-08T00:00:00",
          "2002-01-29T00:00:00",
          "2002-06-01T00:00:00",
          "2002-06-07T00:00:00",
          "2002-06-19T00:00:00",
          "2002-09-12T00:00:00",
          "2003-01-28T00:00:00",
          "2003-03-17T00:00:00",
          "2003-03-20T00:00:00",
          "2003-11-06T00:00:00",
          "2003-12-08T00:00:00",
          "2004-01-07T00:00:00",
          "2004-01-20T00:00:00",
          "2004-07-17T00:00:00",
          "2004-09-03T00:00:00",
          "2005-01-20T00:00:00",
          "2005-02-02T00:00:00",
          "2005-08-31T00:00:00",
          "2005-09-16T00:00:00",
          "2005-12-19T00:00:00",
          "2006-01-31T00:00:00",
          "2006-07-19T00:00:00",
          "2007-01-11T00:00:00",
          "2007-01-23T00:00:00",
          "2007-04-09T00:00:00",
          "2008-01-28T00:00:00",
          "2008-03-19T00:00:00",
          "2008-10-03T00:00:00",
          "2008-11-13T00:00:00",
          "2008-12-19T00:00:00",
          "2009-01-12T00:00:00",
          "2009-01-15T00:00:00"
         ],
         "y": [
          0.09,
          0.041,
          0.074,
          0.045,
          0.043,
          0.229,
          0.171,
          0.037,
          0.153,
          0.186,
          0.17,
          0.088,
          0.22,
          0.174,
          0.267,
          0.16,
          0.087,
          0.05,
          0.07,
          0.147,
          0.211,
          0.099,
          0.089,
          0.123,
          0.043,
          0.083,
          0.281,
          0.134,
          0.081,
          0.116,
          0.126,
          0.055,
          0.106,
          0.205,
          0.068,
          0.057,
          0.077,
          0.109,
          0.123
         ]
        },
        {
         "line": {
          "color": "green",
          "shape": "spline"
         },
         "name": "Ratio positive",
         "type": "scatter",
         "x": [
          "2001-01-20T00:00:00",
          "2001-01-29T00:00:00",
          "2001-05-11T00:00:00",
          "2001-06-07T00:00:00",
          "2001-08-10T00:00:00",
          "2001-09-11T00:00:00",
          "2001-09-22T00:00:00",
          "2002-01-08T00:00:00",
          "2002-01-29T00:00:00",
          "2002-06-01T00:00:00",
          "2002-06-07T00:00:00",
          "2002-06-19T00:00:00",
          "2002-09-12T00:00:00",
          "2003-01-28T00:00:00",
          "2003-03-17T00:00:00",
          "2003-03-20T00:00:00",
          "2003-11-06T00:00:00",
          "2003-12-08T00:00:00",
          "2004-01-07T00:00:00",
          "2004-01-20T00:00:00",
          "2004-07-17T00:00:00",
          "2004-09-03T00:00:00",
          "2005-01-20T00:00:00",
          "2005-02-02T00:00:00",
          "2005-08-31T00:00:00",
          "2005-09-16T00:00:00",
          "2005-12-19T00:00:00",
          "2006-01-31T00:00:00",
          "2006-07-19T00:00:00",
          "2007-01-11T00:00:00",
          "2007-01-23T00:00:00",
          "2007-04-09T00:00:00",
          "2008-01-28T00:00:00",
          "2008-03-19T00:00:00",
          "2008-10-03T00:00:00",
          "2008-11-13T00:00:00",
          "2008-12-19T00:00:00",
          "2009-01-12T00:00:00",
          "2009-01-15T00:00:00"
         ],
         "y": [
          0.234,
          0.24,
          0.212,
          0.233,
          0.148,
          0.235,
          0.138,
          0.196,
          0.209,
          0.196,
          0.163,
          0.231,
          0.115,
          0.142,
          0.109,
          0.232,
          0.25,
          0.247,
          0.206,
          0.193,
          0.2,
          0.213,
          0.282,
          0.227,
          0.171,
          0.183,
          0.151,
          0.212,
          0.148,
          0.185,
          0.189,
          0.161,
          0.218,
          0.153,
          0.17,
          0.205,
          0.145,
          0.177,
          0.228
         ]
        },
        {
         "line": {
          "color": "red",
          "shape": "spline"
         },
         "name": "Ratio negative",
         "type": "scatter",
         "x": [
          "2008-08-28T00:00:00",
          "2008-11-04T00:00:00",
          "2009-01-20T00:00:00",
          "2009-01-29T00:00:00",
          "2009-02-07T00:00:00",
          "2009-02-24T00:00:00",
          "2009-05-26T00:00:00",
          "2009-06-04T00:00:00",
          "2009-09-09T00:00:00",
          "2009-12-01T00:00:00",
          "2009-12-10T00:00:00",
          "2010-01-27T00:00:00",
          "2010-02-09T00:00:00",
          "2010-03-15T00:00:00",
          "2010-04-15T00:00:00",
          "2010-04-28T00:00:00",
          "2010-06-15T00:00:00",
          "2010-08-31T00:00:00",
          "2010-09-23T00:00:00",
          "2010-11-03T00:00:00",
          "2011-01-12T00:00:00",
          "2011-01-25T00:00:00",
          "2011-05-01T00:00:00",
          "2011-05-19T00:00:00",
          "2011-05-25T00:00:00",
          "2011-06-22T00:00:00",
          "2011-09-08T00:00:00",
          "2011-10-21T00:00:00",
          "2012-01-24T00:00:00",
          "2012-09-06T00:00:00",
          "2012-11-06T00:00:00",
          "2012-12-16T00:00:00",
          "2013-01-21T00:00:00",
          "2013-01-29T00:00:00",
          "2013-02-13T00:00:00",
          "2013-03-01T00:00:00",
          "2013-03-21T00:00:00",
          "2013-04-08T00:00:00",
          "2013-07-19T00:00:00",
          "2013-07-24T00:00:00",
          "2013-09-10T00:00:00",
          "2013-12-04T00:00:00",
          "2014-01-28T00:00:00",
          "2014-11-20T00:00:00",
          "2015-01-20T00:00:00",
          "2015-03-07T00:00:00",
          "2015-06-26T00:00:00",
          "2016-01-12T00:00:00",
          "2016-03-22T00:00:00",
          "2016-05-15T00:00:00"
         ],
         "y": [
          0.103,
          0.086,
          0.115,
          0.059,
          0.045,
          0.094,
          0.034,
          0.111,
          0.102,
          0.121,
          0.146,
          0.11,
          0.045,
          0.049,
          0.037,
          0.062,
          0.057,
          0.116,
          0.08,
          0.047,
          0.055,
          0.033,
          0.151,
          0.089,
          0.083,
          0.126,
          0.05,
          0.062,
          0.058,
          0.071,
          0.064,
          0.065,
          0.072,
          0.02,
          0.065,
          0.077,
          0.055,
          0.083,
          0.05,
          0.036,
          0.161,
          0.068,
          0.063,
          0.051,
          0.068,
          0.058,
          0.1,
          0.107,
          0.053,
          0.059
         ]
        },
        {
         "line": {
          "color": "green",
          "shape": "spline"
         },
         "name": "Ratio positive",
         "type": "scatter",
         "x": [
          "2008-08-28T00:00:00",
          "2008-11-04T00:00:00",
          "2009-01-20T00:00:00",
          "2009-01-29T00:00:00",
          "2009-02-07T00:00:00",
          "2009-02-24T00:00:00",
          "2009-05-26T00:00:00",
          "2009-06-04T00:00:00",
          "2009-09-09T00:00:00",
          "2009-12-01T00:00:00",
          "2009-12-10T00:00:00",
          "2010-01-27T00:00:00",
          "2010-02-09T00:00:00",
          "2010-03-15T00:00:00",
          "2010-04-15T00:00:00",
          "2010-04-28T00:00:00",
          "2010-06-15T00:00:00",
          "2010-08-31T00:00:00",
          "2010-09-23T00:00:00",
          "2010-11-03T00:00:00",
          "2011-01-12T00:00:00",
          "2011-01-25T00:00:00",
          "2011-05-01T00:00:00",
          "2011-05-19T00:00:00",
          "2011-05-25T00:00:00",
          "2011-06-22T00:00:00",
          "2011-09-08T00:00:00",
          "2011-10-21T00:00:00",
          "2012-01-24T00:00:00",
          "2012-09-06T00:00:00",
          "2012-11-06T00:00:00",
          "2012-12-16T00:00:00",
          "2013-01-21T00:00:00",
          "2013-01-29T00:00:00",
          "2013-02-13T00:00:00",
          "2013-03-01T00:00:00",
          "2013-03-21T00:00:00",
          "2013-04-08T00:00:00",
          "2013-07-19T00:00:00",
          "2013-07-24T00:00:00",
          "2013-09-10T00:00:00",
          "2013-12-04T00:00:00",
          "2014-01-28T00:00:00",
          "2014-11-20T00:00:00",
          "2015-01-20T00:00:00",
          "2015-03-07T00:00:00",
          "2015-06-26T00:00:00",
          "2016-01-12T00:00:00",
          "2016-03-22T00:00:00",
          "2016-05-15T00:00:00"
         ],
         "y": [
          0.14,
          0.163,
          0.19,
          0.138,
          0.147,
          0.146,
          0.173,
          0.167,
          0.177,
          0.122,
          0.132,
          0.157,
          0.151,
          0.118,
          0.136,
          0.138,
          0.122,
          0.121,
          0.133,
          0.134,
          0.186,
          0.111,
          0.145,
          0.124,
          0.139,
          0.117,
          0.114,
          0.157,
          0.117,
          0.134,
          0.175,
          0.171,
          0.154,
          0.113,
          0.154,
          0.112,
          0.141,
          0.114,
          0.121,
          0.146,
          0.095,
          0.158,
          0.144,
          0.167,
          0.137,
          0.138,
          0.187,
          0.201,
          0.139,
          0.161
         ]
        },
        {
         "line": {
          "color": "red",
          "shape": "spline"
         },
         "name": "Ratio negative",
         "type": "scatter",
         "x": [
          "2017-01-20T00:00:00",
          "2017-02-28T00:00:00",
          "2017-06-29T00:00:00",
          "2017-07-24T00:00:00",
          "2017-09-19T00:00:00",
          "2017-12-18T00:00:00",
          "2018-01-26T00:00:00",
          "2018-01-30T00:00:00",
          "2018-02-01T00:00:00",
          "2018-02-15T00:00:00",
          "2018-02-23T00:00:00",
          "2018-03-19T00:00:00",
          "2018-07-24T00:00:00",
          "2018-09-25T00:00:00",
          "2019-01-19T00:00:00",
          "2019-02-05T00:00:00",
          "2019-02-15T00:00:00",
          "2019-09-24T00:00:00",
          "2019-09-25T00:00:00",
          "2019-10-27T00:00:00",
          "2020-01-03T00:00:00",
          "2020-01-08T00:00:00"
         ],
         "y": [
          0.071,
          0.078,
          0.044,
          0.031,
          0.143,
          0.113,
          0.057,
          0.105,
          0.036,
          0.174,
          0.084,
          0.085,
          0.081,
          0.111,
          0.098,
          0.103,
          0.044,
          0.083,
          0.042,
          0.254,
          0.226,
          0.188
         ]
        },
        {
         "line": {
          "color": "green",
          "shape": "spline"
         },
         "name": "Ratio positive",
         "type": "scatter",
         "x": [
          "2017-01-20T00:00:00",
          "2017-02-28T00:00:00",
          "2017-06-29T00:00:00",
          "2017-07-24T00:00:00",
          "2017-09-19T00:00:00",
          "2017-12-18T00:00:00",
          "2018-01-26T00:00:00",
          "2018-01-30T00:00:00",
          "2018-02-01T00:00:00",
          "2018-02-15T00:00:00",
          "2018-02-23T00:00:00",
          "2018-03-19T00:00:00",
          "2018-07-24T00:00:00",
          "2018-09-25T00:00:00",
          "2019-01-19T00:00:00",
          "2019-02-05T00:00:00",
          "2019-02-15T00:00:00",
          "2019-09-24T00:00:00",
          "2019-09-25T00:00:00",
          "2019-10-27T00:00:00",
          "2020-01-03T00:00:00",
          "2020-01-08T00:00:00"
         ],
         "y": [
          0.213,
          0.182,
          0.203,
          0.211,
          0.198,
          0.213,
          0.144,
          0.154,
          0.182,
          0.203,
          0.186,
          0.186,
          0.21,
          0.216,
          0.143,
          0.133,
          0.103,
          0.194,
          0.109,
          0.16,
          0.188,
          0.105
         ]
        }
       ],
       "layout": {
        "showlegend": false,
        "template": {
         "data": {
          "bar": [
           {
            "error_x": {
             "color": "#2a3f5f"
            },
            "error_y": {
             "color": "#2a3f5f"
            },
            "marker": {
             "line": {
              "color": "#E5ECF6",
              "width": 0.5
             }
            },
            "type": "bar"
           }
          ],
          "barpolar": [
           {
            "marker": {
             "line": {
              "color": "#E5ECF6",
              "width": 0.5
             }
            },
            "type": "barpolar"
           }
          ],
          "carpet": [
           {
            "aaxis": {
             "endlinecolor": "#2a3f5f",
             "gridcolor": "white",
             "linecolor": "white",
             "minorgridcolor": "white",
             "startlinecolor": "#2a3f5f"
            },
            "baxis": {
             "endlinecolor": "#2a3f5f",
             "gridcolor": "white",
             "linecolor": "white",
             "minorgridcolor": "white",
             "startlinecolor": "#2a3f5f"
            },
            "type": "carpet"
           }
          ],
          "choropleth": [
           {
            "colorbar": {
             "outlinewidth": 0,
             "ticks": ""
            },
            "type": "choropleth"
           }
          ],
          "contour": [
           {
            "colorbar": {
             "outlinewidth": 0,
             "ticks": ""
            },
            "colorscale": [
             [
              0,
              "#0d0887"
             ],
             [
              0.1111111111111111,
              "#46039f"
             ],
             [
              0.2222222222222222,
              "#7201a8"
             ],
             [
              0.3333333333333333,
              "#9c179e"
             ],
             [
              0.4444444444444444,
              "#bd3786"
             ],
             [
              0.5555555555555556,
              "#d8576b"
             ],
             [
              0.6666666666666666,
              "#ed7953"
             ],
             [
              0.7777777777777778,
              "#fb9f3a"
             ],
             [
              0.8888888888888888,
              "#fdca26"
             ],
             [
              1,
              "#f0f921"
             ]
            ],
            "type": "contour"
           }
          ],
          "contourcarpet": [
           {
            "colorbar": {
             "outlinewidth": 0,
             "ticks": ""
            },
            "type": "contourcarpet"
           }
          ],
          "heatmap": [
           {
            "colorbar": {
             "outlinewidth": 0,
             "ticks": ""
            },
            "colorscale": [
             [
              0,
              "#0d0887"
             ],
             [
              0.1111111111111111,
              "#46039f"
             ],
             [
              0.2222222222222222,
              "#7201a8"
             ],
             [
              0.3333333333333333,
              "#9c179e"
             ],
             [
              0.4444444444444444,
              "#bd3786"
             ],
             [
              0.5555555555555556,
              "#d8576b"
             ],
             [
              0.6666666666666666,
              "#ed7953"
             ],
             [
              0.7777777777777778,
              "#fb9f3a"
             ],
             [
              0.8888888888888888,
              "#fdca26"
             ],
             [
              1,
              "#f0f921"
             ]
            ],
            "type": "heatmap"
           }
          ],
          "heatmapgl": [
           {
            "colorbar": {
             "outlinewidth": 0,
             "ticks": ""
            },
            "colorscale": [
             [
              0,
              "#0d0887"
             ],
             [
              0.1111111111111111,
              "#46039f"
             ],
             [
              0.2222222222222222,
              "#7201a8"
             ],
             [
              0.3333333333333333,
              "#9c179e"
             ],
             [
              0.4444444444444444,
              "#bd3786"
             ],
             [
              0.5555555555555556,
              "#d8576b"
             ],
             [
              0.6666666666666666,
              "#ed7953"
             ],
             [
              0.7777777777777778,
              "#fb9f3a"
             ],
             [
              0.8888888888888888,
              "#fdca26"
             ],
             [
              1,
              "#f0f921"
             ]
            ],
            "type": "heatmapgl"
           }
          ],
          "histogram": [
           {
            "marker": {
             "colorbar": {
              "outlinewidth": 0,
              "ticks": ""
             }
            },
            "type": "histogram"
           }
          ],
          "histogram2d": [
           {
            "colorbar": {
             "outlinewidth": 0,
             "ticks": ""
            },
            "colorscale": [
             [
              0,
              "#0d0887"
             ],
             [
              0.1111111111111111,
              "#46039f"
             ],
             [
              0.2222222222222222,
              "#7201a8"
             ],
             [
              0.3333333333333333,
              "#9c179e"
             ],
             [
              0.4444444444444444,
              "#bd3786"
             ],
             [
              0.5555555555555556,
              "#d8576b"
             ],
             [
              0.6666666666666666,
              "#ed7953"
             ],
             [
              0.7777777777777778,
              "#fb9f3a"
             ],
             [
              0.8888888888888888,
              "#fdca26"
             ],
             [
              1,
              "#f0f921"
             ]
            ],
            "type": "histogram2d"
           }
          ],
          "histogram2dcontour": [
           {
            "colorbar": {
             "outlinewidth": 0,
             "ticks": ""
            },
            "colorscale": [
             [
              0,
              "#0d0887"
             ],
             [
              0.1111111111111111,
              "#46039f"
             ],
             [
              0.2222222222222222,
              "#7201a8"
             ],
             [
              0.3333333333333333,
              "#9c179e"
             ],
             [
              0.4444444444444444,
              "#bd3786"
             ],
             [
              0.5555555555555556,
              "#d8576b"
             ],
             [
              0.6666666666666666,
              "#ed7953"
             ],
             [
              0.7777777777777778,
              "#fb9f3a"
             ],
             [
              0.8888888888888888,
              "#fdca26"
             ],
             [
              1,
              "#f0f921"
             ]
            ],
            "type": "histogram2dcontour"
           }
          ],
          "mesh3d": [
           {
            "colorbar": {
             "outlinewidth": 0,
             "ticks": ""
            },
            "type": "mesh3d"
           }
          ],
          "parcoords": [
           {
            "line": {
             "colorbar": {
              "outlinewidth": 0,
              "ticks": ""
             }
            },
            "type": "parcoords"
           }
          ],
          "pie": [
           {
            "automargin": true,
            "type": "pie"
           }
          ],
          "scatter": [
           {
            "marker": {
             "colorbar": {
              "outlinewidth": 0,
              "ticks": ""
             }
            },
            "type": "scatter"
           }
          ],
          "scatter3d": [
           {
            "line": {
             "colorbar": {
              "outlinewidth": 0,
              "ticks": ""
             }
            },
            "marker": {
             "colorbar": {
              "outlinewidth": 0,
              "ticks": ""
             }
            },
            "type": "scatter3d"
           }
          ],
          "scattercarpet": [
           {
            "marker": {
             "colorbar": {
              "outlinewidth": 0,
              "ticks": ""
             }
            },
            "type": "scattercarpet"
           }
          ],
          "scattergeo": [
           {
            "marker": {
             "colorbar": {
              "outlinewidth": 0,
              "ticks": ""
             }
            },
            "type": "scattergeo"
           }
          ],
          "scattergl": [
           {
            "marker": {
             "colorbar": {
              "outlinewidth": 0,
              "ticks": ""
             }
            },
            "type": "scattergl"
           }
          ],
          "scattermapbox": [
           {
            "marker": {
             "colorbar": {
              "outlinewidth": 0,
              "ticks": ""
             }
            },
            "type": "scattermapbox"
           }
          ],
          "scatterpolar": [
           {
            "marker": {
             "colorbar": {
              "outlinewidth": 0,
              "ticks": ""
             }
            },
            "type": "scatterpolar"
           }
          ],
          "scatterpolargl": [
           {
            "marker": {
             "colorbar": {
              "outlinewidth": 0,
              "ticks": ""
             }
            },
            "type": "scatterpolargl"
           }
          ],
          "scatterternary": [
           {
            "marker": {
             "colorbar": {
              "outlinewidth": 0,
              "ticks": ""
             }
            },
            "type": "scatterternary"
           }
          ],
          "surface": [
           {
            "colorbar": {
             "outlinewidth": 0,
             "ticks": ""
            },
            "colorscale": [
             [
              0,
              "#0d0887"
             ],
             [
              0.1111111111111111,
              "#46039f"
             ],
             [
              0.2222222222222222,
              "#7201a8"
             ],
             [
              0.3333333333333333,
              "#9c179e"
             ],
             [
              0.4444444444444444,
              "#bd3786"
             ],
             [
              0.5555555555555556,
              "#d8576b"
             ],
             [
              0.6666666666666666,
              "#ed7953"
             ],
             [
              0.7777777777777778,
              "#fb9f3a"
             ],
             [
              0.8888888888888888,
              "#fdca26"
             ],
             [
              1,
              "#f0f921"
             ]
            ],
            "type": "surface"
           }
          ],
          "table": [
           {
            "cells": {
             "fill": {
              "color": "#EBF0F8"
             },
             "line": {
              "color": "white"
             }
            },
            "header": {
             "fill": {
              "color": "#C8D4E3"
             },
             "line": {
              "color": "white"
             }
            },
            "type": "table"
           }
          ]
         },
         "layout": {
          "annotationdefaults": {
           "arrowcolor": "#2a3f5f",
           "arrowhead": 0,
           "arrowwidth": 1
          },
          "coloraxis": {
           "colorbar": {
            "outlinewidth": 0,
            "ticks": ""
           }
          },
          "colorscale": {
           "diverging": [
            [
             0,
             "#8e0152"
            ],
            [
             0.1,
             "#c51b7d"
            ],
            [
             0.2,
             "#de77ae"
            ],
            [
             0.3,
             "#f1b6da"
            ],
            [
             0.4,
             "#fde0ef"
            ],
            [
             0.5,
             "#f7f7f7"
            ],
            [
             0.6,
             "#e6f5d0"
            ],
            [
             0.7,
             "#b8e186"
            ],
            [
             0.8,
             "#7fbc41"
            ],
            [
             0.9,
             "#4d9221"
            ],
            [
             1,
             "#276419"
            ]
           ],
           "sequential": [
            [
             0,
             "#0d0887"
            ],
            [
             0.1111111111111111,
             "#46039f"
            ],
            [
             0.2222222222222222,
             "#7201a8"
            ],
            [
             0.3333333333333333,
             "#9c179e"
            ],
            [
             0.4444444444444444,
             "#bd3786"
            ],
            [
             0.5555555555555556,
             "#d8576b"
            ],
            [
             0.6666666666666666,
             "#ed7953"
            ],
            [
             0.7777777777777778,
             "#fb9f3a"
            ],
            [
             0.8888888888888888,
             "#fdca26"
            ],
            [
             1,
             "#f0f921"
            ]
           ],
           "sequentialminus": [
            [
             0,
             "#0d0887"
            ],
            [
             0.1111111111111111,
             "#46039f"
            ],
            [
             0.2222222222222222,
             "#7201a8"
            ],
            [
             0.3333333333333333,
             "#9c179e"
            ],
            [
             0.4444444444444444,
             "#bd3786"
            ],
            [
             0.5555555555555556,
             "#d8576b"
            ],
            [
             0.6666666666666666,
             "#ed7953"
            ],
            [
             0.7777777777777778,
             "#fb9f3a"
            ],
            [
             0.8888888888888888,
             "#fdca26"
            ],
            [
             1,
             "#f0f921"
            ]
           ]
          },
          "colorway": [
           "#636efa",
           "#EF553B",
           "#00cc96",
           "#ab63fa",
           "#FFA15A",
           "#19d3f3",
           "#FF6692",
           "#B6E880",
           "#FF97FF",
           "#FECB52"
          ],
          "font": {
           "color": "#2a3f5f"
          },
          "geo": {
           "bgcolor": "white",
           "lakecolor": "white",
           "landcolor": "#E5ECF6",
           "showlakes": true,
           "showland": true,
           "subunitcolor": "white"
          },
          "hoverlabel": {
           "align": "left"
          },
          "hovermode": "closest",
          "mapbox": {
           "style": "light"
          },
          "paper_bgcolor": "white",
          "plot_bgcolor": "#E5ECF6",
          "polar": {
           "angularaxis": {
            "gridcolor": "white",
            "linecolor": "white",
            "ticks": ""
           },
           "bgcolor": "#E5ECF6",
           "radialaxis": {
            "gridcolor": "white",
            "linecolor": "white",
            "ticks": ""
           }
          },
          "scene": {
           "xaxis": {
            "backgroundcolor": "#E5ECF6",
            "gridcolor": "white",
            "gridwidth": 2,
            "linecolor": "white",
            "showbackground": true,
            "ticks": "",
            "zerolinecolor": "white"
           },
           "yaxis": {
            "backgroundcolor": "#E5ECF6",
            "gridcolor": "white",
            "gridwidth": 2,
            "linecolor": "white",
            "showbackground": true,
            "ticks": "",
            "zerolinecolor": "white"
           },
           "zaxis": {
            "backgroundcolor": "#E5ECF6",
            "gridcolor": "white",
            "gridwidth": 2,
            "linecolor": "white",
            "showbackground": true,
            "ticks": "",
            "zerolinecolor": "white"
           }
          },
          "shapedefaults": {
           "line": {
            "color": "#2a3f5f"
           }
          },
          "ternary": {
           "aaxis": {
            "gridcolor": "white",
            "linecolor": "white",
            "ticks": ""
           },
           "baxis": {
            "gridcolor": "white",
            "linecolor": "white",
            "ticks": ""
           },
           "bgcolor": "#E5ECF6",
           "caxis": {
            "gridcolor": "white",
            "linecolor": "white",
            "ticks": ""
           }
          },
          "title": {
           "x": 0.05
          },
          "xaxis": {
           "automargin": true,
           "gridcolor": "white",
           "linecolor": "white",
           "ticks": "",
           "title": {
            "standoff": 15
           },
           "zerolinecolor": "white",
           "zerolinewidth": 2
          },
          "yaxis": {
           "automargin": true,
           "gridcolor": "white",
           "linecolor": "white",
           "ticks": "",
           "title": {
            "standoff": 15
           },
           "zerolinecolor": "white",
           "zerolinewidth": 2
          }
         }
        },
        "title": {
         "text": "President and Sentiment"
        },
        "updatemenus": [
         {
          "active": -1,
          "buttons": [
           {
            "args": [
             {
              "visible": [
               true,
               true,
               false,
               false,
               false,
               false,
               false,
               false,
               false,
               false,
               false,
               false,
               false,
               false,
               false,
               false,
               false,
               false,
               false,
               false,
               false,
               false
              ]
             },
             {
              "title": "George Washington"
             }
            ],
            "label": "George Washington",
            "method": "update"
           },
           {
            "args": [
             {
              "visible": [
               false,
               false,
               true,
               true,
               false,
               false,
               false,
               false,
               false,
               false,
               false,
               false,
               false,
               false,
               false,
               false,
               false,
               false,
               false,
               false,
               false,
               false
              ]
             },
             {
              "title": "Thomas Jefferson"
             }
            ],
            "label": "Thomas Jefferson",
            "method": "update"
           },
           {
            "args": [
             {
              "visible": [
               false,
               false,
               false,
               false,
               true,
               true,
               false,
               false,
               false,
               false,
               false,
               false,
               false,
               false,
               false,
               false,
               false,
               false,
               false,
               false,
               false,
               false
              ]
             },
             {
              "title": "Andrew Jackson"
             }
            ],
            "label": "Andrew Jackson",
            "method": "update"
           },
           {
            "args": [
             {
              "visible": [
               false,
               false,
               false,
               false,
               false,
               false,
               true,
               true,
               false,
               false,
               false,
               false,
               false,
               false,
               false,
               false,
               false,
               false,
               false,
               false,
               false,
               false
              ]
             },
             {
              "title": "Franklin D. Roosevelt"
             }
            ],
            "label": "Franklin D. Roosevelt",
            "method": "update"
           },
           {
            "args": [
             {
              "visible": [
               false,
               false,
               false,
               false,
               false,
               false,
               false,
               false,
               true,
               true,
               false,
               false,
               false,
               false,
               false,
               false,
               false,
               false,
               false,
               false,
               false,
               false
              ]
             },
             {
              "title": "Richard M. Nixon"
             }
            ],
            "label": "Richard M. Nixon",
            "method": "update"
           },
           {
            "args": [
             {
              "visible": [
               false,
               false,
               false,
               false,
               false,
               false,
               false,
               false,
               false,
               false,
               true,
               true,
               false,
               false,
               false,
               false,
               false,
               false,
               false,
               false,
               false,
               false
              ]
             },
             {
              "title": "Ronald Reagan"
             }
            ],
            "label": "Ronald Reagan",
            "method": "update"
           },
           {
            "args": [
             {
              "visible": [
               false,
               false,
               false,
               false,
               false,
               false,
               false,
               false,
               false,
               false,
               false,
               false,
               true,
               true,
               false,
               false,
               false,
               false,
               false,
               false,
               false,
               false
              ]
             },
             {
              "title": "George H. W. Bush"
             }
            ],
            "label": "George H. W. Bush",
            "method": "update"
           },
           {
            "args": [
             {
              "visible": [
               false,
               false,
               false,
               false,
               false,
               false,
               false,
               false,
               false,
               false,
               false,
               false,
               false,
               false,
               true,
               true,
               false,
               false,
               false,
               false,
               false,
               false
              ]
             },
             {
              "title": "Bill Clinton"
             }
            ],
            "label": "Bill Clinton",
            "method": "update"
           },
           {
            "args": [
             {
              "visible": [
               false,
               false,
               false,
               false,
               false,
               false,
               false,
               false,
               false,
               false,
               false,
               false,
               false,
               false,
               false,
               false,
               true,
               true,
               false,
               false,
               false,
               false
              ]
             },
             {
              "title": "George W. Bush"
             }
            ],
            "label": "George W. Bush",
            "method": "update"
           },
           {
            "args": [
             {
              "visible": [
               false,
               false,
               false,
               false,
               false,
               false,
               false,
               false,
               false,
               false,
               false,
               false,
               false,
               false,
               false,
               false,
               false,
               false,
               true,
               true,
               false,
               false
              ]
             },
             {
              "title": "Barack Obama"
             }
            ],
            "label": "Barack Obama",
            "method": "update"
           },
           {
            "args": [
             {
              "visible": [
               false,
               false,
               false,
               false,
               false,
               false,
               false,
               false,
               false,
               false,
               false,
               false,
               false,
               false,
               false,
               false,
               false,
               false,
               false,
               false,
               true,
               true
              ]
             },
             {
              "title": "Donald Trump"
             }
            ],
            "label": "Donald Trump",
            "method": "update"
           }
          ],
          "type": "buttons"
         }
        ],
        "xaxis": {
         "autorange": true,
         "domain": [
          0,
          1
         ],
         "range": [
          0,
          21
         ],
         "showspikes": false,
         "side": "bottom",
         "title": {
          "text": "Date"
         },
         "type": "category"
        }
       }
      },
      "text/html": [
       "<div>\n",
       "        \n",
       "        \n",
       "            <div id=\"89bfeea3-f723-4dd1-a561-7c2c500976d7\" class=\"plotly-graph-div\" style=\"height:525px; width:100%;\"></div>\n",
       "            <script type=\"text/javascript\">\n",
       "                require([\"plotly\"], function(Plotly) {\n",
       "                    window.PLOTLYENV=window.PLOTLYENV || {};\n",
       "                    \n",
       "                if (document.getElementById(\"89bfeea3-f723-4dd1-a561-7c2c500976d7\")) {\n",
       "                    Plotly.newPlot(\n",
       "                        '89bfeea3-f723-4dd1-a561-7c2c500976d7',\n",
       "                        [{\"line\": {\"color\": \"red\", \"shape\": \"spline\"}, \"name\": \"Ratio negative\", \"type\": \"scatter\", \"x\": [\"1789-04-30T00:00:00\", \"1789-10-03T00:00:00\", \"1790-01-08T00:00:00\", \"1790-12-08T00:00:00\", \"1790-12-29T00:00:00\", \"1791-10-25T00:00:00\", \"1792-04-05T00:00:00\", \"1792-11-06T00:00:00\", \"1792-12-12T00:00:00\", \"1793-03-04T00:00:00\", \"1793-04-22T00:00:00\", \"1793-12-03T00:00:00\", \"1794-08-07T00:00:00\", \"1794-09-25T00:00:00\", \"1794-11-19T00:00:00\", \"1795-07-10T00:00:00\", \"1795-12-08T00:00:00\", \"1796-03-30T00:00:00\", \"1796-08-29T00:00:00\", \"1796-09-19T00:00:00\", \"1796-12-07T00:00:00\"], \"y\": [0.037, 0.014, 0.033, 0.077, 0.121, 0.031, 0.029, 0.059, 0.148, 0.021, 0.124, 0.071, 0.099, 0.053, 0.096, 0.111, 0.105, 0.051, 0.035, 0.088, 0.085]}, {\"line\": {\"color\": \"green\", \"shape\": \"spline\"}, \"name\": \"Ratio positive\", \"type\": \"scatter\", \"x\": [\"1789-04-30T00:00:00\", \"1789-10-03T00:00:00\", \"1790-01-08T00:00:00\", \"1790-12-08T00:00:00\", \"1790-12-29T00:00:00\", \"1791-10-25T00:00:00\", \"1792-04-05T00:00:00\", \"1792-11-06T00:00:00\", \"1792-12-12T00:00:00\", \"1793-03-04T00:00:00\", \"1793-04-22T00:00:00\", \"1793-12-03T00:00:00\", \"1794-08-07T00:00:00\", \"1794-09-25T00:00:00\", \"1794-11-19T00:00:00\", \"1795-07-10T00:00:00\", \"1795-12-08T00:00:00\", \"1796-03-30T00:00:00\", \"1796-08-29T00:00:00\", \"1796-09-19T00:00:00\", \"1796-12-07T00:00:00\"], \"y\": [0.264, 0.364, 0.257, 0.202, 0.171, 0.145, 0.202, 0.13, 0.189, 0.088, 0.213, 0.137, 0.08, 0.19, 0.12, 0.134, 0.157, 0.152, 0.235, 0.2, 0.156]}, {\"line\": {\"color\": \"red\", \"shape\": \"spline\"}, \"name\": \"Ratio negative\", \"type\": \"scatter\", \"x\": [\"1801-03-04T00:00:00\", \"1801-07-12T00:00:00\", \"1801-12-08T00:00:00\", \"1802-01-01T00:00:00\", \"1802-11-03T00:00:00\", \"1802-12-15T00:00:00\", \"1803-01-18T00:00:00\", \"1803-06-20T00:00:00\", \"1803-10-17T00:00:00\", \"1803-12-17T00:00:00\", \"1804-11-08T00:00:00\", \"1805-03-04T00:00:00\", \"1805-12-03T00:00:00\", \"1805-12-06T00:00:00\", \"1806-01-10T00:00:00\", \"1806-11-27T00:00:00\", \"1806-12-02T00:00:00\", \"1806-12-30T00:00:00\", \"1807-01-22T00:00:00\", \"1807-02-10T00:00:00\", \"1807-07-02T00:00:00\", \"1807-10-27T00:00:00\", \"1808-11-08T00:00:00\", \"1809-04-03T00:00:00\"], \"y\": [0.076, 0.058, 0.076, 0.031, 0.073, 0.069, 0.031, 0.051, 0.08, 0.075, 0.078, 0.065, 0.077, 0.068, 0.144, 0.055, 0.053, 0.065, 0.048, 0.079, 0.089, 0.081, 0.065, 0.059]}, {\"line\": {\"color\": \"green\", \"shape\": \"spline\"}, \"name\": \"Ratio positive\", \"type\": \"scatter\", \"x\": [\"1801-03-04T00:00:00\", \"1801-07-12T00:00:00\", \"1801-12-08T00:00:00\", \"1802-01-01T00:00:00\", \"1802-11-03T00:00:00\", \"1802-12-15T00:00:00\", \"1803-01-18T00:00:00\", \"1803-06-20T00:00:00\", \"1803-10-17T00:00:00\", \"1803-12-17T00:00:00\", \"1804-11-08T00:00:00\", \"1805-03-04T00:00:00\", \"1805-12-03T00:00:00\", \"1805-12-06T00:00:00\", \"1806-01-10T00:00:00\", \"1806-11-27T00:00:00\", \"1806-12-02T00:00:00\", \"1806-12-30T00:00:00\", \"1807-01-22T00:00:00\", \"1807-02-10T00:00:00\", \"1807-07-02T00:00:00\", \"1807-10-27T00:00:00\", \"1808-11-08T00:00:00\", \"1809-04-03T00:00:00\"], \"y\": [0.237, 0.168, 0.142, 0.274, 0.213, 0.125, 0.177, 0.147, 0.15, 0.24, 0.148, 0.193, 0.131, 0.086, 0.181, 0.109, 0.151, 0.267, 0.098, 0.083, 0.126, 0.1, 0.136, 0.208]}, {\"line\": {\"color\": \"red\", \"shape\": \"spline\"}, \"name\": \"Ratio negative\", \"type\": \"scatter\", \"x\": [\"1829-03-04T00:00:00\", \"1829-05-11T00:00:00\", \"1829-12-08T00:00:00\", \"1830-05-06T00:00:00\", \"1830-05-27T00:00:00\", \"1830-10-05T00:00:00\", \"1830-12-06T00:00:00\", \"1831-02-22T00:00:00\", \"1831-12-06T00:00:00\", \"1832-02-15T00:00:00\", \"1832-07-10T00:00:00\", \"1832-12-04T00:00:00\", \"1832-12-06T00:00:00\", \"1832-12-10T00:00:00\", \"1833-01-16T00:00:00\", \"1833-03-04T00:00:00\", \"1833-09-18T00:00:00\", \"1833-12-03T00:00:00\", \"1833-12-12T00:00:00\", \"1834-04-15T00:00:00\", \"1834-04-21T00:00:00\", \"1834-12-01T00:00:00\", \"1835-12-07T00:00:00\", \"1836-12-05T00:00:00\", \"1836-12-21T00:00:00\", \"1837-03-04T00:00:00\"], \"y\": [0.035, 0.022, 0.064, 0.005, 0.048, 0.005, 0.054, 0.054, 0.052, 0.031, 0.052, 0.075, 0.088, 0.094, 0.042, 0.053, 0.058, 0.061, 0.009, 0.058, 0.038, 0.076, 0.065, 0.061, 0.075, 0.098]}, {\"line\": {\"color\": \"green\", \"shape\": \"spline\"}, \"name\": \"Ratio positive\", \"type\": \"scatter\", \"x\": [\"1829-03-04T00:00:00\", \"1829-05-11T00:00:00\", \"1829-12-08T00:00:00\", \"1830-05-06T00:00:00\", \"1830-05-27T00:00:00\", \"1830-10-05T00:00:00\", \"1830-12-06T00:00:00\", \"1831-02-22T00:00:00\", \"1831-12-06T00:00:00\", \"1832-02-15T00:00:00\", \"1832-07-10T00:00:00\", \"1832-12-04T00:00:00\", \"1832-12-06T00:00:00\", \"1832-12-10T00:00:00\", \"1833-01-16T00:00:00\", \"1833-03-04T00:00:00\", \"1833-09-18T00:00:00\", \"1833-12-03T00:00:00\", \"1833-12-12T00:00:00\", \"1834-04-15T00:00:00\", \"1834-04-21T00:00:00\", \"1834-12-01T00:00:00\", \"1835-12-07T00:00:00\", \"1836-12-05T00:00:00\", \"1836-12-21T00:00:00\", \"1837-03-04T00:00:00\"], \"y\": [0.228, 0.057, 0.175, 0.126, 0.165, 0.075, 0.173, 0.084, 0.16, 0.167, 0.13, 0.167, 0.148, 0.112, 0.11, 0.163, 0.092, 0.148, 0.057, 0.103, 0.118, 0.126, 0.142, 0.128, 0.111, 0.199]}, {\"line\": {\"color\": \"red\", \"shape\": \"spline\"}, \"name\": \"Ratio negative\", \"type\": \"scatter\", \"x\": [\"1933-03-04T00:00:00\", \"1933-03-12T00:00:00\", \"1933-05-07T00:00:00\", \"1933-07-24T00:00:00\", \"1933-10-22T00:00:00\", \"1934-06-28T00:00:00\", \"1934-09-30T00:00:00\", \"1935-04-28T00:00:00\", \"1936-06-27T00:00:00\", \"1936-09-06T00:00:00\", \"1936-10-31T00:00:00\", \"1937-01-20T00:00:00\", \"1937-03-09T00:00:00\", \"1937-10-05T00:00:00\", \"1937-10-12T00:00:00\", \"1937-11-14T00:00:00\", \"1938-04-14T00:00:00\", \"1938-06-24T00:00:00\", \"1938-07-08T00:00:00\", \"1939-09-03T00:00:00\", \"1940-05-26T00:00:00\", \"1940-06-10T00:00:00\", \"1940-07-19T00:00:00\", \"1940-12-29T00:00:00\", \"1941-01-06T00:00:00\", \"1941-01-20T00:00:00\", \"1941-03-15T00:00:00\", \"1941-05-27T00:00:00\", \"1941-09-11T00:00:00\", \"1941-12-08T00:00:00\", \"1941-12-09T00:00:00\", \"1941-12-11T00:00:00\", \"1942-02-23T00:00:00\", \"1942-04-28T00:00:00\", \"1942-09-07T00:00:00\", \"1942-10-12T00:00:00\", \"1943-01-07T00:00:00\", \"1943-05-02T00:00:00\", \"1943-07-28T00:00:00\", \"1943-09-08T00:00:00\", \"1943-12-01T00:00:00\", \"1943-12-24T00:00:00\", \"1944-01-11T00:00:00\", \"1944-06-05T00:00:00\", \"1944-06-12T00:00:00\", \"1944-07-20T00:00:00\", \"1945-01-20T00:00:00\", \"1945-02-11T00:00:00\", \"1945-03-01T00:00:00\"], \"y\": [0.105, 0.057, 0.102, 0.08, 0.047, 0.061, 0.064, 0.08, 0.105, 0.053, 0.093, 0.096, 0.075, 0.145, 0.076, 0.06, 0.085, 0.069, 0.03, 0.144, 0.115, 0.11, 0.076, 0.134, 0.11, 0.071, 0.091, 0.135, 0.139, 0.161, 0.102, 0.214, 0.143, 0.151, 0.161, 0.14, 0.168, 0.15, 0.135, 0.187, 0.148, 0.101, 0.143, 0.084, 0.169, 0.099, 0.083, 0.071, 0.083]}, {\"line\": {\"color\": \"green\", \"shape\": \"spline\"}, \"name\": \"Ratio positive\", \"type\": \"scatter\", \"x\": [\"1933-03-04T00:00:00\", \"1933-03-12T00:00:00\", \"1933-05-07T00:00:00\", \"1933-07-24T00:00:00\", \"1933-10-22T00:00:00\", \"1934-06-28T00:00:00\", \"1934-09-30T00:00:00\", \"1935-04-28T00:00:00\", \"1936-06-27T00:00:00\", \"1936-09-06T00:00:00\", \"1936-10-31T00:00:00\", \"1937-01-20T00:00:00\", \"1937-03-09T00:00:00\", \"1937-10-05T00:00:00\", \"1937-10-12T00:00:00\", \"1937-11-14T00:00:00\", \"1938-04-14T00:00:00\", \"1938-06-24T00:00:00\", \"1938-07-08T00:00:00\", \"1939-09-03T00:00:00\", \"1940-05-26T00:00:00\", \"1940-06-10T00:00:00\", \"1940-07-19T00:00:00\", \"1940-12-29T00:00:00\", \"1941-01-06T00:00:00\", \"1941-01-20T00:00:00\", \"1941-03-15T00:00:00\", \"1941-05-27T00:00:00\", \"1941-09-11T00:00:00\", \"1941-12-08T00:00:00\", \"1941-12-09T00:00:00\", \"1941-12-11T00:00:00\", \"1942-02-23T00:00:00\", \"1942-04-28T00:00:00\", \"1942-09-07T00:00:00\", \"1942-10-12T00:00:00\", \"1943-01-07T00:00:00\", \"1943-05-02T00:00:00\", \"1943-07-28T00:00:00\", \"1943-09-08T00:00:00\", \"1943-12-01T00:00:00\", \"1943-12-24T00:00:00\", \"1944-01-11T00:00:00\", \"1944-06-05T00:00:00\", \"1944-06-12T00:00:00\", \"1944-07-20T00:00:00\", \"1945-01-20T00:00:00\", \"1945-02-11T00:00:00\", \"1945-03-01T00:00:00\"], \"y\": [0.23, 0.169, 0.151, 0.206, 0.139, 0.196, 0.196, 0.166, 0.236, 0.164, 0.123, 0.172, 0.117, 0.143, 0.131, 0.148, 0.16, 0.138, 0.169, 0.129, 0.12, 0.16, 0.168, 0.142, 0.179, 0.2, 0.154, 0.147, 0.118, 0.075, 0.116, 0.064, 0.106, 0.119, 0.11, 0.145, 0.134, 0.113, 0.142, 0.147, 0.169, 0.18, 0.16, 0.178, 0.093, 0.138, 0.228, 0.083, 0.137]}, {\"line\": {\"color\": \"red\", \"shape\": \"spline\"}, \"name\": \"Ratio negative\", \"type\": \"scatter\", \"x\": [\"1952-09-23T00:00:00\", \"1969-01-20T00:00:00\", \"1969-11-03T00:00:00\", \"1970-01-22T00:00:00\", \"1970-04-30T00:00:00\", \"1971-01-22T00:00:00\", \"1971-02-25T00:00:00\", \"1971-04-07T00:00:00\", \"1971-05-20T00:00:00\", \"1972-01-20T00:00:00\", \"1972-01-25T00:00:00\", \"1972-05-08T00:00:00\", \"1972-11-06T00:00:00\", \"1972-11-07T00:00:00\", \"1973-01-20T00:00:00\", \"1973-01-23T00:00:00\", \"1973-04-30T00:00:00\", \"1973-08-15T00:00:00\", \"1974-01-30T00:00:00\", \"1974-02-25T00:00:00\", \"1974-04-29T00:00:00\", \"1974-08-08T00:00:00\", \"1974-08-09T00:00:00\"], \"y\": [0.08, 0.078, 0.111, 0.11, 0.098, 0.046, 0.096, 0.118, 0.054, 0.082, 0.1, 0.184, 0.072, 0.027, 0.064, 0.146, 0.05, 0.084, 0.057, 0.07, 0.05, 0.084, 0.119]}, {\"line\": {\"color\": \"green\", \"shape\": \"spline\"}, \"name\": \"Ratio positive\", \"type\": \"scatter\", \"x\": [\"1952-09-23T00:00:00\", \"1969-01-20T00:00:00\", \"1969-11-03T00:00:00\", \"1970-01-22T00:00:00\", \"1970-04-30T00:00:00\", \"1971-01-22T00:00:00\", \"1971-02-25T00:00:00\", \"1971-04-07T00:00:00\", \"1971-05-20T00:00:00\", \"1972-01-20T00:00:00\", \"1972-01-25T00:00:00\", \"1972-05-08T00:00:00\", \"1972-11-06T00:00:00\", \"1972-11-07T00:00:00\", \"1973-01-20T00:00:00\", \"1973-01-23T00:00:00\", \"1973-04-30T00:00:00\", \"1973-08-15T00:00:00\", \"1974-01-30T00:00:00\", \"1974-02-25T00:00:00\", \"1974-04-29T00:00:00\", \"1974-08-08T00:00:00\", \"1974-08-09T00:00:00\"], \"y\": [0.13, 0.224, 0.124, 0.188, 0.088, 0.158, 0.208, 0.144, 0.178, 0.202, 0.102, 0.123, 0.191, 0.297, 0.227, 0.199, 0.175, 0.14, 0.168, 0.108, 0.116, 0.215, 0.248]}, {\"line\": {\"color\": \"red\", \"shape\": \"spline\"}, \"name\": \"Ratio negative\", \"type\": \"scatter\", \"x\": [\"1964-10-27T00:00:00\", \"1976-08-19T00:00:00\", \"1979-11-13T00:00:00\", \"1980-07-17T00:00:00\", \"1981-01-20T00:00:00\", \"1981-01-29T00:00:00\", \"1981-04-28T00:00:00\", \"1981-05-17T00:00:00\", \"1981-06-29T00:00:00\", \"1981-07-27T00:00:00\", \"1981-08-03T00:00:00\", \"1981-11-18T00:00:00\", \"1981-12-23T00:00:00\", \"1982-01-26T00:00:00\", \"1982-06-08T00:00:00\", \"1982-06-09T00:00:00\", \"1982-06-17T00:00:00\", \"1982-08-16T00:00:00\", \"1982-09-01T00:00:00\", \"1982-09-20T00:00:00\", \"1983-01-25T00:00:00\", \"1983-02-18T00:00:00\", \"1983-03-08T00:00:00\", \"1983-03-23T00:00:00\", \"1983-04-27T00:00:00\", \"1983-09-05T00:00:00\", \"1983-10-27T00:00:00\", \"1983-11-02T00:00:00\", \"1983-11-04T00:00:00\", \"1984-01-25T00:00:00\", \"1984-01-29T00:00:00\", \"1984-05-28T00:00:00\", \"1984-06-03T00:00:00\", \"1984-06-06T00:00:00\", \"1984-08-23T00:00:00\", \"1984-10-07T00:00:00\", \"1984-10-21T00:00:00\", \"1985-01-21T00:00:00\", \"1985-02-06T00:00:00\", \"1985-05-05T00:00:00\", \"1985-11-21T00:00:00\", \"1986-01-28T00:00:00\", \"1986-02-04T00:00:00\", \"1986-04-14T00:00:00\", \"1986-09-14T00:00:00\", \"1986-10-13T00:00:00\", \"1986-10-22T00:00:00\", \"1987-01-27T00:00:00\", \"1987-03-04T00:00:00\", \"1987-06-12T00:00:00\", \"1987-12-08T00:00:00\", \"1987-12-10T00:00:00\", \"1988-01-25T00:00:00\", \"1988-05-31T00:00:00\", \"1988-08-15T00:00:00\", \"1988-09-26T00:00:00\", \"1988-11-11T00:00:00\", \"1988-12-16T00:00:00\", \"1989-01-11T00:00:00\"], \"y\": [0.088, 0.104, 0.061, 0.097, 0.074, 0.058, 0.072, 0.065, 0.07, 0.091, 0.05, 0.099, 0.105, 0.081, 0.106, 0.115, 0.122, 0.094, 0.065, 0.072, 0.105, 0.093, 0.086, 0.109, 0.092, 0.135, 0.123, 0.074, 0.145, 0.07, 0.094, 0.118, 0.047, 0.14, 0.088, 0.101, 0.102, 0.081, 0.071, 0.237, 0.076, 0.143, 0.103, 0.238, 0.098, 0.084, 0.102, 0.088, 0.039, 0.074, 0.068, 0.103, 0.072, 0.059, 0.106, 0.118, 0.102, 0.061, 0.06]}, {\"line\": {\"color\": \"green\", \"shape\": \"spline\"}, \"name\": \"Ratio positive\", \"type\": \"scatter\", \"x\": [\"1964-10-27T00:00:00\", \"1976-08-19T00:00:00\", \"1979-11-13T00:00:00\", \"1980-07-17T00:00:00\", \"1981-01-20T00:00:00\", \"1981-01-29T00:00:00\", \"1981-04-28T00:00:00\", \"1981-05-17T00:00:00\", \"1981-06-29T00:00:00\", \"1981-07-27T00:00:00\", \"1981-08-03T00:00:00\", \"1981-11-18T00:00:00\", \"1981-12-23T00:00:00\", \"1982-01-26T00:00:00\", \"1982-06-08T00:00:00\", \"1982-06-09T00:00:00\", \"1982-06-17T00:00:00\", \"1982-08-16T00:00:00\", \"1982-09-01T00:00:00\", \"1982-09-20T00:00:00\", \"1983-01-25T00:00:00\", \"1983-02-18T00:00:00\", \"1983-03-08T00:00:00\", \"1983-03-23T00:00:00\", \"1983-04-27T00:00:00\", \"1983-09-05T00:00:00\", \"1983-10-27T00:00:00\", \"1983-11-02T00:00:00\", \"1983-11-04T00:00:00\", \"1984-01-25T00:00:00\", \"1984-01-29T00:00:00\", \"1984-05-28T00:00:00\", \"1984-06-03T00:00:00\", \"1984-06-06T00:00:00\", \"1984-08-23T00:00:00\", \"1984-10-07T00:00:00\", \"1984-10-21T00:00:00\", \"1985-01-21T00:00:00\", \"1985-02-06T00:00:00\", \"1985-05-05T00:00:00\", \"1985-11-21T00:00:00\", \"1986-01-28T00:00:00\", \"1986-02-04T00:00:00\", \"1986-04-14T00:00:00\", \"1986-09-14T00:00:00\", \"1986-10-13T00:00:00\", \"1986-10-22T00:00:00\", \"1987-01-27T00:00:00\", \"1987-03-04T00:00:00\", \"1987-06-12T00:00:00\", \"1987-12-08T00:00:00\", \"1987-12-10T00:00:00\", \"1988-01-25T00:00:00\", \"1988-05-31T00:00:00\", \"1988-08-15T00:00:00\", \"1988-09-26T00:00:00\", \"1988-11-11T00:00:00\", \"1988-12-16T00:00:00\", \"1989-01-11T00:00:00\"], \"y\": [0.111, 0.183, 0.115, 0.17, 0.228, 0.13, 0.174, 0.181, 0.16, 0.147, 0.098, 0.136, 0.215, 0.176, 0.173, 0.154, 0.143, 0.158, 0.161, 0.123, 0.215, 0.148, 0.191, 0.145, 0.172, 0.103, 0.15, 0.161, 0.271, 0.243, 0.19, 0.218, 0.225, 0.222, 0.145, 0.137, 0.124, 0.221, 0.253, 0.153, 0.186, 0.222, 0.227, 0.116, 0.19, 0.16, 0.196, 0.184, 0.129, 0.208, 0.198, 0.189, 0.209, 0.185, 0.234, 0.157, 0.272, 0.195, 0.21]}, {\"line\": {\"color\": \"red\", \"shape\": \"spline\"}, \"name\": \"Ratio negative\", \"type\": \"scatter\", \"x\": [\"1988-08-18T00:00:00\", \"1988-09-25T00:00:00\", \"1989-01-20T00:00:00\", \"1989-02-09T00:00:00\", \"1989-05-12T00:00:00\", \"1989-12-20T00:00:00\", \"1990-01-31T00:00:00\", \"1990-07-26T00:00:00\", \"1990-08-08T00:00:00\", \"1990-09-11T00:00:00\", \"1990-10-01T00:00:00\", \"1990-10-02T00:00:00\", \"1991-01-16T00:00:00\", \"1991-01-29T00:00:00\", \"1991-02-27T00:00:00\", \"1991-03-06T00:00:00\", \"1991-07-31T00:00:00\", \"1992-01-28T00:00:00\", \"1992-08-20T00:00:00\", \"1992-10-11T00:00:00\", \"1992-12-04T00:00:00\", \"1992-12-15T00:00:00\", \"1993-01-05T00:00:00\"], \"y\": [0.093, 0.093, 0.058, 0.065, 0.078, 0.136, 0.043, 0.029, 0.107, 0.093, 0.121, 0.136, 0.152, 0.109, 0.123, 0.143, 0.053, 0.09, 0.085, 0.094, 0.091, 0.109, 0.093]}, {\"line\": {\"color\": \"green\", \"shape\": \"spline\"}, \"name\": \"Ratio positive\", \"type\": \"scatter\", \"x\": [\"1988-08-18T00:00:00\", \"1988-09-25T00:00:00\", \"1989-01-20T00:00:00\", \"1989-02-09T00:00:00\", \"1989-05-12T00:00:00\", \"1989-12-20T00:00:00\", \"1990-01-31T00:00:00\", \"1990-07-26T00:00:00\", \"1990-08-08T00:00:00\", \"1990-09-11T00:00:00\", \"1990-10-01T00:00:00\", \"1990-10-02T00:00:00\", \"1991-01-16T00:00:00\", \"1991-01-29T00:00:00\", \"1991-02-27T00:00:00\", \"1991-03-06T00:00:00\", \"1991-07-31T00:00:00\", \"1992-01-28T00:00:00\", \"1992-08-20T00:00:00\", \"1992-10-11T00:00:00\", \"1992-12-04T00:00:00\", \"1992-12-15T00:00:00\", \"1993-01-05T00:00:00\"], \"y\": [0.209, 0.158, 0.282, 0.173, 0.191, 0.124, 0.195, 0.23, 0.128, 0.155, 0.157, 0.218, 0.123, 0.193, 0.163, 0.142, 0.143, 0.182, 0.182, 0.147, 0.153, 0.2, 0.221]}, {\"line\": {\"color\": \"red\", \"shape\": \"spline\"}, \"name\": \"Ratio negative\", \"type\": \"scatter\", \"x\": [\"1993-01-20T00:00:00\", \"1993-01-29T00:00:00\", \"1993-02-05T00:00:00\", \"1993-02-17T00:00:00\", \"1993-04-30T00:00:00\", \"1993-05-05T00:00:00\", \"1993-06-06T00:00:00\", \"1993-09-13T00:00:00\", \"1993-09-22T00:00:00\", \"1993-10-07T00:00:00\", \"1993-11-13T00:00:00\", \"1993-12-08T00:00:00\", \"1994-01-25T00:00:00\", \"1994-06-06T00:00:00\", \"1994-07-12T00:00:00\", \"1995-01-24T00:00:00\", \"1995-04-23T00:00:00\", \"1995-07-19T00:00:00\", \"1995-10-16T00:00:00\", \"1995-11-27T00:00:00\", \"1995-11-30T00:00:00\", \"1996-01-23T00:00:00\", \"1996-06-25T00:00:00\", \"1996-08-29T00:00:00\", \"1996-10-06T00:00:00\", \"1996-11-03T00:00:00\", \"1997-01-20T00:00:00\", \"1997-02-04T00:00:00\", \"1997-04-22T00:00:00\", \"1998-01-26T00:00:00\", \"1998-01-27T00:00:00\", \"1998-03-23T00:00:00\", \"1998-03-25T00:00:00\", \"1998-08-17T00:00:00\", \"1999-01-19T00:00:00\", \"1999-03-24T00:00:00\", \"1999-06-10T00:00:00\", \"2000-01-27T00:00:00\", \"2001-01-18T00:00:00\"], \"y\": [0.085, 0.049, 0.054, 0.102, 0.055, 0.065, 0.142, 0.085, 0.079, 0.123, 0.124, 0.052, 0.127, 0.103, 0.041, 0.103, 0.179, 0.048, 0.099, 0.18, 0.09, 0.103, 0.174, 0.1, 0.062, 0.087, 0.061, 0.073, 0.038, 0.049, 0.074, 0.064, 0.115, 0.106, 0.076, 0.174, 0.159, 0.072, 0.059]}, {\"line\": {\"color\": \"green\", \"shape\": \"spline\"}, \"name\": \"Ratio positive\", \"type\": \"scatter\", \"x\": [\"1993-01-20T00:00:00\", \"1993-01-29T00:00:00\", \"1993-02-05T00:00:00\", \"1993-02-17T00:00:00\", \"1993-04-30T00:00:00\", \"1993-05-05T00:00:00\", \"1993-06-06T00:00:00\", \"1993-09-13T00:00:00\", \"1993-09-22T00:00:00\", \"1993-10-07T00:00:00\", \"1993-11-13T00:00:00\", \"1993-12-08T00:00:00\", \"1994-01-25T00:00:00\", \"1994-06-06T00:00:00\", \"1994-07-12T00:00:00\", \"1995-01-24T00:00:00\", \"1995-04-23T00:00:00\", \"1995-07-19T00:00:00\", \"1995-10-16T00:00:00\", \"1995-11-27T00:00:00\", \"1995-11-30T00:00:00\", \"1996-01-23T00:00:00\", \"1996-06-25T00:00:00\", \"1996-08-29T00:00:00\", \"1996-10-06T00:00:00\", \"1996-11-03T00:00:00\", \"1997-01-20T00:00:00\", \"1997-02-04T00:00:00\", \"1997-04-22T00:00:00\", \"1998-01-26T00:00:00\", \"1998-01-27T00:00:00\", \"1998-03-23T00:00:00\", \"1998-03-25T00:00:00\", \"1998-08-17T00:00:00\", \"1999-01-19T00:00:00\", \"1999-03-24T00:00:00\", \"1999-06-10T00:00:00\", \"2000-01-27T00:00:00\", \"2001-01-18T00:00:00\"], \"y\": [0.185, 0.119, 0.241, 0.19, 0.153, 0.192, 0.157, 0.133, 0.183, 0.145, 0.183, 0.205, 0.221, 0.161, 0.179, 0.17, 0.224, 0.119, 0.199, 0.164, 0.195, 0.179, 0.181, 0.189, 0.12, 0.157, 0.213, 0.18, 0.239, 0.196, 0.193, 0.213, 0.19, 0.141, 0.195, 0.14, 0.153, 0.209, 0.197]}, {\"line\": {\"color\": \"red\", \"shape\": \"spline\"}, \"name\": \"Ratio negative\", \"type\": \"scatter\", \"x\": [\"2001-01-20T00:00:00\", \"2001-01-29T00:00:00\", \"2001-05-11T00:00:00\", \"2001-06-07T00:00:00\", \"2001-08-10T00:00:00\", \"2001-09-11T00:00:00\", \"2001-09-22T00:00:00\", \"2002-01-08T00:00:00\", \"2002-01-29T00:00:00\", \"2002-06-01T00:00:00\", \"2002-06-07T00:00:00\", \"2002-06-19T00:00:00\", \"2002-09-12T00:00:00\", \"2003-01-28T00:00:00\", \"2003-03-17T00:00:00\", \"2003-03-20T00:00:00\", \"2003-11-06T00:00:00\", \"2003-12-08T00:00:00\", \"2004-01-07T00:00:00\", \"2004-01-20T00:00:00\", \"2004-07-17T00:00:00\", \"2004-09-03T00:00:00\", \"2005-01-20T00:00:00\", \"2005-02-02T00:00:00\", \"2005-08-31T00:00:00\", \"2005-09-16T00:00:00\", \"2005-12-19T00:00:00\", \"2006-01-31T00:00:00\", \"2006-07-19T00:00:00\", \"2007-01-11T00:00:00\", \"2007-01-23T00:00:00\", \"2007-04-09T00:00:00\", \"2008-01-28T00:00:00\", \"2008-03-19T00:00:00\", \"2008-10-03T00:00:00\", \"2008-11-13T00:00:00\", \"2008-12-19T00:00:00\", \"2009-01-12T00:00:00\", \"2009-01-15T00:00:00\"], \"y\": [0.09, 0.041, 0.074, 0.045, 0.043, 0.229, 0.171, 0.037, 0.153, 0.186, 0.17, 0.088, 0.22, 0.174, 0.267, 0.16, 0.087, 0.05, 0.07, 0.147, 0.211, 0.099, 0.089, 0.123, 0.043, 0.083, 0.281, 0.134, 0.081, 0.116, 0.126, 0.055, 0.106, 0.205, 0.068, 0.057, 0.077, 0.109, 0.123]}, {\"line\": {\"color\": \"green\", \"shape\": \"spline\"}, \"name\": \"Ratio positive\", \"type\": \"scatter\", \"x\": [\"2001-01-20T00:00:00\", \"2001-01-29T00:00:00\", \"2001-05-11T00:00:00\", \"2001-06-07T00:00:00\", \"2001-08-10T00:00:00\", \"2001-09-11T00:00:00\", \"2001-09-22T00:00:00\", \"2002-01-08T00:00:00\", \"2002-01-29T00:00:00\", \"2002-06-01T00:00:00\", \"2002-06-07T00:00:00\", \"2002-06-19T00:00:00\", \"2002-09-12T00:00:00\", \"2003-01-28T00:00:00\", \"2003-03-17T00:00:00\", \"2003-03-20T00:00:00\", \"2003-11-06T00:00:00\", \"2003-12-08T00:00:00\", \"2004-01-07T00:00:00\", \"2004-01-20T00:00:00\", \"2004-07-17T00:00:00\", \"2004-09-03T00:00:00\", \"2005-01-20T00:00:00\", \"2005-02-02T00:00:00\", \"2005-08-31T00:00:00\", \"2005-09-16T00:00:00\", \"2005-12-19T00:00:00\", \"2006-01-31T00:00:00\", \"2006-07-19T00:00:00\", \"2007-01-11T00:00:00\", \"2007-01-23T00:00:00\", \"2007-04-09T00:00:00\", \"2008-01-28T00:00:00\", \"2008-03-19T00:00:00\", \"2008-10-03T00:00:00\", \"2008-11-13T00:00:00\", \"2008-12-19T00:00:00\", \"2009-01-12T00:00:00\", \"2009-01-15T00:00:00\"], \"y\": [0.234, 0.24, 0.212, 0.233, 0.148, 0.235, 0.138, 0.196, 0.209, 0.196, 0.163, 0.231, 0.115, 0.142, 0.109, 0.232, 0.25, 0.247, 0.206, 0.193, 0.2, 0.213, 0.282, 0.227, 0.171, 0.183, 0.151, 0.212, 0.148, 0.185, 0.189, 0.161, 0.218, 0.153, 0.17, 0.205, 0.145, 0.177, 0.228]}, {\"line\": {\"color\": \"red\", \"shape\": \"spline\"}, \"name\": \"Ratio negative\", \"type\": \"scatter\", \"x\": [\"2008-08-28T00:00:00\", \"2008-11-04T00:00:00\", \"2009-01-20T00:00:00\", \"2009-01-29T00:00:00\", \"2009-02-07T00:00:00\", \"2009-02-24T00:00:00\", \"2009-05-26T00:00:00\", \"2009-06-04T00:00:00\", \"2009-09-09T00:00:00\", \"2009-12-01T00:00:00\", \"2009-12-10T00:00:00\", \"2010-01-27T00:00:00\", \"2010-02-09T00:00:00\", \"2010-03-15T00:00:00\", \"2010-04-15T00:00:00\", \"2010-04-28T00:00:00\", \"2010-06-15T00:00:00\", \"2010-08-31T00:00:00\", \"2010-09-23T00:00:00\", \"2010-11-03T00:00:00\", \"2011-01-12T00:00:00\", \"2011-01-25T00:00:00\", \"2011-05-01T00:00:00\", \"2011-05-19T00:00:00\", \"2011-05-25T00:00:00\", \"2011-06-22T00:00:00\", \"2011-09-08T00:00:00\", \"2011-10-21T00:00:00\", \"2012-01-24T00:00:00\", \"2012-09-06T00:00:00\", \"2012-11-06T00:00:00\", \"2012-12-16T00:00:00\", \"2013-01-21T00:00:00\", \"2013-01-29T00:00:00\", \"2013-02-13T00:00:00\", \"2013-03-01T00:00:00\", \"2013-03-21T00:00:00\", \"2013-04-08T00:00:00\", \"2013-07-19T00:00:00\", \"2013-07-24T00:00:00\", \"2013-09-10T00:00:00\", \"2013-12-04T00:00:00\", \"2014-01-28T00:00:00\", \"2014-11-20T00:00:00\", \"2015-01-20T00:00:00\", \"2015-03-07T00:00:00\", \"2015-06-26T00:00:00\", \"2016-01-12T00:00:00\", \"2016-03-22T00:00:00\", \"2016-05-15T00:00:00\"], \"y\": [0.103, 0.086, 0.115, 0.059, 0.045, 0.094, 0.034, 0.111, 0.102, 0.121, 0.146, 0.11, 0.045, 0.049, 0.037, 0.062, 0.057, 0.116, 0.08, 0.047, 0.055, 0.033, 0.151, 0.089, 0.083, 0.126, 0.05, 0.062, 0.058, 0.071, 0.064, 0.065, 0.072, 0.02, 0.065, 0.077, 0.055, 0.083, 0.05, 0.036, 0.161, 0.068, 0.063, 0.051, 0.068, 0.058, 0.1, 0.107, 0.053, 0.059]}, {\"line\": {\"color\": \"green\", \"shape\": \"spline\"}, \"name\": \"Ratio positive\", \"type\": \"scatter\", \"x\": [\"2008-08-28T00:00:00\", \"2008-11-04T00:00:00\", \"2009-01-20T00:00:00\", \"2009-01-29T00:00:00\", \"2009-02-07T00:00:00\", \"2009-02-24T00:00:00\", \"2009-05-26T00:00:00\", \"2009-06-04T00:00:00\", \"2009-09-09T00:00:00\", \"2009-12-01T00:00:00\", \"2009-12-10T00:00:00\", \"2010-01-27T00:00:00\", \"2010-02-09T00:00:00\", \"2010-03-15T00:00:00\", \"2010-04-15T00:00:00\", \"2010-04-28T00:00:00\", \"2010-06-15T00:00:00\", \"2010-08-31T00:00:00\", \"2010-09-23T00:00:00\", \"2010-11-03T00:00:00\", \"2011-01-12T00:00:00\", \"2011-01-25T00:00:00\", \"2011-05-01T00:00:00\", \"2011-05-19T00:00:00\", \"2011-05-25T00:00:00\", \"2011-06-22T00:00:00\", \"2011-09-08T00:00:00\", \"2011-10-21T00:00:00\", \"2012-01-24T00:00:00\", \"2012-09-06T00:00:00\", \"2012-11-06T00:00:00\", \"2012-12-16T00:00:00\", \"2013-01-21T00:00:00\", \"2013-01-29T00:00:00\", \"2013-02-13T00:00:00\", \"2013-03-01T00:00:00\", \"2013-03-21T00:00:00\", \"2013-04-08T00:00:00\", \"2013-07-19T00:00:00\", \"2013-07-24T00:00:00\", \"2013-09-10T00:00:00\", \"2013-12-04T00:00:00\", \"2014-01-28T00:00:00\", \"2014-11-20T00:00:00\", \"2015-01-20T00:00:00\", \"2015-03-07T00:00:00\", \"2015-06-26T00:00:00\", \"2016-01-12T00:00:00\", \"2016-03-22T00:00:00\", \"2016-05-15T00:00:00\"], \"y\": [0.14, 0.163, 0.19, 0.138, 0.147, 0.146, 0.173, 0.167, 0.177, 0.122, 0.132, 0.157, 0.151, 0.118, 0.136, 0.138, 0.122, 0.121, 0.133, 0.134, 0.186, 0.111, 0.145, 0.124, 0.139, 0.117, 0.114, 0.157, 0.117, 0.134, 0.175, 0.171, 0.154, 0.113, 0.154, 0.112, 0.141, 0.114, 0.121, 0.146, 0.095, 0.158, 0.144, 0.167, 0.137, 0.138, 0.187, 0.201, 0.139, 0.161]}, {\"line\": {\"color\": \"red\", \"shape\": \"spline\"}, \"name\": \"Ratio negative\", \"type\": \"scatter\", \"x\": [\"2017-01-20T00:00:00\", \"2017-02-28T00:00:00\", \"2017-06-29T00:00:00\", \"2017-07-24T00:00:00\", \"2017-09-19T00:00:00\", \"2017-12-18T00:00:00\", \"2018-01-26T00:00:00\", \"2018-01-30T00:00:00\", \"2018-02-01T00:00:00\", \"2018-02-15T00:00:00\", \"2018-02-23T00:00:00\", \"2018-03-19T00:00:00\", \"2018-07-24T00:00:00\", \"2018-09-25T00:00:00\", \"2019-01-19T00:00:00\", \"2019-02-05T00:00:00\", \"2019-02-15T00:00:00\", \"2019-09-24T00:00:00\", \"2019-09-25T00:00:00\", \"2019-10-27T00:00:00\", \"2020-01-03T00:00:00\", \"2020-01-08T00:00:00\"], \"y\": [0.071, 0.078, 0.044, 0.031, 0.143, 0.113, 0.057, 0.105, 0.036, 0.174, 0.084, 0.085, 0.081, 0.111, 0.098, 0.103, 0.044, 0.083, 0.042, 0.254, 0.226, 0.188]}, {\"line\": {\"color\": \"green\", \"shape\": \"spline\"}, \"name\": \"Ratio positive\", \"type\": \"scatter\", \"x\": [\"2017-01-20T00:00:00\", \"2017-02-28T00:00:00\", \"2017-06-29T00:00:00\", \"2017-07-24T00:00:00\", \"2017-09-19T00:00:00\", \"2017-12-18T00:00:00\", \"2018-01-26T00:00:00\", \"2018-01-30T00:00:00\", \"2018-02-01T00:00:00\", \"2018-02-15T00:00:00\", \"2018-02-23T00:00:00\", \"2018-03-19T00:00:00\", \"2018-07-24T00:00:00\", \"2018-09-25T00:00:00\", \"2019-01-19T00:00:00\", \"2019-02-05T00:00:00\", \"2019-02-15T00:00:00\", \"2019-09-24T00:00:00\", \"2019-09-25T00:00:00\", \"2019-10-27T00:00:00\", \"2020-01-03T00:00:00\", \"2020-01-08T00:00:00\"], \"y\": [0.213, 0.182, 0.203, 0.211, 0.198, 0.213, 0.144, 0.154, 0.182, 0.203, 0.186, 0.186, 0.21, 0.216, 0.143, 0.133, 0.103, 0.194, 0.109, 0.16, 0.188, 0.105]}],\n",
       "                        {\"showlegend\": false, \"template\": {\"data\": {\"bar\": [{\"error_x\": {\"color\": \"#2a3f5f\"}, \"error_y\": {\"color\": \"#2a3f5f\"}, \"marker\": {\"line\": {\"color\": \"#E5ECF6\", \"width\": 0.5}}, \"type\": \"bar\"}], \"barpolar\": [{\"marker\": {\"line\": {\"color\": \"#E5ECF6\", \"width\": 0.5}}, \"type\": \"barpolar\"}], \"carpet\": [{\"aaxis\": {\"endlinecolor\": \"#2a3f5f\", \"gridcolor\": \"white\", \"linecolor\": \"white\", \"minorgridcolor\": \"white\", \"startlinecolor\": \"#2a3f5f\"}, \"baxis\": {\"endlinecolor\": \"#2a3f5f\", \"gridcolor\": \"white\", \"linecolor\": \"white\", \"minorgridcolor\": \"white\", \"startlinecolor\": \"#2a3f5f\"}, \"type\": \"carpet\"}], \"choropleth\": [{\"colorbar\": {\"outlinewidth\": 0, \"ticks\": \"\"}, \"type\": \"choropleth\"}], \"contour\": [{\"colorbar\": {\"outlinewidth\": 0, \"ticks\": \"\"}, \"colorscale\": [[0.0, \"#0d0887\"], [0.1111111111111111, \"#46039f\"], [0.2222222222222222, \"#7201a8\"], [0.3333333333333333, \"#9c179e\"], [0.4444444444444444, \"#bd3786\"], [0.5555555555555556, \"#d8576b\"], [0.6666666666666666, \"#ed7953\"], [0.7777777777777778, \"#fb9f3a\"], [0.8888888888888888, \"#fdca26\"], [1.0, \"#f0f921\"]], \"type\": \"contour\"}], \"contourcarpet\": [{\"colorbar\": {\"outlinewidth\": 0, \"ticks\": \"\"}, \"type\": \"contourcarpet\"}], \"heatmap\": [{\"colorbar\": {\"outlinewidth\": 0, \"ticks\": \"\"}, \"colorscale\": [[0.0, \"#0d0887\"], [0.1111111111111111, \"#46039f\"], [0.2222222222222222, \"#7201a8\"], [0.3333333333333333, \"#9c179e\"], [0.4444444444444444, \"#bd3786\"], [0.5555555555555556, \"#d8576b\"], [0.6666666666666666, \"#ed7953\"], [0.7777777777777778, \"#fb9f3a\"], [0.8888888888888888, \"#fdca26\"], [1.0, \"#f0f921\"]], \"type\": \"heatmap\"}], \"heatmapgl\": [{\"colorbar\": {\"outlinewidth\": 0, \"ticks\": \"\"}, \"colorscale\": [[0.0, \"#0d0887\"], [0.1111111111111111, \"#46039f\"], [0.2222222222222222, \"#7201a8\"], [0.3333333333333333, \"#9c179e\"], [0.4444444444444444, \"#bd3786\"], [0.5555555555555556, \"#d8576b\"], [0.6666666666666666, \"#ed7953\"], [0.7777777777777778, \"#fb9f3a\"], [0.8888888888888888, \"#fdca26\"], [1.0, \"#f0f921\"]], \"type\": \"heatmapgl\"}], \"histogram\": [{\"marker\": {\"colorbar\": {\"outlinewidth\": 0, \"ticks\": \"\"}}, \"type\": \"histogram\"}], \"histogram2d\": [{\"colorbar\": {\"outlinewidth\": 0, \"ticks\": \"\"}, \"colorscale\": [[0.0, \"#0d0887\"], [0.1111111111111111, \"#46039f\"], [0.2222222222222222, \"#7201a8\"], [0.3333333333333333, \"#9c179e\"], [0.4444444444444444, \"#bd3786\"], [0.5555555555555556, \"#d8576b\"], [0.6666666666666666, \"#ed7953\"], [0.7777777777777778, \"#fb9f3a\"], [0.8888888888888888, \"#fdca26\"], [1.0, \"#f0f921\"]], \"type\": \"histogram2d\"}], \"histogram2dcontour\": [{\"colorbar\": {\"outlinewidth\": 0, \"ticks\": \"\"}, \"colorscale\": [[0.0, \"#0d0887\"], [0.1111111111111111, \"#46039f\"], [0.2222222222222222, \"#7201a8\"], [0.3333333333333333, \"#9c179e\"], [0.4444444444444444, \"#bd3786\"], [0.5555555555555556, \"#d8576b\"], [0.6666666666666666, \"#ed7953\"], [0.7777777777777778, \"#fb9f3a\"], [0.8888888888888888, \"#fdca26\"], [1.0, \"#f0f921\"]], \"type\": \"histogram2dcontour\"}], \"mesh3d\": [{\"colorbar\": {\"outlinewidth\": 0, \"ticks\": \"\"}, \"type\": \"mesh3d\"}], \"parcoords\": [{\"line\": {\"colorbar\": {\"outlinewidth\": 0, \"ticks\": \"\"}}, \"type\": \"parcoords\"}], \"pie\": [{\"automargin\": true, \"type\": \"pie\"}], \"scatter\": [{\"marker\": {\"colorbar\": {\"outlinewidth\": 0, \"ticks\": \"\"}}, \"type\": \"scatter\"}], \"scatter3d\": [{\"line\": {\"colorbar\": {\"outlinewidth\": 0, \"ticks\": \"\"}}, \"marker\": {\"colorbar\": {\"outlinewidth\": 0, \"ticks\": \"\"}}, \"type\": \"scatter3d\"}], \"scattercarpet\": [{\"marker\": {\"colorbar\": {\"outlinewidth\": 0, \"ticks\": \"\"}}, \"type\": \"scattercarpet\"}], \"scattergeo\": [{\"marker\": {\"colorbar\": {\"outlinewidth\": 0, \"ticks\": \"\"}}, \"type\": \"scattergeo\"}], \"scattergl\": [{\"marker\": {\"colorbar\": {\"outlinewidth\": 0, \"ticks\": \"\"}}, \"type\": \"scattergl\"}], \"scattermapbox\": [{\"marker\": {\"colorbar\": {\"outlinewidth\": 0, \"ticks\": \"\"}}, \"type\": \"scattermapbox\"}], \"scatterpolar\": [{\"marker\": {\"colorbar\": {\"outlinewidth\": 0, \"ticks\": \"\"}}, \"type\": \"scatterpolar\"}], \"scatterpolargl\": [{\"marker\": {\"colorbar\": {\"outlinewidth\": 0, \"ticks\": \"\"}}, \"type\": \"scatterpolargl\"}], \"scatterternary\": [{\"marker\": {\"colorbar\": {\"outlinewidth\": 0, \"ticks\": \"\"}}, \"type\": \"scatterternary\"}], \"surface\": [{\"colorbar\": {\"outlinewidth\": 0, \"ticks\": \"\"}, \"colorscale\": [[0.0, \"#0d0887\"], [0.1111111111111111, \"#46039f\"], [0.2222222222222222, \"#7201a8\"], [0.3333333333333333, \"#9c179e\"], [0.4444444444444444, \"#bd3786\"], [0.5555555555555556, \"#d8576b\"], [0.6666666666666666, \"#ed7953\"], [0.7777777777777778, \"#fb9f3a\"], [0.8888888888888888, \"#fdca26\"], [1.0, \"#f0f921\"]], \"type\": \"surface\"}], \"table\": [{\"cells\": {\"fill\": {\"color\": \"#EBF0F8\"}, \"line\": {\"color\": \"white\"}}, \"header\": {\"fill\": {\"color\": \"#C8D4E3\"}, \"line\": {\"color\": \"white\"}}, \"type\": \"table\"}]}, \"layout\": {\"annotationdefaults\": {\"arrowcolor\": \"#2a3f5f\", \"arrowhead\": 0, \"arrowwidth\": 1}, \"coloraxis\": {\"colorbar\": {\"outlinewidth\": 0, \"ticks\": \"\"}}, \"colorscale\": {\"diverging\": [[0, \"#8e0152\"], [0.1, \"#c51b7d\"], [0.2, \"#de77ae\"], [0.3, \"#f1b6da\"], [0.4, \"#fde0ef\"], [0.5, \"#f7f7f7\"], [0.6, \"#e6f5d0\"], [0.7, \"#b8e186\"], [0.8, \"#7fbc41\"], [0.9, \"#4d9221\"], [1, \"#276419\"]], \"sequential\": [[0.0, \"#0d0887\"], [0.1111111111111111, \"#46039f\"], [0.2222222222222222, \"#7201a8\"], [0.3333333333333333, \"#9c179e\"], [0.4444444444444444, \"#bd3786\"], [0.5555555555555556, \"#d8576b\"], [0.6666666666666666, \"#ed7953\"], [0.7777777777777778, \"#fb9f3a\"], [0.8888888888888888, \"#fdca26\"], [1.0, \"#f0f921\"]], \"sequentialminus\": [[0.0, \"#0d0887\"], [0.1111111111111111, \"#46039f\"], [0.2222222222222222, \"#7201a8\"], [0.3333333333333333, \"#9c179e\"], [0.4444444444444444, \"#bd3786\"], [0.5555555555555556, \"#d8576b\"], [0.6666666666666666, \"#ed7953\"], [0.7777777777777778, \"#fb9f3a\"], [0.8888888888888888, \"#fdca26\"], [1.0, \"#f0f921\"]]}, \"colorway\": [\"#636efa\", \"#EF553B\", \"#00cc96\", \"#ab63fa\", \"#FFA15A\", \"#19d3f3\", \"#FF6692\", \"#B6E880\", \"#FF97FF\", \"#FECB52\"], \"font\": {\"color\": \"#2a3f5f\"}, \"geo\": {\"bgcolor\": \"white\", \"lakecolor\": \"white\", \"landcolor\": \"#E5ECF6\", \"showlakes\": true, \"showland\": true, \"subunitcolor\": \"white\"}, \"hoverlabel\": {\"align\": \"left\"}, \"hovermode\": \"closest\", \"mapbox\": {\"style\": \"light\"}, \"paper_bgcolor\": \"white\", \"plot_bgcolor\": \"#E5ECF6\", \"polar\": {\"angularaxis\": {\"gridcolor\": \"white\", \"linecolor\": \"white\", \"ticks\": \"\"}, \"bgcolor\": \"#E5ECF6\", \"radialaxis\": {\"gridcolor\": \"white\", \"linecolor\": \"white\", \"ticks\": \"\"}}, \"scene\": {\"xaxis\": {\"backgroundcolor\": \"#E5ECF6\", \"gridcolor\": \"white\", \"gridwidth\": 2, \"linecolor\": \"white\", \"showbackground\": true, \"ticks\": \"\", \"zerolinecolor\": \"white\"}, \"yaxis\": {\"backgroundcolor\": \"#E5ECF6\", \"gridcolor\": \"white\", \"gridwidth\": 2, \"linecolor\": \"white\", \"showbackground\": true, \"ticks\": \"\", \"zerolinecolor\": \"white\"}, \"zaxis\": {\"backgroundcolor\": \"#E5ECF6\", \"gridcolor\": \"white\", \"gridwidth\": 2, \"linecolor\": \"white\", \"showbackground\": true, \"ticks\": \"\", \"zerolinecolor\": \"white\"}}, \"shapedefaults\": {\"line\": {\"color\": \"#2a3f5f\"}}, \"ternary\": {\"aaxis\": {\"gridcolor\": \"white\", \"linecolor\": \"white\", \"ticks\": \"\"}, \"baxis\": {\"gridcolor\": \"white\", \"linecolor\": \"white\", \"ticks\": \"\"}, \"bgcolor\": \"#E5ECF6\", \"caxis\": {\"gridcolor\": \"white\", \"linecolor\": \"white\", \"ticks\": \"\"}}, \"title\": {\"x\": 0.05}, \"xaxis\": {\"automargin\": true, \"gridcolor\": \"white\", \"linecolor\": \"white\", \"ticks\": \"\", \"title\": {\"standoff\": 15}, \"zerolinecolor\": \"white\", \"zerolinewidth\": 2}, \"yaxis\": {\"automargin\": true, \"gridcolor\": \"white\", \"linecolor\": \"white\", \"ticks\": \"\", \"title\": {\"standoff\": 15}, \"zerolinecolor\": \"white\", \"zerolinewidth\": 2}}}, \"title\": {\"text\": \"President and Sentiment\"}, \"updatemenus\": [{\"active\": -1, \"buttons\": [{\"args\": [{\"visible\": [true, true, false, false, false, false, false, false, false, false, false, false, false, false, false, false, false, false, false, false, false, false]}, {\"title\": \"George Washington\"}], \"label\": \"George Washington\", \"method\": \"update\"}, {\"args\": [{\"visible\": [false, false, true, true, false, false, false, false, false, false, false, false, false, false, false, false, false, false, false, false, false, false]}, {\"title\": \"Thomas Jefferson\"}], \"label\": \"Thomas Jefferson\", \"method\": \"update\"}, {\"args\": [{\"visible\": [false, false, false, false, true, true, false, false, false, false, false, false, false, false, false, false, false, false, false, false, false, false]}, {\"title\": \"Andrew Jackson\"}], \"label\": \"Andrew Jackson\", \"method\": \"update\"}, {\"args\": [{\"visible\": [false, false, false, false, false, false, true, true, false, false, false, false, false, false, false, false, false, false, false, false, false, false]}, {\"title\": \"Franklin D. Roosevelt\"}], \"label\": \"Franklin D. Roosevelt\", \"method\": \"update\"}, {\"args\": [{\"visible\": [false, false, false, false, false, false, false, false, true, true, false, false, false, false, false, false, false, false, false, false, false, false]}, {\"title\": \"Richard M. Nixon\"}], \"label\": \"Richard M. Nixon\", \"method\": \"update\"}, {\"args\": [{\"visible\": [false, false, false, false, false, false, false, false, false, false, true, true, false, false, false, false, false, false, false, false, false, false]}, {\"title\": \"Ronald Reagan\"}], \"label\": \"Ronald Reagan\", \"method\": \"update\"}, {\"args\": [{\"visible\": [false, false, false, false, false, false, false, false, false, false, false, false, true, true, false, false, false, false, false, false, false, false]}, {\"title\": \"George H. W. Bush\"}], \"label\": \"George H. W. Bush\", \"method\": \"update\"}, {\"args\": [{\"visible\": [false, false, false, false, false, false, false, false, false, false, false, false, false, false, true, true, false, false, false, false, false, false]}, {\"title\": \"Bill Clinton\"}], \"label\": \"Bill Clinton\", \"method\": \"update\"}, {\"args\": [{\"visible\": [false, false, false, false, false, false, false, false, false, false, false, false, false, false, false, false, true, true, false, false, false, false]}, {\"title\": \"George W. Bush\"}], \"label\": \"George W. Bush\", \"method\": \"update\"}, {\"args\": [{\"visible\": [false, false, false, false, false, false, false, false, false, false, false, false, false, false, false, false, false, false, true, true, false, false]}, {\"title\": \"Barack Obama\"}], \"label\": \"Barack Obama\", \"method\": \"update\"}, {\"args\": [{\"visible\": [false, false, false, false, false, false, false, false, false, false, false, false, false, false, false, false, false, false, false, false, true, true]}, {\"title\": \"Donald Trump\"}], \"label\": \"Donald Trump\", \"method\": \"update\"}], \"type\": \"buttons\"}], \"xaxis\": {\"autorange\": true, \"domain\": [0, 1], \"range\": [0, 21], \"showspikes\": false, \"side\": \"bottom\", \"title\": {\"text\": \"Date\"}, \"type\": \"category\"}},\n",
       "                        {\"responsive\": true}\n",
       "                    ).then(function(){\n",
       "                            \n",
       "var gd = document.getElementById('89bfeea3-f723-4dd1-a561-7c2c500976d7');\n",
       "var x = new MutationObserver(function (mutations, observer) {{\n",
       "        var display = window.getComputedStyle(gd).display;\n",
       "        if (!display || display === 'none') {{\n",
       "            console.log([gd, 'removed!']);\n",
       "            Plotly.purge(gd);\n",
       "            observer.disconnect();\n",
       "        }}\n",
       "}});\n",
       "\n",
       "// Listen for the removal of the full notebook cells\n",
       "var notebookContainer = gd.closest('#notebook-container');\n",
       "if (notebookContainer) {{\n",
       "    x.observe(notebookContainer, {childList: true});\n",
       "}}\n",
       "\n",
       "// Listen for the clearing of the current output cell\n",
       "var outputEl = gd.closest('.output');\n",
       "if (outputEl) {{\n",
       "    x.observe(outputEl, {childList: true});\n",
       "}}\n",
       "\n",
       "                        })\n",
       "                };\n",
       "                });\n",
       "            </script>\n",
       "        </div>"
      ]
     },
     "metadata": {},
     "output_type": "display_data"
    }
   ],
   "source": [
    "updatemenus = updateButtonsList\n",
    "\n",
    "layout = dict(title='President and Sentiment', showlegend=False,\n",
    "              updatemenus=updatemenus, xaxis= {\n",
    "    \"side\": \"bottom\", \n",
    "    \"type\": \"category\", \n",
    "    \"range\": [0, 21], \n",
    "    \"title\": {\"text\": \"Date\"}, \n",
    "    \"domain\": [0, 1], \n",
    "    \"autorange\": True, \n",
    "    \"showspikes\": False})\n",
    "\n",
    "fig = dict(data=l, layout=layout)\n",
    "py.iplot(fig, filename='update_button')"
   ]
  },
  {
   "cell_type": "markdown",
   "metadata": {},
   "source": [
    "**Graph for all presidents**"
   ]
  },
  {
   "cell_type": "code",
   "execution_count": 142,
   "metadata": {},
   "outputs": [
    {
     "data": {
      "application/vnd.plotly.v1+json": {
       "config": {
        "plotlyServerURL": "https://plot.ly"
       },
       "data": [
        {
         "mode": "lines+markers",
         "name": "Ratio positive",
         "type": "scatter",
         "x": [
          "1789-04-30T00:00:00",
          "1789-10-03T00:00:00",
          "1790-01-08T00:00:00",
          "1790-12-08T00:00:00",
          "1790-12-29T00:00:00",
          "1791-10-25T00:00:00",
          "1792-04-05T00:00:00",
          "1792-11-06T00:00:00",
          "1792-12-12T00:00:00",
          "1793-03-04T00:00:00",
          "1793-04-22T00:00:00",
          "1793-12-03T00:00:00",
          "1794-08-07T00:00:00",
          "1794-09-25T00:00:00",
          "1794-11-19T00:00:00",
          "1795-07-10T00:00:00",
          "1795-12-08T00:00:00",
          "1796-03-30T00:00:00",
          "1796-08-29T00:00:00",
          "1796-09-19T00:00:00",
          "1796-12-07T00:00:00",
          "1801-03-04T00:00:00",
          "1801-07-12T00:00:00",
          "1801-12-08T00:00:00",
          "1802-01-01T00:00:00",
          "1802-11-03T00:00:00",
          "1802-12-15T00:00:00",
          "1803-01-18T00:00:00",
          "1803-06-20T00:00:00",
          "1803-10-17T00:00:00",
          "1803-12-17T00:00:00",
          "1804-11-08T00:00:00",
          "1805-03-04T00:00:00",
          "1805-12-03T00:00:00",
          "1805-12-06T00:00:00",
          "1806-01-10T00:00:00",
          "1806-11-27T00:00:00",
          "1806-12-02T00:00:00",
          "1806-12-30T00:00:00",
          "1807-01-22T00:00:00",
          "1807-02-10T00:00:00",
          "1807-07-02T00:00:00",
          "1807-10-27T00:00:00",
          "1808-11-08T00:00:00",
          "1809-04-03T00:00:00",
          "1829-03-04T00:00:00",
          "1829-05-11T00:00:00",
          "1829-12-08T00:00:00",
          "1830-05-06T00:00:00",
          "1830-05-27T00:00:00",
          "1830-10-05T00:00:00",
          "1830-12-06T00:00:00",
          "1831-02-22T00:00:00",
          "1831-12-06T00:00:00",
          "1832-02-15T00:00:00",
          "1832-07-10T00:00:00",
          "1832-12-04T00:00:00",
          "1832-12-06T00:00:00",
          "1832-12-10T00:00:00",
          "1833-01-16T00:00:00",
          "1833-03-04T00:00:00",
          "1833-09-18T00:00:00",
          "1833-12-03T00:00:00",
          "1833-12-12T00:00:00",
          "1834-04-15T00:00:00",
          "1834-04-21T00:00:00",
          "1834-12-01T00:00:00",
          "1835-12-07T00:00:00",
          "1836-12-05T00:00:00",
          "1836-12-21T00:00:00",
          "1837-03-04T00:00:00",
          "1933-03-04T00:00:00",
          "1933-03-12T00:00:00",
          "1933-05-07T00:00:00",
          "1933-07-24T00:00:00",
          "1933-10-22T00:00:00",
          "1934-06-28T00:00:00",
          "1934-09-30T00:00:00",
          "1935-04-28T00:00:00",
          "1936-06-27T00:00:00",
          "1936-09-06T00:00:00",
          "1936-10-31T00:00:00",
          "1937-01-20T00:00:00",
          "1937-03-09T00:00:00",
          "1937-10-05T00:00:00",
          "1937-10-12T00:00:00",
          "1937-11-14T00:00:00",
          "1938-04-14T00:00:00",
          "1938-06-24T00:00:00",
          "1938-07-08T00:00:00",
          "1939-09-03T00:00:00",
          "1940-05-26T00:00:00",
          "1940-06-10T00:00:00",
          "1940-07-19T00:00:00",
          "1940-12-29T00:00:00",
          "1941-01-06T00:00:00",
          "1941-01-20T00:00:00",
          "1941-03-15T00:00:00",
          "1941-05-27T00:00:00",
          "1941-09-11T00:00:00",
          "1941-12-08T00:00:00",
          "1941-12-09T00:00:00",
          "1941-12-11T00:00:00",
          "1942-02-23T00:00:00",
          "1942-04-28T00:00:00",
          "1942-09-07T00:00:00",
          "1942-10-12T00:00:00",
          "1943-01-07T00:00:00",
          "1943-05-02T00:00:00",
          "1943-07-28T00:00:00",
          "1943-09-08T00:00:00",
          "1943-12-01T00:00:00",
          "1943-12-24T00:00:00",
          "1944-01-11T00:00:00",
          "1944-06-05T00:00:00",
          "1944-06-12T00:00:00",
          "1944-07-20T00:00:00",
          "1945-01-20T00:00:00",
          "1945-02-11T00:00:00",
          "1945-03-01T00:00:00",
          "1952-09-23T00:00:00",
          "1964-10-27T00:00:00",
          "1969-01-20T00:00:00",
          "1969-11-03T00:00:00",
          "1970-01-22T00:00:00",
          "1970-04-30T00:00:00",
          "1971-01-22T00:00:00",
          "1971-02-25T00:00:00",
          "1971-04-07T00:00:00",
          "1971-05-20T00:00:00",
          "1972-01-20T00:00:00",
          "1972-01-25T00:00:00",
          "1972-05-08T00:00:00",
          "1972-11-06T00:00:00",
          "1972-11-07T00:00:00",
          "1973-01-20T00:00:00",
          "1973-01-23T00:00:00",
          "1973-04-30T00:00:00",
          "1973-08-15T00:00:00",
          "1974-01-30T00:00:00",
          "1974-02-25T00:00:00",
          "1974-04-29T00:00:00",
          "1974-08-08T00:00:00",
          "1974-08-09T00:00:00",
          "1976-08-19T00:00:00",
          "1979-11-13T00:00:00",
          "1980-07-17T00:00:00",
          "1981-01-20T00:00:00",
          "1981-01-29T00:00:00",
          "1981-04-28T00:00:00",
          "1981-05-17T00:00:00",
          "1981-06-29T00:00:00",
          "1981-07-27T00:00:00",
          "1981-08-03T00:00:00",
          "1981-11-18T00:00:00",
          "1981-12-23T00:00:00",
          "1982-01-26T00:00:00",
          "1982-06-08T00:00:00",
          "1982-06-09T00:00:00",
          "1982-06-17T00:00:00",
          "1982-08-16T00:00:00",
          "1982-09-01T00:00:00",
          "1982-09-20T00:00:00",
          "1983-01-25T00:00:00",
          "1983-02-18T00:00:00",
          "1983-03-08T00:00:00",
          "1983-03-23T00:00:00",
          "1983-04-27T00:00:00",
          "1983-09-05T00:00:00",
          "1983-10-27T00:00:00",
          "1983-11-02T00:00:00",
          "1983-11-04T00:00:00",
          "1984-01-25T00:00:00",
          "1984-01-29T00:00:00",
          "1984-05-28T00:00:00",
          "1984-06-03T00:00:00",
          "1984-06-06T00:00:00",
          "1984-08-23T00:00:00",
          "1984-10-07T00:00:00",
          "1984-10-21T00:00:00",
          "1985-01-21T00:00:00",
          "1985-02-06T00:00:00",
          "1985-05-05T00:00:00",
          "1985-11-21T00:00:00",
          "1986-01-28T00:00:00",
          "1986-02-04T00:00:00",
          "1986-04-14T00:00:00",
          "1986-09-14T00:00:00",
          "1986-10-13T00:00:00",
          "1986-10-22T00:00:00",
          "1987-01-27T00:00:00",
          "1987-03-04T00:00:00",
          "1987-06-12T00:00:00",
          "1987-12-08T00:00:00",
          "1987-12-10T00:00:00",
          "1988-01-25T00:00:00",
          "1988-05-31T00:00:00",
          "1988-08-15T00:00:00",
          "1988-08-18T00:00:00",
          "1988-09-25T00:00:00",
          "1988-09-26T00:00:00",
          "1988-11-11T00:00:00",
          "1988-12-16T00:00:00",
          "1989-01-11T00:00:00",
          "1989-01-20T00:00:00",
          "1989-02-09T00:00:00",
          "1989-05-12T00:00:00",
          "1989-12-20T00:00:00",
          "1990-01-31T00:00:00",
          "1990-07-26T00:00:00",
          "1990-08-08T00:00:00",
          "1990-09-11T00:00:00",
          "1990-10-01T00:00:00",
          "1990-10-02T00:00:00",
          "1991-01-16T00:00:00",
          "1991-01-29T00:00:00",
          "1991-02-27T00:00:00",
          "1991-03-06T00:00:00",
          "1991-07-31T00:00:00",
          "1992-01-28T00:00:00",
          "1992-08-20T00:00:00",
          "1992-10-11T00:00:00",
          "1992-12-04T00:00:00",
          "1992-12-15T00:00:00",
          "1993-01-05T00:00:00",
          "1993-01-20T00:00:00",
          "1993-01-29T00:00:00",
          "1993-02-05T00:00:00",
          "1993-02-17T00:00:00",
          "1993-04-30T00:00:00",
          "1993-05-05T00:00:00",
          "1993-06-06T00:00:00",
          "1993-09-13T00:00:00",
          "1993-09-22T00:00:00",
          "1993-10-07T00:00:00",
          "1993-11-13T00:00:00",
          "1993-12-08T00:00:00",
          "1994-01-25T00:00:00",
          "1994-06-06T00:00:00",
          "1994-07-12T00:00:00",
          "1995-01-24T00:00:00",
          "1995-04-23T00:00:00",
          "1995-07-19T00:00:00",
          "1995-10-16T00:00:00",
          "1995-11-27T00:00:00",
          "1995-11-30T00:00:00",
          "1996-01-23T00:00:00",
          "1996-06-25T00:00:00",
          "1996-08-29T00:00:00",
          "1996-10-06T00:00:00",
          "1996-11-03T00:00:00",
          "1997-01-20T00:00:00",
          "1997-02-04T00:00:00",
          "1997-04-22T00:00:00",
          "1998-01-26T00:00:00",
          "1998-01-27T00:00:00",
          "1998-03-23T00:00:00",
          "1998-03-25T00:00:00",
          "1998-08-17T00:00:00",
          "1999-01-19T00:00:00",
          "1999-03-24T00:00:00",
          "1999-06-10T00:00:00",
          "2000-01-27T00:00:00",
          "2001-01-18T00:00:00",
          "2001-01-20T00:00:00",
          "2001-01-29T00:00:00",
          "2001-05-11T00:00:00",
          "2001-06-07T00:00:00",
          "2001-08-10T00:00:00",
          "2001-09-11T00:00:00",
          "2001-09-22T00:00:00",
          "2002-01-08T00:00:00",
          "2002-01-29T00:00:00",
          "2002-06-01T00:00:00",
          "2002-06-07T00:00:00",
          "2002-06-19T00:00:00",
          "2002-09-12T00:00:00",
          "2003-01-28T00:00:00",
          "2003-03-17T00:00:00",
          "2003-03-20T00:00:00",
          "2003-11-06T00:00:00",
          "2003-12-08T00:00:00",
          "2004-01-07T00:00:00",
          "2004-01-20T00:00:00",
          "2004-07-17T00:00:00",
          "2004-09-03T00:00:00",
          "2005-01-20T00:00:00",
          "2005-02-02T00:00:00",
          "2005-08-31T00:00:00",
          "2005-09-16T00:00:00",
          "2005-12-19T00:00:00",
          "2006-01-31T00:00:00",
          "2006-07-19T00:00:00",
          "2007-01-11T00:00:00",
          "2007-01-23T00:00:00",
          "2007-04-09T00:00:00",
          "2008-01-28T00:00:00",
          "2008-03-19T00:00:00",
          "2008-08-28T00:00:00",
          "2008-10-03T00:00:00",
          "2008-11-04T00:00:00",
          "2008-11-13T00:00:00",
          "2008-12-19T00:00:00",
          "2009-01-12T00:00:00",
          "2009-01-15T00:00:00",
          "2009-01-20T00:00:00",
          "2009-01-29T00:00:00",
          "2009-02-07T00:00:00",
          "2009-02-24T00:00:00",
          "2009-05-26T00:00:00",
          "2009-06-04T00:00:00",
          "2009-09-09T00:00:00",
          "2009-12-01T00:00:00",
          "2009-12-10T00:00:00",
          "2010-01-27T00:00:00",
          "2010-02-09T00:00:00",
          "2010-03-15T00:00:00",
          "2010-04-15T00:00:00",
          "2010-04-28T00:00:00",
          "2010-06-15T00:00:00",
          "2010-08-31T00:00:00",
          "2010-09-23T00:00:00",
          "2010-11-03T00:00:00",
          "2011-01-12T00:00:00",
          "2011-01-25T00:00:00",
          "2011-05-01T00:00:00",
          "2011-05-19T00:00:00",
          "2011-05-25T00:00:00",
          "2011-06-22T00:00:00",
          "2011-09-08T00:00:00",
          "2011-10-21T00:00:00",
          "2012-01-24T00:00:00",
          "2012-09-06T00:00:00",
          "2012-11-06T00:00:00",
          "2012-12-16T00:00:00",
          "2013-01-21T00:00:00",
          "2013-01-29T00:00:00",
          "2013-02-13T00:00:00",
          "2013-03-01T00:00:00",
          "2013-03-21T00:00:00",
          "2013-04-08T00:00:00",
          "2013-07-19T00:00:00",
          "2013-07-24T00:00:00",
          "2013-09-10T00:00:00",
          "2013-12-04T00:00:00",
          "2014-01-28T00:00:00",
          "2014-11-20T00:00:00",
          "2015-01-20T00:00:00",
          "2015-03-07T00:00:00",
          "2015-06-26T00:00:00",
          "2016-01-12T00:00:00",
          "2016-03-22T00:00:00",
          "2016-05-15T00:00:00",
          "2017-01-20T00:00:00",
          "2017-02-28T00:00:00",
          "2017-06-29T00:00:00",
          "2017-07-24T00:00:00",
          "2017-09-19T00:00:00",
          "2017-12-18T00:00:00",
          "2018-01-26T00:00:00",
          "2018-01-30T00:00:00",
          "2018-02-01T00:00:00",
          "2018-02-15T00:00:00",
          "2018-02-23T00:00:00",
          "2018-03-19T00:00:00",
          "2018-07-24T00:00:00",
          "2018-09-25T00:00:00",
          "2019-01-19T00:00:00",
          "2019-02-05T00:00:00",
          "2019-02-15T00:00:00",
          "2019-09-24T00:00:00",
          "2019-09-25T00:00:00",
          "2019-10-27T00:00:00",
          "2020-01-03T00:00:00",
          "2020-01-08T00:00:00"
         ],
         "y": [
          0.264,
          0.364,
          0.257,
          0.202,
          0.171,
          0.145,
          0.202,
          0.13,
          0.189,
          0.088,
          0.213,
          0.137,
          0.08,
          0.19,
          0.12,
          0.134,
          0.157,
          0.152,
          0.235,
          0.2,
          0.156,
          0.237,
          0.168,
          0.142,
          0.274,
          0.213,
          0.125,
          0.177,
          0.147,
          0.15,
          0.24,
          0.148,
          0.193,
          0.131,
          0.086,
          0.181,
          0.109,
          0.151,
          0.267,
          0.098,
          0.083,
          0.126,
          0.1,
          0.136,
          0.208,
          0.228,
          0.057,
          0.175,
          0.126,
          0.165,
          0.075,
          0.173,
          0.084,
          0.16,
          0.167,
          0.13,
          0.167,
          0.148,
          0.112,
          0.11,
          0.163,
          0.092,
          0.148,
          0.057,
          0.103,
          0.118,
          0.126,
          0.142,
          0.128,
          0.111,
          0.199,
          0.23,
          0.169,
          0.151,
          0.206,
          0.139,
          0.196,
          0.196,
          0.166,
          0.236,
          0.164,
          0.123,
          0.172,
          0.117,
          0.143,
          0.131,
          0.148,
          0.16,
          0.138,
          0.169,
          0.129,
          0.12,
          0.16,
          0.168,
          0.142,
          0.179,
          0.2,
          0.154,
          0.147,
          0.118,
          0.075,
          0.116,
          0.064,
          0.106,
          0.119,
          0.11,
          0.145,
          0.134,
          0.113,
          0.142,
          0.147,
          0.169,
          0.18,
          0.16,
          0.178,
          0.093,
          0.138,
          0.228,
          0.083,
          0.137,
          0.13,
          0.111,
          0.224,
          0.124,
          0.188,
          0.088,
          0.158,
          0.208,
          0.144,
          0.178,
          0.202,
          0.102,
          0.123,
          0.191,
          0.297,
          0.227,
          0.199,
          0.175,
          0.14,
          0.168,
          0.108,
          0.116,
          0.215,
          0.248,
          0.183,
          0.115,
          0.17,
          0.228,
          0.13,
          0.174,
          0.181,
          0.16,
          0.147,
          0.098,
          0.136,
          0.215,
          0.176,
          0.173,
          0.154,
          0.143,
          0.158,
          0.161,
          0.123,
          0.215,
          0.148,
          0.191,
          0.145,
          0.172,
          0.103,
          0.15,
          0.161,
          0.271,
          0.243,
          0.19,
          0.218,
          0.225,
          0.222,
          0.145,
          0.137,
          0.124,
          0.221,
          0.253,
          0.153,
          0.186,
          0.222,
          0.227,
          0.116,
          0.19,
          0.16,
          0.196,
          0.184,
          0.129,
          0.208,
          0.198,
          0.189,
          0.209,
          0.185,
          0.234,
          0.209,
          0.158,
          0.157,
          0.272,
          0.195,
          0.21,
          0.282,
          0.173,
          0.191,
          0.124,
          0.195,
          0.23,
          0.128,
          0.155,
          0.157,
          0.218,
          0.123,
          0.193,
          0.163,
          0.142,
          0.143,
          0.182,
          0.182,
          0.147,
          0.153,
          0.2,
          0.221,
          0.185,
          0.119,
          0.241,
          0.19,
          0.153,
          0.192,
          0.157,
          0.133,
          0.183,
          0.145,
          0.183,
          0.205,
          0.221,
          0.161,
          0.179,
          0.17,
          0.224,
          0.119,
          0.199,
          0.164,
          0.195,
          0.179,
          0.181,
          0.189,
          0.12,
          0.157,
          0.213,
          0.18,
          0.239,
          0.196,
          0.193,
          0.213,
          0.19,
          0.141,
          0.195,
          0.14,
          0.153,
          0.209,
          0.197,
          0.234,
          0.24,
          0.212,
          0.233,
          0.148,
          0.235,
          0.138,
          0.196,
          0.209,
          0.196,
          0.163,
          0.231,
          0.115,
          0.142,
          0.109,
          0.232,
          0.25,
          0.247,
          0.206,
          0.193,
          0.2,
          0.213,
          0.282,
          0.227,
          0.171,
          0.183,
          0.151,
          0.212,
          0.148,
          0.185,
          0.189,
          0.161,
          0.218,
          0.153,
          0.14,
          0.17,
          0.163,
          0.205,
          0.145,
          0.177,
          0.228,
          0.19,
          0.138,
          0.147,
          0.146,
          0.173,
          0.167,
          0.177,
          0.122,
          0.132,
          0.157,
          0.151,
          0.118,
          0.136,
          0.138,
          0.122,
          0.121,
          0.133,
          0.134,
          0.186,
          0.111,
          0.145,
          0.124,
          0.139,
          0.117,
          0.114,
          0.157,
          0.117,
          0.134,
          0.175,
          0.171,
          0.154,
          0.113,
          0.154,
          0.112,
          0.141,
          0.114,
          0.121,
          0.146,
          0.095,
          0.158,
          0.144,
          0.167,
          0.137,
          0.138,
          0.187,
          0.201,
          0.139,
          0.161,
          0.213,
          0.182,
          0.203,
          0.211,
          0.198,
          0.213,
          0.144,
          0.154,
          0.182,
          0.203,
          0.186,
          0.186,
          0.21,
          0.216,
          0.143,
          0.133,
          0.103,
          0.194,
          0.109,
          0.16,
          0.188,
          0.105
         ]
        },
        {
         "mode": "lines+markers",
         "name": "Ratio negative",
         "type": "scatter",
         "x": [
          "1789-04-30T00:00:00",
          "1789-10-03T00:00:00",
          "1790-01-08T00:00:00",
          "1790-12-08T00:00:00",
          "1790-12-29T00:00:00",
          "1791-10-25T00:00:00",
          "1792-04-05T00:00:00",
          "1792-11-06T00:00:00",
          "1792-12-12T00:00:00",
          "1793-03-04T00:00:00",
          "1793-04-22T00:00:00",
          "1793-12-03T00:00:00",
          "1794-08-07T00:00:00",
          "1794-09-25T00:00:00",
          "1794-11-19T00:00:00",
          "1795-07-10T00:00:00",
          "1795-12-08T00:00:00",
          "1796-03-30T00:00:00",
          "1796-08-29T00:00:00",
          "1796-09-19T00:00:00",
          "1796-12-07T00:00:00",
          "1801-03-04T00:00:00",
          "1801-07-12T00:00:00",
          "1801-12-08T00:00:00",
          "1802-01-01T00:00:00",
          "1802-11-03T00:00:00",
          "1802-12-15T00:00:00",
          "1803-01-18T00:00:00",
          "1803-06-20T00:00:00",
          "1803-10-17T00:00:00",
          "1803-12-17T00:00:00",
          "1804-11-08T00:00:00",
          "1805-03-04T00:00:00",
          "1805-12-03T00:00:00",
          "1805-12-06T00:00:00",
          "1806-01-10T00:00:00",
          "1806-11-27T00:00:00",
          "1806-12-02T00:00:00",
          "1806-12-30T00:00:00",
          "1807-01-22T00:00:00",
          "1807-02-10T00:00:00",
          "1807-07-02T00:00:00",
          "1807-10-27T00:00:00",
          "1808-11-08T00:00:00",
          "1809-04-03T00:00:00",
          "1829-03-04T00:00:00",
          "1829-05-11T00:00:00",
          "1829-12-08T00:00:00",
          "1830-05-06T00:00:00",
          "1830-05-27T00:00:00",
          "1830-10-05T00:00:00",
          "1830-12-06T00:00:00",
          "1831-02-22T00:00:00",
          "1831-12-06T00:00:00",
          "1832-02-15T00:00:00",
          "1832-07-10T00:00:00",
          "1832-12-04T00:00:00",
          "1832-12-06T00:00:00",
          "1832-12-10T00:00:00",
          "1833-01-16T00:00:00",
          "1833-03-04T00:00:00",
          "1833-09-18T00:00:00",
          "1833-12-03T00:00:00",
          "1833-12-12T00:00:00",
          "1834-04-15T00:00:00",
          "1834-04-21T00:00:00",
          "1834-12-01T00:00:00",
          "1835-12-07T00:00:00",
          "1836-12-05T00:00:00",
          "1836-12-21T00:00:00",
          "1837-03-04T00:00:00",
          "1933-03-04T00:00:00",
          "1933-03-12T00:00:00",
          "1933-05-07T00:00:00",
          "1933-07-24T00:00:00",
          "1933-10-22T00:00:00",
          "1934-06-28T00:00:00",
          "1934-09-30T00:00:00",
          "1935-04-28T00:00:00",
          "1936-06-27T00:00:00",
          "1936-09-06T00:00:00",
          "1936-10-31T00:00:00",
          "1937-01-20T00:00:00",
          "1937-03-09T00:00:00",
          "1937-10-05T00:00:00",
          "1937-10-12T00:00:00",
          "1937-11-14T00:00:00",
          "1938-04-14T00:00:00",
          "1938-06-24T00:00:00",
          "1938-07-08T00:00:00",
          "1939-09-03T00:00:00",
          "1940-05-26T00:00:00",
          "1940-06-10T00:00:00",
          "1940-07-19T00:00:00",
          "1940-12-29T00:00:00",
          "1941-01-06T00:00:00",
          "1941-01-20T00:00:00",
          "1941-03-15T00:00:00",
          "1941-05-27T00:00:00",
          "1941-09-11T00:00:00",
          "1941-12-08T00:00:00",
          "1941-12-09T00:00:00",
          "1941-12-11T00:00:00",
          "1942-02-23T00:00:00",
          "1942-04-28T00:00:00",
          "1942-09-07T00:00:00",
          "1942-10-12T00:00:00",
          "1943-01-07T00:00:00",
          "1943-05-02T00:00:00",
          "1943-07-28T00:00:00",
          "1943-09-08T00:00:00",
          "1943-12-01T00:00:00",
          "1943-12-24T00:00:00",
          "1944-01-11T00:00:00",
          "1944-06-05T00:00:00",
          "1944-06-12T00:00:00",
          "1944-07-20T00:00:00",
          "1945-01-20T00:00:00",
          "1945-02-11T00:00:00",
          "1945-03-01T00:00:00",
          "1952-09-23T00:00:00",
          "1964-10-27T00:00:00",
          "1969-01-20T00:00:00",
          "1969-11-03T00:00:00",
          "1970-01-22T00:00:00",
          "1970-04-30T00:00:00",
          "1971-01-22T00:00:00",
          "1971-02-25T00:00:00",
          "1971-04-07T00:00:00",
          "1971-05-20T00:00:00",
          "1972-01-20T00:00:00",
          "1972-01-25T00:00:00",
          "1972-05-08T00:00:00",
          "1972-11-06T00:00:00",
          "1972-11-07T00:00:00",
          "1973-01-20T00:00:00",
          "1973-01-23T00:00:00",
          "1973-04-30T00:00:00",
          "1973-08-15T00:00:00",
          "1974-01-30T00:00:00",
          "1974-02-25T00:00:00",
          "1974-04-29T00:00:00",
          "1974-08-08T00:00:00",
          "1974-08-09T00:00:00",
          "1976-08-19T00:00:00",
          "1979-11-13T00:00:00",
          "1980-07-17T00:00:00",
          "1981-01-20T00:00:00",
          "1981-01-29T00:00:00",
          "1981-04-28T00:00:00",
          "1981-05-17T00:00:00",
          "1981-06-29T00:00:00",
          "1981-07-27T00:00:00",
          "1981-08-03T00:00:00",
          "1981-11-18T00:00:00",
          "1981-12-23T00:00:00",
          "1982-01-26T00:00:00",
          "1982-06-08T00:00:00",
          "1982-06-09T00:00:00",
          "1982-06-17T00:00:00",
          "1982-08-16T00:00:00",
          "1982-09-01T00:00:00",
          "1982-09-20T00:00:00",
          "1983-01-25T00:00:00",
          "1983-02-18T00:00:00",
          "1983-03-08T00:00:00",
          "1983-03-23T00:00:00",
          "1983-04-27T00:00:00",
          "1983-09-05T00:00:00",
          "1983-10-27T00:00:00",
          "1983-11-02T00:00:00",
          "1983-11-04T00:00:00",
          "1984-01-25T00:00:00",
          "1984-01-29T00:00:00",
          "1984-05-28T00:00:00",
          "1984-06-03T00:00:00",
          "1984-06-06T00:00:00",
          "1984-08-23T00:00:00",
          "1984-10-07T00:00:00",
          "1984-10-21T00:00:00",
          "1985-01-21T00:00:00",
          "1985-02-06T00:00:00",
          "1985-05-05T00:00:00",
          "1985-11-21T00:00:00",
          "1986-01-28T00:00:00",
          "1986-02-04T00:00:00",
          "1986-04-14T00:00:00",
          "1986-09-14T00:00:00",
          "1986-10-13T00:00:00",
          "1986-10-22T00:00:00",
          "1987-01-27T00:00:00",
          "1987-03-04T00:00:00",
          "1987-06-12T00:00:00",
          "1987-12-08T00:00:00",
          "1987-12-10T00:00:00",
          "1988-01-25T00:00:00",
          "1988-05-31T00:00:00",
          "1988-08-15T00:00:00",
          "1988-08-18T00:00:00",
          "1988-09-25T00:00:00",
          "1988-09-26T00:00:00",
          "1988-11-11T00:00:00",
          "1988-12-16T00:00:00",
          "1989-01-11T00:00:00",
          "1989-01-20T00:00:00",
          "1989-02-09T00:00:00",
          "1989-05-12T00:00:00",
          "1989-12-20T00:00:00",
          "1990-01-31T00:00:00",
          "1990-07-26T00:00:00",
          "1990-08-08T00:00:00",
          "1990-09-11T00:00:00",
          "1990-10-01T00:00:00",
          "1990-10-02T00:00:00",
          "1991-01-16T00:00:00",
          "1991-01-29T00:00:00",
          "1991-02-27T00:00:00",
          "1991-03-06T00:00:00",
          "1991-07-31T00:00:00",
          "1992-01-28T00:00:00",
          "1992-08-20T00:00:00",
          "1992-10-11T00:00:00",
          "1992-12-04T00:00:00",
          "1992-12-15T00:00:00",
          "1993-01-05T00:00:00",
          "1993-01-20T00:00:00",
          "1993-01-29T00:00:00",
          "1993-02-05T00:00:00",
          "1993-02-17T00:00:00",
          "1993-04-30T00:00:00",
          "1993-05-05T00:00:00",
          "1993-06-06T00:00:00",
          "1993-09-13T00:00:00",
          "1993-09-22T00:00:00",
          "1993-10-07T00:00:00",
          "1993-11-13T00:00:00",
          "1993-12-08T00:00:00",
          "1994-01-25T00:00:00",
          "1994-06-06T00:00:00",
          "1994-07-12T00:00:00",
          "1995-01-24T00:00:00",
          "1995-04-23T00:00:00",
          "1995-07-19T00:00:00",
          "1995-10-16T00:00:00",
          "1995-11-27T00:00:00",
          "1995-11-30T00:00:00",
          "1996-01-23T00:00:00",
          "1996-06-25T00:00:00",
          "1996-08-29T00:00:00",
          "1996-10-06T00:00:00",
          "1996-11-03T00:00:00",
          "1997-01-20T00:00:00",
          "1997-02-04T00:00:00",
          "1997-04-22T00:00:00",
          "1998-01-26T00:00:00",
          "1998-01-27T00:00:00",
          "1998-03-23T00:00:00",
          "1998-03-25T00:00:00",
          "1998-08-17T00:00:00",
          "1999-01-19T00:00:00",
          "1999-03-24T00:00:00",
          "1999-06-10T00:00:00",
          "2000-01-27T00:00:00",
          "2001-01-18T00:00:00",
          "2001-01-20T00:00:00",
          "2001-01-29T00:00:00",
          "2001-05-11T00:00:00",
          "2001-06-07T00:00:00",
          "2001-08-10T00:00:00",
          "2001-09-11T00:00:00",
          "2001-09-22T00:00:00",
          "2002-01-08T00:00:00",
          "2002-01-29T00:00:00",
          "2002-06-01T00:00:00",
          "2002-06-07T00:00:00",
          "2002-06-19T00:00:00",
          "2002-09-12T00:00:00",
          "2003-01-28T00:00:00",
          "2003-03-17T00:00:00",
          "2003-03-20T00:00:00",
          "2003-11-06T00:00:00",
          "2003-12-08T00:00:00",
          "2004-01-07T00:00:00",
          "2004-01-20T00:00:00",
          "2004-07-17T00:00:00",
          "2004-09-03T00:00:00",
          "2005-01-20T00:00:00",
          "2005-02-02T00:00:00",
          "2005-08-31T00:00:00",
          "2005-09-16T00:00:00",
          "2005-12-19T00:00:00",
          "2006-01-31T00:00:00",
          "2006-07-19T00:00:00",
          "2007-01-11T00:00:00",
          "2007-01-23T00:00:00",
          "2007-04-09T00:00:00",
          "2008-01-28T00:00:00",
          "2008-03-19T00:00:00",
          "2008-08-28T00:00:00",
          "2008-10-03T00:00:00",
          "2008-11-04T00:00:00",
          "2008-11-13T00:00:00",
          "2008-12-19T00:00:00",
          "2009-01-12T00:00:00",
          "2009-01-15T00:00:00",
          "2009-01-20T00:00:00",
          "2009-01-29T00:00:00",
          "2009-02-07T00:00:00",
          "2009-02-24T00:00:00",
          "2009-05-26T00:00:00",
          "2009-06-04T00:00:00",
          "2009-09-09T00:00:00",
          "2009-12-01T00:00:00",
          "2009-12-10T00:00:00",
          "2010-01-27T00:00:00",
          "2010-02-09T00:00:00",
          "2010-03-15T00:00:00",
          "2010-04-15T00:00:00",
          "2010-04-28T00:00:00",
          "2010-06-15T00:00:00",
          "2010-08-31T00:00:00",
          "2010-09-23T00:00:00",
          "2010-11-03T00:00:00",
          "2011-01-12T00:00:00",
          "2011-01-25T00:00:00",
          "2011-05-01T00:00:00",
          "2011-05-19T00:00:00",
          "2011-05-25T00:00:00",
          "2011-06-22T00:00:00",
          "2011-09-08T00:00:00",
          "2011-10-21T00:00:00",
          "2012-01-24T00:00:00",
          "2012-09-06T00:00:00",
          "2012-11-06T00:00:00",
          "2012-12-16T00:00:00",
          "2013-01-21T00:00:00",
          "2013-01-29T00:00:00",
          "2013-02-13T00:00:00",
          "2013-03-01T00:00:00",
          "2013-03-21T00:00:00",
          "2013-04-08T00:00:00",
          "2013-07-19T00:00:00",
          "2013-07-24T00:00:00",
          "2013-09-10T00:00:00",
          "2013-12-04T00:00:00",
          "2014-01-28T00:00:00",
          "2014-11-20T00:00:00",
          "2015-01-20T00:00:00",
          "2015-03-07T00:00:00",
          "2015-06-26T00:00:00",
          "2016-01-12T00:00:00",
          "2016-03-22T00:00:00",
          "2016-05-15T00:00:00",
          "2017-01-20T00:00:00",
          "2017-02-28T00:00:00",
          "2017-06-29T00:00:00",
          "2017-07-24T00:00:00",
          "2017-09-19T00:00:00",
          "2017-12-18T00:00:00",
          "2018-01-26T00:00:00",
          "2018-01-30T00:00:00",
          "2018-02-01T00:00:00",
          "2018-02-15T00:00:00",
          "2018-02-23T00:00:00",
          "2018-03-19T00:00:00",
          "2018-07-24T00:00:00",
          "2018-09-25T00:00:00",
          "2019-01-19T00:00:00",
          "2019-02-05T00:00:00",
          "2019-02-15T00:00:00",
          "2019-09-24T00:00:00",
          "2019-09-25T00:00:00",
          "2019-10-27T00:00:00",
          "2020-01-03T00:00:00",
          "2020-01-08T00:00:00"
         ],
         "y": [
          0.037,
          0.014,
          0.033,
          0.077,
          0.121,
          0.031,
          0.029,
          0.059,
          0.148,
          0.021,
          0.124,
          0.071,
          0.099,
          0.053,
          0.096,
          0.111,
          0.105,
          0.051,
          0.035,
          0.088,
          0.085,
          0.076,
          0.058,
          0.076,
          0.031,
          0.073,
          0.069,
          0.031,
          0.051,
          0.08,
          0.075,
          0.078,
          0.065,
          0.077,
          0.068,
          0.144,
          0.055,
          0.053,
          0.065,
          0.048,
          0.079,
          0.089,
          0.081,
          0.065,
          0.059,
          0.035,
          0.022,
          0.064,
          0.005,
          0.048,
          0.005,
          0.054,
          0.054,
          0.052,
          0.031,
          0.052,
          0.075,
          0.088,
          0.094,
          0.042,
          0.053,
          0.058,
          0.061,
          0.009,
          0.058,
          0.038,
          0.076,
          0.065,
          0.061,
          0.075,
          0.098,
          0.105,
          0.057,
          0.102,
          0.08,
          0.047,
          0.061,
          0.064,
          0.08,
          0.105,
          0.053,
          0.093,
          0.096,
          0.075,
          0.145,
          0.076,
          0.06,
          0.085,
          0.069,
          0.03,
          0.144,
          0.115,
          0.11,
          0.076,
          0.134,
          0.11,
          0.071,
          0.091,
          0.135,
          0.139,
          0.161,
          0.102,
          0.214,
          0.143,
          0.151,
          0.161,
          0.14,
          0.168,
          0.15,
          0.135,
          0.187,
          0.148,
          0.101,
          0.143,
          0.084,
          0.169,
          0.099,
          0.083,
          0.071,
          0.083,
          0.08,
          0.088,
          0.078,
          0.111,
          0.11,
          0.098,
          0.046,
          0.096,
          0.118,
          0.054,
          0.082,
          0.1,
          0.184,
          0.072,
          0.027,
          0.064,
          0.146,
          0.05,
          0.084,
          0.057,
          0.07,
          0.05,
          0.084,
          0.119,
          0.104,
          0.061,
          0.097,
          0.074,
          0.058,
          0.072,
          0.065,
          0.07,
          0.091,
          0.05,
          0.099,
          0.105,
          0.081,
          0.106,
          0.115,
          0.122,
          0.094,
          0.065,
          0.072,
          0.105,
          0.093,
          0.086,
          0.109,
          0.092,
          0.135,
          0.123,
          0.074,
          0.145,
          0.07,
          0.094,
          0.118,
          0.047,
          0.14,
          0.088,
          0.101,
          0.102,
          0.081,
          0.071,
          0.237,
          0.076,
          0.143,
          0.103,
          0.238,
          0.098,
          0.084,
          0.102,
          0.088,
          0.039,
          0.074,
          0.068,
          0.103,
          0.072,
          0.059,
          0.106,
          0.093,
          0.093,
          0.118,
          0.102,
          0.061,
          0.06,
          0.058,
          0.065,
          0.078,
          0.136,
          0.043,
          0.029,
          0.107,
          0.093,
          0.121,
          0.136,
          0.152,
          0.109,
          0.123,
          0.143,
          0.053,
          0.09,
          0.085,
          0.094,
          0.091,
          0.109,
          0.093,
          0.085,
          0.049,
          0.054,
          0.102,
          0.055,
          0.065,
          0.142,
          0.085,
          0.079,
          0.123,
          0.124,
          0.052,
          0.127,
          0.103,
          0.041,
          0.103,
          0.179,
          0.048,
          0.099,
          0.18,
          0.09,
          0.103,
          0.174,
          0.1,
          0.062,
          0.087,
          0.061,
          0.073,
          0.038,
          0.049,
          0.074,
          0.064,
          0.115,
          0.106,
          0.076,
          0.174,
          0.159,
          0.072,
          0.059,
          0.09,
          0.041,
          0.074,
          0.045,
          0.043,
          0.229,
          0.171,
          0.037,
          0.153,
          0.186,
          0.17,
          0.088,
          0.22,
          0.174,
          0.267,
          0.16,
          0.087,
          0.05,
          0.07,
          0.147,
          0.211,
          0.099,
          0.089,
          0.123,
          0.043,
          0.083,
          0.281,
          0.134,
          0.081,
          0.116,
          0.126,
          0.055,
          0.106,
          0.205,
          0.103,
          0.068,
          0.086,
          0.057,
          0.077,
          0.109,
          0.123,
          0.115,
          0.059,
          0.045,
          0.094,
          0.034,
          0.111,
          0.102,
          0.121,
          0.146,
          0.11,
          0.045,
          0.049,
          0.037,
          0.062,
          0.057,
          0.116,
          0.08,
          0.047,
          0.055,
          0.033,
          0.151,
          0.089,
          0.083,
          0.126,
          0.05,
          0.062,
          0.058,
          0.071,
          0.064,
          0.065,
          0.072,
          0.02,
          0.065,
          0.077,
          0.055,
          0.083,
          0.05,
          0.036,
          0.161,
          0.068,
          0.063,
          0.051,
          0.068,
          0.058,
          0.1,
          0.107,
          0.053,
          0.059,
          0.071,
          0.078,
          0.044,
          0.031,
          0.143,
          0.113,
          0.057,
          0.105,
          0.036,
          0.174,
          0.084,
          0.085,
          0.081,
          0.111,
          0.098,
          0.103,
          0.044,
          0.083,
          0.042,
          0.254,
          0.226,
          0.188
         ]
        }
       ],
       "layout": {
        "template": {
         "data": {
          "bar": [
           {
            "error_x": {
             "color": "#2a3f5f"
            },
            "error_y": {
             "color": "#2a3f5f"
            },
            "marker": {
             "line": {
              "color": "#E5ECF6",
              "width": 0.5
             }
            },
            "type": "bar"
           }
          ],
          "barpolar": [
           {
            "marker": {
             "line": {
              "color": "#E5ECF6",
              "width": 0.5
             }
            },
            "type": "barpolar"
           }
          ],
          "carpet": [
           {
            "aaxis": {
             "endlinecolor": "#2a3f5f",
             "gridcolor": "white",
             "linecolor": "white",
             "minorgridcolor": "white",
             "startlinecolor": "#2a3f5f"
            },
            "baxis": {
             "endlinecolor": "#2a3f5f",
             "gridcolor": "white",
             "linecolor": "white",
             "minorgridcolor": "white",
             "startlinecolor": "#2a3f5f"
            },
            "type": "carpet"
           }
          ],
          "choropleth": [
           {
            "colorbar": {
             "outlinewidth": 0,
             "ticks": ""
            },
            "type": "choropleth"
           }
          ],
          "contour": [
           {
            "colorbar": {
             "outlinewidth": 0,
             "ticks": ""
            },
            "colorscale": [
             [
              0,
              "#0d0887"
             ],
             [
              0.1111111111111111,
              "#46039f"
             ],
             [
              0.2222222222222222,
              "#7201a8"
             ],
             [
              0.3333333333333333,
              "#9c179e"
             ],
             [
              0.4444444444444444,
              "#bd3786"
             ],
             [
              0.5555555555555556,
              "#d8576b"
             ],
             [
              0.6666666666666666,
              "#ed7953"
             ],
             [
              0.7777777777777778,
              "#fb9f3a"
             ],
             [
              0.8888888888888888,
              "#fdca26"
             ],
             [
              1,
              "#f0f921"
             ]
            ],
            "type": "contour"
           }
          ],
          "contourcarpet": [
           {
            "colorbar": {
             "outlinewidth": 0,
             "ticks": ""
            },
            "type": "contourcarpet"
           }
          ],
          "heatmap": [
           {
            "colorbar": {
             "outlinewidth": 0,
             "ticks": ""
            },
            "colorscale": [
             [
              0,
              "#0d0887"
             ],
             [
              0.1111111111111111,
              "#46039f"
             ],
             [
              0.2222222222222222,
              "#7201a8"
             ],
             [
              0.3333333333333333,
              "#9c179e"
             ],
             [
              0.4444444444444444,
              "#bd3786"
             ],
             [
              0.5555555555555556,
              "#d8576b"
             ],
             [
              0.6666666666666666,
              "#ed7953"
             ],
             [
              0.7777777777777778,
              "#fb9f3a"
             ],
             [
              0.8888888888888888,
              "#fdca26"
             ],
             [
              1,
              "#f0f921"
             ]
            ],
            "type": "heatmap"
           }
          ],
          "heatmapgl": [
           {
            "colorbar": {
             "outlinewidth": 0,
             "ticks": ""
            },
            "colorscale": [
             [
              0,
              "#0d0887"
             ],
             [
              0.1111111111111111,
              "#46039f"
             ],
             [
              0.2222222222222222,
              "#7201a8"
             ],
             [
              0.3333333333333333,
              "#9c179e"
             ],
             [
              0.4444444444444444,
              "#bd3786"
             ],
             [
              0.5555555555555556,
              "#d8576b"
             ],
             [
              0.6666666666666666,
              "#ed7953"
             ],
             [
              0.7777777777777778,
              "#fb9f3a"
             ],
             [
              0.8888888888888888,
              "#fdca26"
             ],
             [
              1,
              "#f0f921"
             ]
            ],
            "type": "heatmapgl"
           }
          ],
          "histogram": [
           {
            "marker": {
             "colorbar": {
              "outlinewidth": 0,
              "ticks": ""
             }
            },
            "type": "histogram"
           }
          ],
          "histogram2d": [
           {
            "colorbar": {
             "outlinewidth": 0,
             "ticks": ""
            },
            "colorscale": [
             [
              0,
              "#0d0887"
             ],
             [
              0.1111111111111111,
              "#46039f"
             ],
             [
              0.2222222222222222,
              "#7201a8"
             ],
             [
              0.3333333333333333,
              "#9c179e"
             ],
             [
              0.4444444444444444,
              "#bd3786"
             ],
             [
              0.5555555555555556,
              "#d8576b"
             ],
             [
              0.6666666666666666,
              "#ed7953"
             ],
             [
              0.7777777777777778,
              "#fb9f3a"
             ],
             [
              0.8888888888888888,
              "#fdca26"
             ],
             [
              1,
              "#f0f921"
             ]
            ],
            "type": "histogram2d"
           }
          ],
          "histogram2dcontour": [
           {
            "colorbar": {
             "outlinewidth": 0,
             "ticks": ""
            },
            "colorscale": [
             [
              0,
              "#0d0887"
             ],
             [
              0.1111111111111111,
              "#46039f"
             ],
             [
              0.2222222222222222,
              "#7201a8"
             ],
             [
              0.3333333333333333,
              "#9c179e"
             ],
             [
              0.4444444444444444,
              "#bd3786"
             ],
             [
              0.5555555555555556,
              "#d8576b"
             ],
             [
              0.6666666666666666,
              "#ed7953"
             ],
             [
              0.7777777777777778,
              "#fb9f3a"
             ],
             [
              0.8888888888888888,
              "#fdca26"
             ],
             [
              1,
              "#f0f921"
             ]
            ],
            "type": "histogram2dcontour"
           }
          ],
          "mesh3d": [
           {
            "colorbar": {
             "outlinewidth": 0,
             "ticks": ""
            },
            "type": "mesh3d"
           }
          ],
          "parcoords": [
           {
            "line": {
             "colorbar": {
              "outlinewidth": 0,
              "ticks": ""
             }
            },
            "type": "parcoords"
           }
          ],
          "pie": [
           {
            "automargin": true,
            "type": "pie"
           }
          ],
          "scatter": [
           {
            "marker": {
             "colorbar": {
              "outlinewidth": 0,
              "ticks": ""
             }
            },
            "type": "scatter"
           }
          ],
          "scatter3d": [
           {
            "line": {
             "colorbar": {
              "outlinewidth": 0,
              "ticks": ""
             }
            },
            "marker": {
             "colorbar": {
              "outlinewidth": 0,
              "ticks": ""
             }
            },
            "type": "scatter3d"
           }
          ],
          "scattercarpet": [
           {
            "marker": {
             "colorbar": {
              "outlinewidth": 0,
              "ticks": ""
             }
            },
            "type": "scattercarpet"
           }
          ],
          "scattergeo": [
           {
            "marker": {
             "colorbar": {
              "outlinewidth": 0,
              "ticks": ""
             }
            },
            "type": "scattergeo"
           }
          ],
          "scattergl": [
           {
            "marker": {
             "colorbar": {
              "outlinewidth": 0,
              "ticks": ""
             }
            },
            "type": "scattergl"
           }
          ],
          "scattermapbox": [
           {
            "marker": {
             "colorbar": {
              "outlinewidth": 0,
              "ticks": ""
             }
            },
            "type": "scattermapbox"
           }
          ],
          "scatterpolar": [
           {
            "marker": {
             "colorbar": {
              "outlinewidth": 0,
              "ticks": ""
             }
            },
            "type": "scatterpolar"
           }
          ],
          "scatterpolargl": [
           {
            "marker": {
             "colorbar": {
              "outlinewidth": 0,
              "ticks": ""
             }
            },
            "type": "scatterpolargl"
           }
          ],
          "scatterternary": [
           {
            "marker": {
             "colorbar": {
              "outlinewidth": 0,
              "ticks": ""
             }
            },
            "type": "scatterternary"
           }
          ],
          "surface": [
           {
            "colorbar": {
             "outlinewidth": 0,
             "ticks": ""
            },
            "colorscale": [
             [
              0,
              "#0d0887"
             ],
             [
              0.1111111111111111,
              "#46039f"
             ],
             [
              0.2222222222222222,
              "#7201a8"
             ],
             [
              0.3333333333333333,
              "#9c179e"
             ],
             [
              0.4444444444444444,
              "#bd3786"
             ],
             [
              0.5555555555555556,
              "#d8576b"
             ],
             [
              0.6666666666666666,
              "#ed7953"
             ],
             [
              0.7777777777777778,
              "#fb9f3a"
             ],
             [
              0.8888888888888888,
              "#fdca26"
             ],
             [
              1,
              "#f0f921"
             ]
            ],
            "type": "surface"
           }
          ],
          "table": [
           {
            "cells": {
             "fill": {
              "color": "#EBF0F8"
             },
             "line": {
              "color": "white"
             }
            },
            "header": {
             "fill": {
              "color": "#C8D4E3"
             },
             "line": {
              "color": "white"
             }
            },
            "type": "table"
           }
          ]
         },
         "layout": {
          "annotationdefaults": {
           "arrowcolor": "#2a3f5f",
           "arrowhead": 0,
           "arrowwidth": 1
          },
          "coloraxis": {
           "colorbar": {
            "outlinewidth": 0,
            "ticks": ""
           }
          },
          "colorscale": {
           "diverging": [
            [
             0,
             "#8e0152"
            ],
            [
             0.1,
             "#c51b7d"
            ],
            [
             0.2,
             "#de77ae"
            ],
            [
             0.3,
             "#f1b6da"
            ],
            [
             0.4,
             "#fde0ef"
            ],
            [
             0.5,
             "#f7f7f7"
            ],
            [
             0.6,
             "#e6f5d0"
            ],
            [
             0.7,
             "#b8e186"
            ],
            [
             0.8,
             "#7fbc41"
            ],
            [
             0.9,
             "#4d9221"
            ],
            [
             1,
             "#276419"
            ]
           ],
           "sequential": [
            [
             0,
             "#0d0887"
            ],
            [
             0.1111111111111111,
             "#46039f"
            ],
            [
             0.2222222222222222,
             "#7201a8"
            ],
            [
             0.3333333333333333,
             "#9c179e"
            ],
            [
             0.4444444444444444,
             "#bd3786"
            ],
            [
             0.5555555555555556,
             "#d8576b"
            ],
            [
             0.6666666666666666,
             "#ed7953"
            ],
            [
             0.7777777777777778,
             "#fb9f3a"
            ],
            [
             0.8888888888888888,
             "#fdca26"
            ],
            [
             1,
             "#f0f921"
            ]
           ],
           "sequentialminus": [
            [
             0,
             "#0d0887"
            ],
            [
             0.1111111111111111,
             "#46039f"
            ],
            [
             0.2222222222222222,
             "#7201a8"
            ],
            [
             0.3333333333333333,
             "#9c179e"
            ],
            [
             0.4444444444444444,
             "#bd3786"
            ],
            [
             0.5555555555555556,
             "#d8576b"
            ],
            [
             0.6666666666666666,
             "#ed7953"
            ],
            [
             0.7777777777777778,
             "#fb9f3a"
            ],
            [
             0.8888888888888888,
             "#fdca26"
            ],
            [
             1,
             "#f0f921"
            ]
           ]
          },
          "colorway": [
           "#636efa",
           "#EF553B",
           "#00cc96",
           "#ab63fa",
           "#FFA15A",
           "#19d3f3",
           "#FF6692",
           "#B6E880",
           "#FF97FF",
           "#FECB52"
          ],
          "font": {
           "color": "#2a3f5f"
          },
          "geo": {
           "bgcolor": "white",
           "lakecolor": "white",
           "landcolor": "#E5ECF6",
           "showlakes": true,
           "showland": true,
           "subunitcolor": "white"
          },
          "hoverlabel": {
           "align": "left"
          },
          "hovermode": "closest",
          "mapbox": {
           "style": "light"
          },
          "paper_bgcolor": "white",
          "plot_bgcolor": "#E5ECF6",
          "polar": {
           "angularaxis": {
            "gridcolor": "white",
            "linecolor": "white",
            "ticks": ""
           },
           "bgcolor": "#E5ECF6",
           "radialaxis": {
            "gridcolor": "white",
            "linecolor": "white",
            "ticks": ""
           }
          },
          "scene": {
           "xaxis": {
            "backgroundcolor": "#E5ECF6",
            "gridcolor": "white",
            "gridwidth": 2,
            "linecolor": "white",
            "showbackground": true,
            "ticks": "",
            "zerolinecolor": "white"
           },
           "yaxis": {
            "backgroundcolor": "#E5ECF6",
            "gridcolor": "white",
            "gridwidth": 2,
            "linecolor": "white",
            "showbackground": true,
            "ticks": "",
            "zerolinecolor": "white"
           },
           "zaxis": {
            "backgroundcolor": "#E5ECF6",
            "gridcolor": "white",
            "gridwidth": 2,
            "linecolor": "white",
            "showbackground": true,
            "ticks": "",
            "zerolinecolor": "white"
           }
          },
          "shapedefaults": {
           "line": {
            "color": "#2a3f5f"
           }
          },
          "ternary": {
           "aaxis": {
            "gridcolor": "white",
            "linecolor": "white",
            "ticks": ""
           },
           "baxis": {
            "gridcolor": "white",
            "linecolor": "white",
            "ticks": ""
           },
           "bgcolor": "#E5ECF6",
           "caxis": {
            "gridcolor": "white",
            "linecolor": "white",
            "ticks": ""
           }
          },
          "title": {
           "x": 0.05
          },
          "xaxis": {
           "automargin": true,
           "gridcolor": "white",
           "linecolor": "white",
           "ticks": "",
           "title": {
            "standoff": 15
           },
           "zerolinecolor": "white",
           "zerolinewidth": 2
          },
          "yaxis": {
           "automargin": true,
           "gridcolor": "white",
           "linecolor": "white",
           "ticks": "",
           "title": {
            "standoff": 15
           },
           "zerolinecolor": "white",
           "zerolinewidth": 2
          }
         }
        }
       }
      },
      "text/html": [
       "<div>\n",
       "        \n",
       "        \n",
       "            <div id=\"37eee75e-0318-45dc-8ec2-9cadbfa88044\" class=\"plotly-graph-div\" style=\"height:525px; width:100%;\"></div>\n",
       "            <script type=\"text/javascript\">\n",
       "                require([\"plotly\"], function(Plotly) {\n",
       "                    window.PLOTLYENV=window.PLOTLYENV || {};\n",
       "                    \n",
       "                if (document.getElementById(\"37eee75e-0318-45dc-8ec2-9cadbfa88044\")) {\n",
       "                    Plotly.newPlot(\n",
       "                        '37eee75e-0318-45dc-8ec2-9cadbfa88044',\n",
       "                        [{\"mode\": \"lines+markers\", \"name\": \"Ratio positive\", \"type\": \"scatter\", \"x\": [\"1789-04-30T00:00:00\", \"1789-10-03T00:00:00\", \"1790-01-08T00:00:00\", \"1790-12-08T00:00:00\", \"1790-12-29T00:00:00\", \"1791-10-25T00:00:00\", \"1792-04-05T00:00:00\", \"1792-11-06T00:00:00\", \"1792-12-12T00:00:00\", \"1793-03-04T00:00:00\", \"1793-04-22T00:00:00\", \"1793-12-03T00:00:00\", \"1794-08-07T00:00:00\", \"1794-09-25T00:00:00\", \"1794-11-19T00:00:00\", \"1795-07-10T00:00:00\", \"1795-12-08T00:00:00\", \"1796-03-30T00:00:00\", \"1796-08-29T00:00:00\", \"1796-09-19T00:00:00\", \"1796-12-07T00:00:00\", \"1801-03-04T00:00:00\", \"1801-07-12T00:00:00\", \"1801-12-08T00:00:00\", \"1802-01-01T00:00:00\", \"1802-11-03T00:00:00\", \"1802-12-15T00:00:00\", \"1803-01-18T00:00:00\", \"1803-06-20T00:00:00\", \"1803-10-17T00:00:00\", \"1803-12-17T00:00:00\", \"1804-11-08T00:00:00\", \"1805-03-04T00:00:00\", \"1805-12-03T00:00:00\", \"1805-12-06T00:00:00\", \"1806-01-10T00:00:00\", \"1806-11-27T00:00:00\", \"1806-12-02T00:00:00\", \"1806-12-30T00:00:00\", \"1807-01-22T00:00:00\", \"1807-02-10T00:00:00\", \"1807-07-02T00:00:00\", \"1807-10-27T00:00:00\", \"1808-11-08T00:00:00\", \"1809-04-03T00:00:00\", \"1829-03-04T00:00:00\", \"1829-05-11T00:00:00\", \"1829-12-08T00:00:00\", \"1830-05-06T00:00:00\", \"1830-05-27T00:00:00\", \"1830-10-05T00:00:00\", \"1830-12-06T00:00:00\", \"1831-02-22T00:00:00\", \"1831-12-06T00:00:00\", \"1832-02-15T00:00:00\", \"1832-07-10T00:00:00\", \"1832-12-04T00:00:00\", \"1832-12-06T00:00:00\", \"1832-12-10T00:00:00\", \"1833-01-16T00:00:00\", \"1833-03-04T00:00:00\", \"1833-09-18T00:00:00\", \"1833-12-03T00:00:00\", \"1833-12-12T00:00:00\", \"1834-04-15T00:00:00\", \"1834-04-21T00:00:00\", \"1834-12-01T00:00:00\", \"1835-12-07T00:00:00\", \"1836-12-05T00:00:00\", \"1836-12-21T00:00:00\", \"1837-03-04T00:00:00\", \"1933-03-04T00:00:00\", \"1933-03-12T00:00:00\", \"1933-05-07T00:00:00\", \"1933-07-24T00:00:00\", \"1933-10-22T00:00:00\", \"1934-06-28T00:00:00\", \"1934-09-30T00:00:00\", \"1935-04-28T00:00:00\", \"1936-06-27T00:00:00\", \"1936-09-06T00:00:00\", \"1936-10-31T00:00:00\", \"1937-01-20T00:00:00\", \"1937-03-09T00:00:00\", \"1937-10-05T00:00:00\", \"1937-10-12T00:00:00\", \"1937-11-14T00:00:00\", \"1938-04-14T00:00:00\", \"1938-06-24T00:00:00\", \"1938-07-08T00:00:00\", \"1939-09-03T00:00:00\", \"1940-05-26T00:00:00\", \"1940-06-10T00:00:00\", \"1940-07-19T00:00:00\", \"1940-12-29T00:00:00\", \"1941-01-06T00:00:00\", \"1941-01-20T00:00:00\", \"1941-03-15T00:00:00\", \"1941-05-27T00:00:00\", \"1941-09-11T00:00:00\", \"1941-12-08T00:00:00\", \"1941-12-09T00:00:00\", \"1941-12-11T00:00:00\", \"1942-02-23T00:00:00\", \"1942-04-28T00:00:00\", \"1942-09-07T00:00:00\", \"1942-10-12T00:00:00\", \"1943-01-07T00:00:00\", \"1943-05-02T00:00:00\", \"1943-07-28T00:00:00\", \"1943-09-08T00:00:00\", \"1943-12-01T00:00:00\", \"1943-12-24T00:00:00\", \"1944-01-11T00:00:00\", \"1944-06-05T00:00:00\", \"1944-06-12T00:00:00\", \"1944-07-20T00:00:00\", \"1945-01-20T00:00:00\", \"1945-02-11T00:00:00\", \"1945-03-01T00:00:00\", \"1952-09-23T00:00:00\", \"1964-10-27T00:00:00\", \"1969-01-20T00:00:00\", \"1969-11-03T00:00:00\", \"1970-01-22T00:00:00\", \"1970-04-30T00:00:00\", \"1971-01-22T00:00:00\", \"1971-02-25T00:00:00\", \"1971-04-07T00:00:00\", \"1971-05-20T00:00:00\", \"1972-01-20T00:00:00\", \"1972-01-25T00:00:00\", \"1972-05-08T00:00:00\", \"1972-11-06T00:00:00\", \"1972-11-07T00:00:00\", \"1973-01-20T00:00:00\", \"1973-01-23T00:00:00\", \"1973-04-30T00:00:00\", \"1973-08-15T00:00:00\", \"1974-01-30T00:00:00\", \"1974-02-25T00:00:00\", \"1974-04-29T00:00:00\", \"1974-08-08T00:00:00\", \"1974-08-09T00:00:00\", \"1976-08-19T00:00:00\", \"1979-11-13T00:00:00\", \"1980-07-17T00:00:00\", \"1981-01-20T00:00:00\", \"1981-01-29T00:00:00\", \"1981-04-28T00:00:00\", \"1981-05-17T00:00:00\", \"1981-06-29T00:00:00\", \"1981-07-27T00:00:00\", \"1981-08-03T00:00:00\", \"1981-11-18T00:00:00\", \"1981-12-23T00:00:00\", \"1982-01-26T00:00:00\", \"1982-06-08T00:00:00\", \"1982-06-09T00:00:00\", \"1982-06-17T00:00:00\", \"1982-08-16T00:00:00\", \"1982-09-01T00:00:00\", \"1982-09-20T00:00:00\", \"1983-01-25T00:00:00\", \"1983-02-18T00:00:00\", \"1983-03-08T00:00:00\", \"1983-03-23T00:00:00\", \"1983-04-27T00:00:00\", \"1983-09-05T00:00:00\", \"1983-10-27T00:00:00\", \"1983-11-02T00:00:00\", \"1983-11-04T00:00:00\", \"1984-01-25T00:00:00\", \"1984-01-29T00:00:00\", \"1984-05-28T00:00:00\", \"1984-06-03T00:00:00\", \"1984-06-06T00:00:00\", \"1984-08-23T00:00:00\", \"1984-10-07T00:00:00\", \"1984-10-21T00:00:00\", \"1985-01-21T00:00:00\", \"1985-02-06T00:00:00\", \"1985-05-05T00:00:00\", \"1985-11-21T00:00:00\", \"1986-01-28T00:00:00\", \"1986-02-04T00:00:00\", \"1986-04-14T00:00:00\", \"1986-09-14T00:00:00\", \"1986-10-13T00:00:00\", \"1986-10-22T00:00:00\", \"1987-01-27T00:00:00\", \"1987-03-04T00:00:00\", \"1987-06-12T00:00:00\", \"1987-12-08T00:00:00\", \"1987-12-10T00:00:00\", \"1988-01-25T00:00:00\", \"1988-05-31T00:00:00\", \"1988-08-15T00:00:00\", \"1988-08-18T00:00:00\", \"1988-09-25T00:00:00\", \"1988-09-26T00:00:00\", \"1988-11-11T00:00:00\", \"1988-12-16T00:00:00\", \"1989-01-11T00:00:00\", \"1989-01-20T00:00:00\", \"1989-02-09T00:00:00\", \"1989-05-12T00:00:00\", \"1989-12-20T00:00:00\", \"1990-01-31T00:00:00\", \"1990-07-26T00:00:00\", \"1990-08-08T00:00:00\", \"1990-09-11T00:00:00\", \"1990-10-01T00:00:00\", \"1990-10-02T00:00:00\", \"1991-01-16T00:00:00\", \"1991-01-29T00:00:00\", \"1991-02-27T00:00:00\", \"1991-03-06T00:00:00\", \"1991-07-31T00:00:00\", \"1992-01-28T00:00:00\", \"1992-08-20T00:00:00\", \"1992-10-11T00:00:00\", \"1992-12-04T00:00:00\", \"1992-12-15T00:00:00\", \"1993-01-05T00:00:00\", \"1993-01-20T00:00:00\", \"1993-01-29T00:00:00\", \"1993-02-05T00:00:00\", \"1993-02-17T00:00:00\", \"1993-04-30T00:00:00\", \"1993-05-05T00:00:00\", \"1993-06-06T00:00:00\", \"1993-09-13T00:00:00\", \"1993-09-22T00:00:00\", \"1993-10-07T00:00:00\", \"1993-11-13T00:00:00\", \"1993-12-08T00:00:00\", \"1994-01-25T00:00:00\", \"1994-06-06T00:00:00\", \"1994-07-12T00:00:00\", \"1995-01-24T00:00:00\", \"1995-04-23T00:00:00\", \"1995-07-19T00:00:00\", \"1995-10-16T00:00:00\", \"1995-11-27T00:00:00\", \"1995-11-30T00:00:00\", \"1996-01-23T00:00:00\", \"1996-06-25T00:00:00\", \"1996-08-29T00:00:00\", \"1996-10-06T00:00:00\", \"1996-11-03T00:00:00\", \"1997-01-20T00:00:00\", \"1997-02-04T00:00:00\", \"1997-04-22T00:00:00\", \"1998-01-26T00:00:00\", \"1998-01-27T00:00:00\", \"1998-03-23T00:00:00\", \"1998-03-25T00:00:00\", \"1998-08-17T00:00:00\", \"1999-01-19T00:00:00\", \"1999-03-24T00:00:00\", \"1999-06-10T00:00:00\", \"2000-01-27T00:00:00\", \"2001-01-18T00:00:00\", \"2001-01-20T00:00:00\", \"2001-01-29T00:00:00\", \"2001-05-11T00:00:00\", \"2001-06-07T00:00:00\", \"2001-08-10T00:00:00\", \"2001-09-11T00:00:00\", \"2001-09-22T00:00:00\", \"2002-01-08T00:00:00\", \"2002-01-29T00:00:00\", \"2002-06-01T00:00:00\", \"2002-06-07T00:00:00\", \"2002-06-19T00:00:00\", \"2002-09-12T00:00:00\", \"2003-01-28T00:00:00\", \"2003-03-17T00:00:00\", \"2003-03-20T00:00:00\", \"2003-11-06T00:00:00\", \"2003-12-08T00:00:00\", \"2004-01-07T00:00:00\", \"2004-01-20T00:00:00\", \"2004-07-17T00:00:00\", \"2004-09-03T00:00:00\", \"2005-01-20T00:00:00\", \"2005-02-02T00:00:00\", \"2005-08-31T00:00:00\", \"2005-09-16T00:00:00\", \"2005-12-19T00:00:00\", \"2006-01-31T00:00:00\", \"2006-07-19T00:00:00\", \"2007-01-11T00:00:00\", \"2007-01-23T00:00:00\", \"2007-04-09T00:00:00\", \"2008-01-28T00:00:00\", \"2008-03-19T00:00:00\", \"2008-08-28T00:00:00\", \"2008-10-03T00:00:00\", \"2008-11-04T00:00:00\", \"2008-11-13T00:00:00\", \"2008-12-19T00:00:00\", \"2009-01-12T00:00:00\", \"2009-01-15T00:00:00\", \"2009-01-20T00:00:00\", \"2009-01-29T00:00:00\", \"2009-02-07T00:00:00\", \"2009-02-24T00:00:00\", \"2009-05-26T00:00:00\", \"2009-06-04T00:00:00\", \"2009-09-09T00:00:00\", \"2009-12-01T00:00:00\", \"2009-12-10T00:00:00\", \"2010-01-27T00:00:00\", \"2010-02-09T00:00:00\", \"2010-03-15T00:00:00\", \"2010-04-15T00:00:00\", \"2010-04-28T00:00:00\", \"2010-06-15T00:00:00\", \"2010-08-31T00:00:00\", \"2010-09-23T00:00:00\", \"2010-11-03T00:00:00\", \"2011-01-12T00:00:00\", \"2011-01-25T00:00:00\", \"2011-05-01T00:00:00\", \"2011-05-19T00:00:00\", \"2011-05-25T00:00:00\", \"2011-06-22T00:00:00\", \"2011-09-08T00:00:00\", \"2011-10-21T00:00:00\", \"2012-01-24T00:00:00\", \"2012-09-06T00:00:00\", \"2012-11-06T00:00:00\", \"2012-12-16T00:00:00\", \"2013-01-21T00:00:00\", \"2013-01-29T00:00:00\", \"2013-02-13T00:00:00\", \"2013-03-01T00:00:00\", \"2013-03-21T00:00:00\", \"2013-04-08T00:00:00\", \"2013-07-19T00:00:00\", \"2013-07-24T00:00:00\", \"2013-09-10T00:00:00\", \"2013-12-04T00:00:00\", \"2014-01-28T00:00:00\", \"2014-11-20T00:00:00\", \"2015-01-20T00:00:00\", \"2015-03-07T00:00:00\", \"2015-06-26T00:00:00\", \"2016-01-12T00:00:00\", \"2016-03-22T00:00:00\", \"2016-05-15T00:00:00\", \"2017-01-20T00:00:00\", \"2017-02-28T00:00:00\", \"2017-06-29T00:00:00\", \"2017-07-24T00:00:00\", \"2017-09-19T00:00:00\", \"2017-12-18T00:00:00\", \"2018-01-26T00:00:00\", \"2018-01-30T00:00:00\", \"2018-02-01T00:00:00\", \"2018-02-15T00:00:00\", \"2018-02-23T00:00:00\", \"2018-03-19T00:00:00\", \"2018-07-24T00:00:00\", \"2018-09-25T00:00:00\", \"2019-01-19T00:00:00\", \"2019-02-05T00:00:00\", \"2019-02-15T00:00:00\", \"2019-09-24T00:00:00\", \"2019-09-25T00:00:00\", \"2019-10-27T00:00:00\", \"2020-01-03T00:00:00\", \"2020-01-08T00:00:00\"], \"y\": [0.264, 0.364, 0.257, 0.202, 0.171, 0.145, 0.202, 0.13, 0.189, 0.088, 0.213, 0.137, 0.08, 0.19, 0.12, 0.134, 0.157, 0.152, 0.235, 0.2, 0.156, 0.237, 0.168, 0.142, 0.274, 0.213, 0.125, 0.177, 0.147, 0.15, 0.24, 0.148, 0.193, 0.131, 0.086, 0.181, 0.109, 0.151, 0.267, 0.098, 0.083, 0.126, 0.1, 0.136, 0.208, 0.228, 0.057, 0.175, 0.126, 0.165, 0.075, 0.173, 0.084, 0.16, 0.167, 0.13, 0.167, 0.148, 0.112, 0.11, 0.163, 0.092, 0.148, 0.057, 0.103, 0.118, 0.126, 0.142, 0.128, 0.111, 0.199, 0.23, 0.169, 0.151, 0.206, 0.139, 0.196, 0.196, 0.166, 0.236, 0.164, 0.123, 0.172, 0.117, 0.143, 0.131, 0.148, 0.16, 0.138, 0.169, 0.129, 0.12, 0.16, 0.168, 0.142, 0.179, 0.2, 0.154, 0.147, 0.118, 0.075, 0.116, 0.064, 0.106, 0.119, 0.11, 0.145, 0.134, 0.113, 0.142, 0.147, 0.169, 0.18, 0.16, 0.178, 0.093, 0.138, 0.228, 0.083, 0.137, 0.13, 0.111, 0.224, 0.124, 0.188, 0.088, 0.158, 0.208, 0.144, 0.178, 0.202, 0.102, 0.123, 0.191, 0.297, 0.227, 0.199, 0.175, 0.14, 0.168, 0.108, 0.116, 0.215, 0.248, 0.183, 0.115, 0.17, 0.228, 0.13, 0.174, 0.181, 0.16, 0.147, 0.098, 0.136, 0.215, 0.176, 0.173, 0.154, 0.143, 0.158, 0.161, 0.123, 0.215, 0.148, 0.191, 0.145, 0.172, 0.103, 0.15, 0.161, 0.271, 0.243, 0.19, 0.218, 0.225, 0.222, 0.145, 0.137, 0.124, 0.221, 0.253, 0.153, 0.186, 0.222, 0.227, 0.116, 0.19, 0.16, 0.196, 0.184, 0.129, 0.208, 0.198, 0.189, 0.209, 0.185, 0.234, 0.209, 0.158, 0.157, 0.272, 0.195, 0.21, 0.282, 0.173, 0.191, 0.124, 0.195, 0.23, 0.128, 0.155, 0.157, 0.218, 0.123, 0.193, 0.163, 0.142, 0.143, 0.182, 0.182, 0.147, 0.153, 0.2, 0.221, 0.185, 0.119, 0.241, 0.19, 0.153, 0.192, 0.157, 0.133, 0.183, 0.145, 0.183, 0.205, 0.221, 0.161, 0.179, 0.17, 0.224, 0.119, 0.199, 0.164, 0.195, 0.179, 0.181, 0.189, 0.12, 0.157, 0.213, 0.18, 0.239, 0.196, 0.193, 0.213, 0.19, 0.141, 0.195, 0.14, 0.153, 0.209, 0.197, 0.234, 0.24, 0.212, 0.233, 0.148, 0.235, 0.138, 0.196, 0.209, 0.196, 0.163, 0.231, 0.115, 0.142, 0.109, 0.232, 0.25, 0.247, 0.206, 0.193, 0.2, 0.213, 0.282, 0.227, 0.171, 0.183, 0.151, 0.212, 0.148, 0.185, 0.189, 0.161, 0.218, 0.153, 0.14, 0.17, 0.163, 0.205, 0.145, 0.177, 0.228, 0.19, 0.138, 0.147, 0.146, 0.173, 0.167, 0.177, 0.122, 0.132, 0.157, 0.151, 0.118, 0.136, 0.138, 0.122, 0.121, 0.133, 0.134, 0.186, 0.111, 0.145, 0.124, 0.139, 0.117, 0.114, 0.157, 0.117, 0.134, 0.175, 0.171, 0.154, 0.113, 0.154, 0.112, 0.141, 0.114, 0.121, 0.146, 0.095, 0.158, 0.144, 0.167, 0.137, 0.138, 0.187, 0.201, 0.139, 0.161, 0.213, 0.182, 0.203, 0.211, 0.198, 0.213, 0.144, 0.154, 0.182, 0.203, 0.186, 0.186, 0.21, 0.216, 0.143, 0.133, 0.103, 0.194, 0.109, 0.16, 0.188, 0.105]}, {\"mode\": \"lines+markers\", \"name\": \"Ratio negative\", \"type\": \"scatter\", \"x\": [\"1789-04-30T00:00:00\", \"1789-10-03T00:00:00\", \"1790-01-08T00:00:00\", \"1790-12-08T00:00:00\", \"1790-12-29T00:00:00\", \"1791-10-25T00:00:00\", \"1792-04-05T00:00:00\", \"1792-11-06T00:00:00\", \"1792-12-12T00:00:00\", \"1793-03-04T00:00:00\", \"1793-04-22T00:00:00\", \"1793-12-03T00:00:00\", \"1794-08-07T00:00:00\", \"1794-09-25T00:00:00\", \"1794-11-19T00:00:00\", \"1795-07-10T00:00:00\", \"1795-12-08T00:00:00\", \"1796-03-30T00:00:00\", \"1796-08-29T00:00:00\", \"1796-09-19T00:00:00\", \"1796-12-07T00:00:00\", \"1801-03-04T00:00:00\", \"1801-07-12T00:00:00\", \"1801-12-08T00:00:00\", \"1802-01-01T00:00:00\", \"1802-11-03T00:00:00\", \"1802-12-15T00:00:00\", \"1803-01-18T00:00:00\", \"1803-06-20T00:00:00\", \"1803-10-17T00:00:00\", \"1803-12-17T00:00:00\", \"1804-11-08T00:00:00\", \"1805-03-04T00:00:00\", \"1805-12-03T00:00:00\", \"1805-12-06T00:00:00\", \"1806-01-10T00:00:00\", \"1806-11-27T00:00:00\", \"1806-12-02T00:00:00\", \"1806-12-30T00:00:00\", \"1807-01-22T00:00:00\", \"1807-02-10T00:00:00\", \"1807-07-02T00:00:00\", \"1807-10-27T00:00:00\", \"1808-11-08T00:00:00\", \"1809-04-03T00:00:00\", \"1829-03-04T00:00:00\", \"1829-05-11T00:00:00\", \"1829-12-08T00:00:00\", \"1830-05-06T00:00:00\", \"1830-05-27T00:00:00\", \"1830-10-05T00:00:00\", \"1830-12-06T00:00:00\", \"1831-02-22T00:00:00\", \"1831-12-06T00:00:00\", \"1832-02-15T00:00:00\", \"1832-07-10T00:00:00\", \"1832-12-04T00:00:00\", \"1832-12-06T00:00:00\", \"1832-12-10T00:00:00\", \"1833-01-16T00:00:00\", \"1833-03-04T00:00:00\", \"1833-09-18T00:00:00\", \"1833-12-03T00:00:00\", \"1833-12-12T00:00:00\", \"1834-04-15T00:00:00\", \"1834-04-21T00:00:00\", \"1834-12-01T00:00:00\", \"1835-12-07T00:00:00\", \"1836-12-05T00:00:00\", \"1836-12-21T00:00:00\", \"1837-03-04T00:00:00\", \"1933-03-04T00:00:00\", \"1933-03-12T00:00:00\", \"1933-05-07T00:00:00\", \"1933-07-24T00:00:00\", \"1933-10-22T00:00:00\", \"1934-06-28T00:00:00\", \"1934-09-30T00:00:00\", \"1935-04-28T00:00:00\", \"1936-06-27T00:00:00\", \"1936-09-06T00:00:00\", \"1936-10-31T00:00:00\", \"1937-01-20T00:00:00\", \"1937-03-09T00:00:00\", \"1937-10-05T00:00:00\", \"1937-10-12T00:00:00\", \"1937-11-14T00:00:00\", \"1938-04-14T00:00:00\", \"1938-06-24T00:00:00\", \"1938-07-08T00:00:00\", \"1939-09-03T00:00:00\", \"1940-05-26T00:00:00\", \"1940-06-10T00:00:00\", \"1940-07-19T00:00:00\", \"1940-12-29T00:00:00\", \"1941-01-06T00:00:00\", \"1941-01-20T00:00:00\", \"1941-03-15T00:00:00\", \"1941-05-27T00:00:00\", \"1941-09-11T00:00:00\", \"1941-12-08T00:00:00\", \"1941-12-09T00:00:00\", \"1941-12-11T00:00:00\", \"1942-02-23T00:00:00\", \"1942-04-28T00:00:00\", \"1942-09-07T00:00:00\", \"1942-10-12T00:00:00\", \"1943-01-07T00:00:00\", \"1943-05-02T00:00:00\", \"1943-07-28T00:00:00\", \"1943-09-08T00:00:00\", \"1943-12-01T00:00:00\", \"1943-12-24T00:00:00\", \"1944-01-11T00:00:00\", \"1944-06-05T00:00:00\", \"1944-06-12T00:00:00\", \"1944-07-20T00:00:00\", \"1945-01-20T00:00:00\", \"1945-02-11T00:00:00\", \"1945-03-01T00:00:00\", \"1952-09-23T00:00:00\", \"1964-10-27T00:00:00\", \"1969-01-20T00:00:00\", \"1969-11-03T00:00:00\", \"1970-01-22T00:00:00\", \"1970-04-30T00:00:00\", \"1971-01-22T00:00:00\", \"1971-02-25T00:00:00\", \"1971-04-07T00:00:00\", \"1971-05-20T00:00:00\", \"1972-01-20T00:00:00\", \"1972-01-25T00:00:00\", \"1972-05-08T00:00:00\", \"1972-11-06T00:00:00\", \"1972-11-07T00:00:00\", \"1973-01-20T00:00:00\", \"1973-01-23T00:00:00\", \"1973-04-30T00:00:00\", \"1973-08-15T00:00:00\", \"1974-01-30T00:00:00\", \"1974-02-25T00:00:00\", \"1974-04-29T00:00:00\", \"1974-08-08T00:00:00\", \"1974-08-09T00:00:00\", \"1976-08-19T00:00:00\", \"1979-11-13T00:00:00\", \"1980-07-17T00:00:00\", \"1981-01-20T00:00:00\", \"1981-01-29T00:00:00\", \"1981-04-28T00:00:00\", \"1981-05-17T00:00:00\", \"1981-06-29T00:00:00\", \"1981-07-27T00:00:00\", \"1981-08-03T00:00:00\", \"1981-11-18T00:00:00\", \"1981-12-23T00:00:00\", \"1982-01-26T00:00:00\", \"1982-06-08T00:00:00\", \"1982-06-09T00:00:00\", \"1982-06-17T00:00:00\", \"1982-08-16T00:00:00\", \"1982-09-01T00:00:00\", \"1982-09-20T00:00:00\", \"1983-01-25T00:00:00\", \"1983-02-18T00:00:00\", \"1983-03-08T00:00:00\", \"1983-03-23T00:00:00\", \"1983-04-27T00:00:00\", \"1983-09-05T00:00:00\", \"1983-10-27T00:00:00\", \"1983-11-02T00:00:00\", \"1983-11-04T00:00:00\", \"1984-01-25T00:00:00\", \"1984-01-29T00:00:00\", \"1984-05-28T00:00:00\", \"1984-06-03T00:00:00\", \"1984-06-06T00:00:00\", \"1984-08-23T00:00:00\", \"1984-10-07T00:00:00\", \"1984-10-21T00:00:00\", \"1985-01-21T00:00:00\", \"1985-02-06T00:00:00\", \"1985-05-05T00:00:00\", \"1985-11-21T00:00:00\", \"1986-01-28T00:00:00\", \"1986-02-04T00:00:00\", \"1986-04-14T00:00:00\", \"1986-09-14T00:00:00\", \"1986-10-13T00:00:00\", \"1986-10-22T00:00:00\", \"1987-01-27T00:00:00\", \"1987-03-04T00:00:00\", \"1987-06-12T00:00:00\", \"1987-12-08T00:00:00\", \"1987-12-10T00:00:00\", \"1988-01-25T00:00:00\", \"1988-05-31T00:00:00\", \"1988-08-15T00:00:00\", \"1988-08-18T00:00:00\", \"1988-09-25T00:00:00\", \"1988-09-26T00:00:00\", \"1988-11-11T00:00:00\", \"1988-12-16T00:00:00\", \"1989-01-11T00:00:00\", \"1989-01-20T00:00:00\", \"1989-02-09T00:00:00\", \"1989-05-12T00:00:00\", \"1989-12-20T00:00:00\", \"1990-01-31T00:00:00\", \"1990-07-26T00:00:00\", \"1990-08-08T00:00:00\", \"1990-09-11T00:00:00\", \"1990-10-01T00:00:00\", \"1990-10-02T00:00:00\", \"1991-01-16T00:00:00\", \"1991-01-29T00:00:00\", \"1991-02-27T00:00:00\", \"1991-03-06T00:00:00\", \"1991-07-31T00:00:00\", \"1992-01-28T00:00:00\", \"1992-08-20T00:00:00\", \"1992-10-11T00:00:00\", \"1992-12-04T00:00:00\", \"1992-12-15T00:00:00\", \"1993-01-05T00:00:00\", \"1993-01-20T00:00:00\", \"1993-01-29T00:00:00\", \"1993-02-05T00:00:00\", \"1993-02-17T00:00:00\", \"1993-04-30T00:00:00\", \"1993-05-05T00:00:00\", \"1993-06-06T00:00:00\", \"1993-09-13T00:00:00\", \"1993-09-22T00:00:00\", \"1993-10-07T00:00:00\", \"1993-11-13T00:00:00\", \"1993-12-08T00:00:00\", \"1994-01-25T00:00:00\", \"1994-06-06T00:00:00\", \"1994-07-12T00:00:00\", \"1995-01-24T00:00:00\", \"1995-04-23T00:00:00\", \"1995-07-19T00:00:00\", \"1995-10-16T00:00:00\", \"1995-11-27T00:00:00\", \"1995-11-30T00:00:00\", \"1996-01-23T00:00:00\", \"1996-06-25T00:00:00\", \"1996-08-29T00:00:00\", \"1996-10-06T00:00:00\", \"1996-11-03T00:00:00\", \"1997-01-20T00:00:00\", \"1997-02-04T00:00:00\", \"1997-04-22T00:00:00\", \"1998-01-26T00:00:00\", \"1998-01-27T00:00:00\", \"1998-03-23T00:00:00\", \"1998-03-25T00:00:00\", \"1998-08-17T00:00:00\", \"1999-01-19T00:00:00\", \"1999-03-24T00:00:00\", \"1999-06-10T00:00:00\", \"2000-01-27T00:00:00\", \"2001-01-18T00:00:00\", \"2001-01-20T00:00:00\", \"2001-01-29T00:00:00\", \"2001-05-11T00:00:00\", \"2001-06-07T00:00:00\", \"2001-08-10T00:00:00\", \"2001-09-11T00:00:00\", \"2001-09-22T00:00:00\", \"2002-01-08T00:00:00\", \"2002-01-29T00:00:00\", \"2002-06-01T00:00:00\", \"2002-06-07T00:00:00\", \"2002-06-19T00:00:00\", \"2002-09-12T00:00:00\", \"2003-01-28T00:00:00\", \"2003-03-17T00:00:00\", \"2003-03-20T00:00:00\", \"2003-11-06T00:00:00\", \"2003-12-08T00:00:00\", \"2004-01-07T00:00:00\", \"2004-01-20T00:00:00\", \"2004-07-17T00:00:00\", \"2004-09-03T00:00:00\", \"2005-01-20T00:00:00\", \"2005-02-02T00:00:00\", \"2005-08-31T00:00:00\", \"2005-09-16T00:00:00\", \"2005-12-19T00:00:00\", \"2006-01-31T00:00:00\", \"2006-07-19T00:00:00\", \"2007-01-11T00:00:00\", \"2007-01-23T00:00:00\", \"2007-04-09T00:00:00\", \"2008-01-28T00:00:00\", \"2008-03-19T00:00:00\", \"2008-08-28T00:00:00\", \"2008-10-03T00:00:00\", \"2008-11-04T00:00:00\", \"2008-11-13T00:00:00\", \"2008-12-19T00:00:00\", \"2009-01-12T00:00:00\", \"2009-01-15T00:00:00\", \"2009-01-20T00:00:00\", \"2009-01-29T00:00:00\", \"2009-02-07T00:00:00\", \"2009-02-24T00:00:00\", \"2009-05-26T00:00:00\", \"2009-06-04T00:00:00\", \"2009-09-09T00:00:00\", \"2009-12-01T00:00:00\", \"2009-12-10T00:00:00\", \"2010-01-27T00:00:00\", \"2010-02-09T00:00:00\", \"2010-03-15T00:00:00\", \"2010-04-15T00:00:00\", \"2010-04-28T00:00:00\", \"2010-06-15T00:00:00\", \"2010-08-31T00:00:00\", \"2010-09-23T00:00:00\", \"2010-11-03T00:00:00\", \"2011-01-12T00:00:00\", \"2011-01-25T00:00:00\", \"2011-05-01T00:00:00\", \"2011-05-19T00:00:00\", \"2011-05-25T00:00:00\", \"2011-06-22T00:00:00\", \"2011-09-08T00:00:00\", \"2011-10-21T00:00:00\", \"2012-01-24T00:00:00\", \"2012-09-06T00:00:00\", \"2012-11-06T00:00:00\", \"2012-12-16T00:00:00\", \"2013-01-21T00:00:00\", \"2013-01-29T00:00:00\", \"2013-02-13T00:00:00\", \"2013-03-01T00:00:00\", \"2013-03-21T00:00:00\", \"2013-04-08T00:00:00\", \"2013-07-19T00:00:00\", \"2013-07-24T00:00:00\", \"2013-09-10T00:00:00\", \"2013-12-04T00:00:00\", \"2014-01-28T00:00:00\", \"2014-11-20T00:00:00\", \"2015-01-20T00:00:00\", \"2015-03-07T00:00:00\", \"2015-06-26T00:00:00\", \"2016-01-12T00:00:00\", \"2016-03-22T00:00:00\", \"2016-05-15T00:00:00\", \"2017-01-20T00:00:00\", \"2017-02-28T00:00:00\", \"2017-06-29T00:00:00\", \"2017-07-24T00:00:00\", \"2017-09-19T00:00:00\", \"2017-12-18T00:00:00\", \"2018-01-26T00:00:00\", \"2018-01-30T00:00:00\", \"2018-02-01T00:00:00\", \"2018-02-15T00:00:00\", \"2018-02-23T00:00:00\", \"2018-03-19T00:00:00\", \"2018-07-24T00:00:00\", \"2018-09-25T00:00:00\", \"2019-01-19T00:00:00\", \"2019-02-05T00:00:00\", \"2019-02-15T00:00:00\", \"2019-09-24T00:00:00\", \"2019-09-25T00:00:00\", \"2019-10-27T00:00:00\", \"2020-01-03T00:00:00\", \"2020-01-08T00:00:00\"], \"y\": [0.037, 0.014, 0.033, 0.077, 0.121, 0.031, 0.029, 0.059, 0.148, 0.021, 0.124, 0.071, 0.099, 0.053, 0.096, 0.111, 0.105, 0.051, 0.035, 0.088, 0.085, 0.076, 0.058, 0.076, 0.031, 0.073, 0.069, 0.031, 0.051, 0.08, 0.075, 0.078, 0.065, 0.077, 0.068, 0.144, 0.055, 0.053, 0.065, 0.048, 0.079, 0.089, 0.081, 0.065, 0.059, 0.035, 0.022, 0.064, 0.005, 0.048, 0.005, 0.054, 0.054, 0.052, 0.031, 0.052, 0.075, 0.088, 0.094, 0.042, 0.053, 0.058, 0.061, 0.009, 0.058, 0.038, 0.076, 0.065, 0.061, 0.075, 0.098, 0.105, 0.057, 0.102, 0.08, 0.047, 0.061, 0.064, 0.08, 0.105, 0.053, 0.093, 0.096, 0.075, 0.145, 0.076, 0.06, 0.085, 0.069, 0.03, 0.144, 0.115, 0.11, 0.076, 0.134, 0.11, 0.071, 0.091, 0.135, 0.139, 0.161, 0.102, 0.214, 0.143, 0.151, 0.161, 0.14, 0.168, 0.15, 0.135, 0.187, 0.148, 0.101, 0.143, 0.084, 0.169, 0.099, 0.083, 0.071, 0.083, 0.08, 0.088, 0.078, 0.111, 0.11, 0.098, 0.046, 0.096, 0.118, 0.054, 0.082, 0.1, 0.184, 0.072, 0.027, 0.064, 0.146, 0.05, 0.084, 0.057, 0.07, 0.05, 0.084, 0.119, 0.104, 0.061, 0.097, 0.074, 0.058, 0.072, 0.065, 0.07, 0.091, 0.05, 0.099, 0.105, 0.081, 0.106, 0.115, 0.122, 0.094, 0.065, 0.072, 0.105, 0.093, 0.086, 0.109, 0.092, 0.135, 0.123, 0.074, 0.145, 0.07, 0.094, 0.118, 0.047, 0.14, 0.088, 0.101, 0.102, 0.081, 0.071, 0.237, 0.076, 0.143, 0.103, 0.238, 0.098, 0.084, 0.102, 0.088, 0.039, 0.074, 0.068, 0.103, 0.072, 0.059, 0.106, 0.093, 0.093, 0.118, 0.102, 0.061, 0.06, 0.058, 0.065, 0.078, 0.136, 0.043, 0.029, 0.107, 0.093, 0.121, 0.136, 0.152, 0.109, 0.123, 0.143, 0.053, 0.09, 0.085, 0.094, 0.091, 0.109, 0.093, 0.085, 0.049, 0.054, 0.102, 0.055, 0.065, 0.142, 0.085, 0.079, 0.123, 0.124, 0.052, 0.127, 0.103, 0.041, 0.103, 0.179, 0.048, 0.099, 0.18, 0.09, 0.103, 0.174, 0.1, 0.062, 0.087, 0.061, 0.073, 0.038, 0.049, 0.074, 0.064, 0.115, 0.106, 0.076, 0.174, 0.159, 0.072, 0.059, 0.09, 0.041, 0.074, 0.045, 0.043, 0.229, 0.171, 0.037, 0.153, 0.186, 0.17, 0.088, 0.22, 0.174, 0.267, 0.16, 0.087, 0.05, 0.07, 0.147, 0.211, 0.099, 0.089, 0.123, 0.043, 0.083, 0.281, 0.134, 0.081, 0.116, 0.126, 0.055, 0.106, 0.205, 0.103, 0.068, 0.086, 0.057, 0.077, 0.109, 0.123, 0.115, 0.059, 0.045, 0.094, 0.034, 0.111, 0.102, 0.121, 0.146, 0.11, 0.045, 0.049, 0.037, 0.062, 0.057, 0.116, 0.08, 0.047, 0.055, 0.033, 0.151, 0.089, 0.083, 0.126, 0.05, 0.062, 0.058, 0.071, 0.064, 0.065, 0.072, 0.02, 0.065, 0.077, 0.055, 0.083, 0.05, 0.036, 0.161, 0.068, 0.063, 0.051, 0.068, 0.058, 0.1, 0.107, 0.053, 0.059, 0.071, 0.078, 0.044, 0.031, 0.143, 0.113, 0.057, 0.105, 0.036, 0.174, 0.084, 0.085, 0.081, 0.111, 0.098, 0.103, 0.044, 0.083, 0.042, 0.254, 0.226, 0.188]}],\n",
       "                        {\"template\": {\"data\": {\"bar\": [{\"error_x\": {\"color\": \"#2a3f5f\"}, \"error_y\": {\"color\": \"#2a3f5f\"}, \"marker\": {\"line\": {\"color\": \"#E5ECF6\", \"width\": 0.5}}, \"type\": \"bar\"}], \"barpolar\": [{\"marker\": {\"line\": {\"color\": \"#E5ECF6\", \"width\": 0.5}}, \"type\": \"barpolar\"}], \"carpet\": [{\"aaxis\": {\"endlinecolor\": \"#2a3f5f\", \"gridcolor\": \"white\", \"linecolor\": \"white\", \"minorgridcolor\": \"white\", \"startlinecolor\": \"#2a3f5f\"}, \"baxis\": {\"endlinecolor\": \"#2a3f5f\", \"gridcolor\": \"white\", \"linecolor\": \"white\", \"minorgridcolor\": \"white\", \"startlinecolor\": \"#2a3f5f\"}, \"type\": \"carpet\"}], \"choropleth\": [{\"colorbar\": {\"outlinewidth\": 0, \"ticks\": \"\"}, \"type\": \"choropleth\"}], \"contour\": [{\"colorbar\": {\"outlinewidth\": 0, \"ticks\": \"\"}, \"colorscale\": [[0.0, \"#0d0887\"], [0.1111111111111111, \"#46039f\"], [0.2222222222222222, \"#7201a8\"], [0.3333333333333333, \"#9c179e\"], [0.4444444444444444, \"#bd3786\"], [0.5555555555555556, \"#d8576b\"], [0.6666666666666666, \"#ed7953\"], [0.7777777777777778, \"#fb9f3a\"], [0.8888888888888888, \"#fdca26\"], [1.0, \"#f0f921\"]], \"type\": \"contour\"}], \"contourcarpet\": [{\"colorbar\": {\"outlinewidth\": 0, \"ticks\": \"\"}, \"type\": \"contourcarpet\"}], \"heatmap\": [{\"colorbar\": {\"outlinewidth\": 0, \"ticks\": \"\"}, \"colorscale\": [[0.0, \"#0d0887\"], [0.1111111111111111, \"#46039f\"], [0.2222222222222222, \"#7201a8\"], [0.3333333333333333, \"#9c179e\"], [0.4444444444444444, \"#bd3786\"], [0.5555555555555556, \"#d8576b\"], [0.6666666666666666, \"#ed7953\"], [0.7777777777777778, \"#fb9f3a\"], [0.8888888888888888, \"#fdca26\"], [1.0, \"#f0f921\"]], \"type\": \"heatmap\"}], \"heatmapgl\": [{\"colorbar\": {\"outlinewidth\": 0, \"ticks\": \"\"}, \"colorscale\": [[0.0, \"#0d0887\"], [0.1111111111111111, \"#46039f\"], [0.2222222222222222, \"#7201a8\"], [0.3333333333333333, \"#9c179e\"], [0.4444444444444444, \"#bd3786\"], [0.5555555555555556, \"#d8576b\"], [0.6666666666666666, \"#ed7953\"], [0.7777777777777778, \"#fb9f3a\"], [0.8888888888888888, \"#fdca26\"], [1.0, \"#f0f921\"]], \"type\": \"heatmapgl\"}], \"histogram\": [{\"marker\": {\"colorbar\": {\"outlinewidth\": 0, \"ticks\": \"\"}}, \"type\": \"histogram\"}], \"histogram2d\": [{\"colorbar\": {\"outlinewidth\": 0, \"ticks\": \"\"}, \"colorscale\": [[0.0, \"#0d0887\"], [0.1111111111111111, \"#46039f\"], [0.2222222222222222, \"#7201a8\"], [0.3333333333333333, \"#9c179e\"], [0.4444444444444444, \"#bd3786\"], [0.5555555555555556, \"#d8576b\"], [0.6666666666666666, \"#ed7953\"], [0.7777777777777778, \"#fb9f3a\"], [0.8888888888888888, \"#fdca26\"], [1.0, \"#f0f921\"]], \"type\": \"histogram2d\"}], \"histogram2dcontour\": [{\"colorbar\": {\"outlinewidth\": 0, \"ticks\": \"\"}, \"colorscale\": [[0.0, \"#0d0887\"], [0.1111111111111111, \"#46039f\"], [0.2222222222222222, \"#7201a8\"], [0.3333333333333333, \"#9c179e\"], [0.4444444444444444, \"#bd3786\"], [0.5555555555555556, \"#d8576b\"], [0.6666666666666666, \"#ed7953\"], [0.7777777777777778, \"#fb9f3a\"], [0.8888888888888888, \"#fdca26\"], [1.0, \"#f0f921\"]], \"type\": \"histogram2dcontour\"}], \"mesh3d\": [{\"colorbar\": {\"outlinewidth\": 0, \"ticks\": \"\"}, \"type\": \"mesh3d\"}], \"parcoords\": [{\"line\": {\"colorbar\": {\"outlinewidth\": 0, \"ticks\": \"\"}}, \"type\": \"parcoords\"}], \"pie\": [{\"automargin\": true, \"type\": \"pie\"}], \"scatter\": [{\"marker\": {\"colorbar\": {\"outlinewidth\": 0, \"ticks\": \"\"}}, \"type\": \"scatter\"}], \"scatter3d\": [{\"line\": {\"colorbar\": {\"outlinewidth\": 0, \"ticks\": \"\"}}, \"marker\": {\"colorbar\": {\"outlinewidth\": 0, \"ticks\": \"\"}}, \"type\": \"scatter3d\"}], \"scattercarpet\": [{\"marker\": {\"colorbar\": {\"outlinewidth\": 0, \"ticks\": \"\"}}, \"type\": \"scattercarpet\"}], \"scattergeo\": [{\"marker\": {\"colorbar\": {\"outlinewidth\": 0, \"ticks\": \"\"}}, \"type\": \"scattergeo\"}], \"scattergl\": [{\"marker\": {\"colorbar\": {\"outlinewidth\": 0, \"ticks\": \"\"}}, \"type\": \"scattergl\"}], \"scattermapbox\": [{\"marker\": {\"colorbar\": {\"outlinewidth\": 0, \"ticks\": \"\"}}, \"type\": \"scattermapbox\"}], \"scatterpolar\": [{\"marker\": {\"colorbar\": {\"outlinewidth\": 0, \"ticks\": \"\"}}, \"type\": \"scatterpolar\"}], \"scatterpolargl\": [{\"marker\": {\"colorbar\": {\"outlinewidth\": 0, \"ticks\": \"\"}}, \"type\": \"scatterpolargl\"}], \"scatterternary\": [{\"marker\": {\"colorbar\": {\"outlinewidth\": 0, \"ticks\": \"\"}}, \"type\": \"scatterternary\"}], \"surface\": [{\"colorbar\": {\"outlinewidth\": 0, \"ticks\": \"\"}, \"colorscale\": [[0.0, \"#0d0887\"], [0.1111111111111111, \"#46039f\"], [0.2222222222222222, \"#7201a8\"], [0.3333333333333333, \"#9c179e\"], [0.4444444444444444, \"#bd3786\"], [0.5555555555555556, \"#d8576b\"], [0.6666666666666666, \"#ed7953\"], [0.7777777777777778, \"#fb9f3a\"], [0.8888888888888888, \"#fdca26\"], [1.0, \"#f0f921\"]], \"type\": \"surface\"}], \"table\": [{\"cells\": {\"fill\": {\"color\": \"#EBF0F8\"}, \"line\": {\"color\": \"white\"}}, \"header\": {\"fill\": {\"color\": \"#C8D4E3\"}, \"line\": {\"color\": \"white\"}}, \"type\": \"table\"}]}, \"layout\": {\"annotationdefaults\": {\"arrowcolor\": \"#2a3f5f\", \"arrowhead\": 0, \"arrowwidth\": 1}, \"coloraxis\": {\"colorbar\": {\"outlinewidth\": 0, \"ticks\": \"\"}}, \"colorscale\": {\"diverging\": [[0, \"#8e0152\"], [0.1, \"#c51b7d\"], [0.2, \"#de77ae\"], [0.3, \"#f1b6da\"], [0.4, \"#fde0ef\"], [0.5, \"#f7f7f7\"], [0.6, \"#e6f5d0\"], [0.7, \"#b8e186\"], [0.8, \"#7fbc41\"], [0.9, \"#4d9221\"], [1, \"#276419\"]], \"sequential\": [[0.0, \"#0d0887\"], [0.1111111111111111, \"#46039f\"], [0.2222222222222222, \"#7201a8\"], [0.3333333333333333, \"#9c179e\"], [0.4444444444444444, \"#bd3786\"], [0.5555555555555556, \"#d8576b\"], [0.6666666666666666, \"#ed7953\"], [0.7777777777777778, \"#fb9f3a\"], [0.8888888888888888, \"#fdca26\"], [1.0, \"#f0f921\"]], \"sequentialminus\": [[0.0, \"#0d0887\"], [0.1111111111111111, \"#46039f\"], [0.2222222222222222, \"#7201a8\"], [0.3333333333333333, \"#9c179e\"], [0.4444444444444444, \"#bd3786\"], [0.5555555555555556, \"#d8576b\"], [0.6666666666666666, \"#ed7953\"], [0.7777777777777778, \"#fb9f3a\"], [0.8888888888888888, \"#fdca26\"], [1.0, \"#f0f921\"]]}, \"colorway\": [\"#636efa\", \"#EF553B\", \"#00cc96\", \"#ab63fa\", \"#FFA15A\", \"#19d3f3\", \"#FF6692\", \"#B6E880\", \"#FF97FF\", \"#FECB52\"], \"font\": {\"color\": \"#2a3f5f\"}, \"geo\": {\"bgcolor\": \"white\", \"lakecolor\": \"white\", \"landcolor\": \"#E5ECF6\", \"showlakes\": true, \"showland\": true, \"subunitcolor\": \"white\"}, \"hoverlabel\": {\"align\": \"left\"}, \"hovermode\": \"closest\", \"mapbox\": {\"style\": \"light\"}, \"paper_bgcolor\": \"white\", \"plot_bgcolor\": \"#E5ECF6\", \"polar\": {\"angularaxis\": {\"gridcolor\": \"white\", \"linecolor\": \"white\", \"ticks\": \"\"}, \"bgcolor\": \"#E5ECF6\", \"radialaxis\": {\"gridcolor\": \"white\", \"linecolor\": \"white\", \"ticks\": \"\"}}, \"scene\": {\"xaxis\": {\"backgroundcolor\": \"#E5ECF6\", \"gridcolor\": \"white\", \"gridwidth\": 2, \"linecolor\": \"white\", \"showbackground\": true, \"ticks\": \"\", \"zerolinecolor\": \"white\"}, \"yaxis\": {\"backgroundcolor\": \"#E5ECF6\", \"gridcolor\": \"white\", \"gridwidth\": 2, \"linecolor\": \"white\", \"showbackground\": true, \"ticks\": \"\", \"zerolinecolor\": \"white\"}, \"zaxis\": {\"backgroundcolor\": \"#E5ECF6\", \"gridcolor\": \"white\", \"gridwidth\": 2, \"linecolor\": \"white\", \"showbackground\": true, \"ticks\": \"\", \"zerolinecolor\": \"white\"}}, \"shapedefaults\": {\"line\": {\"color\": \"#2a3f5f\"}}, \"ternary\": {\"aaxis\": {\"gridcolor\": \"white\", \"linecolor\": \"white\", \"ticks\": \"\"}, \"baxis\": {\"gridcolor\": \"white\", \"linecolor\": \"white\", \"ticks\": \"\"}, \"bgcolor\": \"#E5ECF6\", \"caxis\": {\"gridcolor\": \"white\", \"linecolor\": \"white\", \"ticks\": \"\"}}, \"title\": {\"x\": 0.05}, \"xaxis\": {\"automargin\": true, \"gridcolor\": \"white\", \"linecolor\": \"white\", \"ticks\": \"\", \"title\": {\"standoff\": 15}, \"zerolinecolor\": \"white\", \"zerolinewidth\": 2}, \"yaxis\": {\"automargin\": true, \"gridcolor\": \"white\", \"linecolor\": \"white\", \"ticks\": \"\", \"title\": {\"standoff\": 15}, \"zerolinecolor\": \"white\", \"zerolinewidth\": 2}}}},\n",
       "                        {\"responsive\": true}\n",
       "                    ).then(function(){\n",
       "                            \n",
       "var gd = document.getElementById('37eee75e-0318-45dc-8ec2-9cadbfa88044');\n",
       "var x = new MutationObserver(function (mutations, observer) {{\n",
       "        var display = window.getComputedStyle(gd).display;\n",
       "        if (!display || display === 'none') {{\n",
       "            console.log([gd, 'removed!']);\n",
       "            Plotly.purge(gd);\n",
       "            observer.disconnect();\n",
       "        }}\n",
       "}});\n",
       "\n",
       "// Listen for the removal of the full notebook cells\n",
       "var notebookContainer = gd.closest('#notebook-container');\n",
       "if (notebookContainer) {{\n",
       "    x.observe(notebookContainer, {childList: true});\n",
       "}}\n",
       "\n",
       "// Listen for the clearing of the current output cell\n",
       "var outputEl = gd.closest('.output');\n",
       "if (outputEl) {{\n",
       "    x.observe(outputEl, {childList: true});\n",
       "}}\n",
       "\n",
       "                        })\n",
       "                };\n",
       "                });\n",
       "            </script>\n",
       "        </div>"
      ]
     },
     "metadata": {},
     "output_type": "display_data"
    }
   ],
   "source": [
    "fig = go.Figure()\n",
    "\n",
    "# Add traces\n",
    "fig.add_trace(go.Scatter(x=df['Date'], y=df['Ratio positive'],\n",
    "                    mode='lines+markers',\n",
    "                    name='Ratio positive'))\n",
    "\n",
    "fig.add_trace(go.Scatter(x=df['Date'], y=df['Ratio negative'],\n",
    "                    mode='lines+markers',\n",
    "                    name='Ratio negative'))\n",
    "\n",
    "fig.show()"
   ]
  },
  {
   "cell_type": "code",
   "execution_count": 143,
   "metadata": {},
   "outputs": [],
   "source": [
    "neg = []\n",
    "pos = []\n",
    "\n",
    "total = pd.DataFrame()\n",
    "\n",
    "for i in df.Name.unique():\n",
    "    df2 = df.groupby(\"Name\")\n",
    "    df3 = df2.get_group(i)\n",
    "    a_row = pd.Series([i, df3[\"Sentiment Speech\"].str.count(\"Negative\").sum(),df3[\"Sentiment Speech\"].str.count(\"Positive\").sum()])\n",
    "    row_df = pd.DataFrame([a_row])\n",
    "    total = pd.concat([row_df, total], ignore_index=True)\n",
    "    neg.append(df3[\"Sentiment Speech\"].str.count(\"Negative\").sum())\n",
    "    pos.append(df3[\"Sentiment Speech\"].str.count(\"Positive\").sum())"
   ]
  },
  {
   "cell_type": "code",
   "execution_count": 144,
   "metadata": {},
   "outputs": [
    {
     "data": {
      "text/html": [
       "<div>\n",
       "<style scoped>\n",
       "    .dataframe tbody tr th:only-of-type {\n",
       "        vertical-align: middle;\n",
       "    }\n",
       "\n",
       "    .dataframe tbody tr th {\n",
       "        vertical-align: top;\n",
       "    }\n",
       "\n",
       "    .dataframe thead th {\n",
       "        text-align: right;\n",
       "    }\n",
       "</style>\n",
       "<table border=\"1\" class=\"dataframe\">\n",
       "  <thead>\n",
       "    <tr style=\"text-align: right;\">\n",
       "      <th></th>\n",
       "      <th>Name</th>\n",
       "      <th>Total Negative</th>\n",
       "      <th>Total Positive</th>\n",
       "    </tr>\n",
       "  </thead>\n",
       "  <tbody>\n",
       "    <tr>\n",
       "      <td>10</td>\n",
       "      <td>George Washington</td>\n",
       "      <td>1</td>\n",
       "      <td>20</td>\n",
       "    </tr>\n",
       "    <tr>\n",
       "      <td>9</td>\n",
       "      <td>Thomas Jefferson</td>\n",
       "      <td>1</td>\n",
       "      <td>23</td>\n",
       "    </tr>\n",
       "    <tr>\n",
       "      <td>8</td>\n",
       "      <td>Andrew Jackson</td>\n",
       "      <td>0</td>\n",
       "      <td>26</td>\n",
       "    </tr>\n",
       "    <tr>\n",
       "      <td>7</td>\n",
       "      <td>Franklin D. Roosevelt</td>\n",
       "      <td>13</td>\n",
       "      <td>36</td>\n",
       "    </tr>\n",
       "    <tr>\n",
       "      <td>6</td>\n",
       "      <td>Richard M. Nixon</td>\n",
       "      <td>3</td>\n",
       "      <td>20</td>\n",
       "    </tr>\n",
       "    <tr>\n",
       "      <td>5</td>\n",
       "      <td>Ronald Reagan</td>\n",
       "      <td>3</td>\n",
       "      <td>56</td>\n",
       "    </tr>\n",
       "    <tr>\n",
       "      <td>4</td>\n",
       "      <td>George H. W. Bush</td>\n",
       "      <td>3</td>\n",
       "      <td>20</td>\n",
       "    </tr>\n",
       "    <tr>\n",
       "      <td>3</td>\n",
       "      <td>Bill Clinton</td>\n",
       "      <td>4</td>\n",
       "      <td>35</td>\n",
       "    </tr>\n",
       "    <tr>\n",
       "      <td>2</td>\n",
       "      <td>George W. Bush</td>\n",
       "      <td>9</td>\n",
       "      <td>30</td>\n",
       "    </tr>\n",
       "    <tr>\n",
       "      <td>1</td>\n",
       "      <td>Barack Obama</td>\n",
       "      <td>6</td>\n",
       "      <td>44</td>\n",
       "    </tr>\n",
       "    <tr>\n",
       "      <td>0</td>\n",
       "      <td>Donald Trump</td>\n",
       "      <td>3</td>\n",
       "      <td>19</td>\n",
       "    </tr>\n",
       "  </tbody>\n",
       "</table>\n",
       "</div>"
      ],
      "text/plain": [
       "                     Name  Total Negative  Total Positive\n",
       "10      George Washington               1              20\n",
       "9        Thomas Jefferson               1              23\n",
       "8          Andrew Jackson               0              26\n",
       "7   Franklin D. Roosevelt              13              36\n",
       "6        Richard M. Nixon               3              20\n",
       "5           Ronald Reagan               3              56\n",
       "4       George H. W. Bush               3              20\n",
       "3            Bill Clinton               4              35\n",
       "2          George W. Bush               9              30\n",
       "1            Barack Obama               6              44\n",
       "0            Donald Trump               3              19"
      ]
     },
     "execution_count": 144,
     "metadata": {},
     "output_type": "execute_result"
    }
   ],
   "source": [
    "total = total.rename(columns={0: \"Name\", 1: \"Total Negative\", 2: \"Total Positive\"})\n",
    "total = total.iloc[::-1]\n",
    "total"
   ]
  },
  {
   "cell_type": "code",
   "execution_count": 145,
   "metadata": {},
   "outputs": [
    {
     "data": {
      "application/vnd.plotly.v1+json": {
       "config": {
        "plotlyServerURL": "https://plot.ly"
       },
       "data": [
        {
         "marker": {
          "color": "blue"
         },
         "name": "Positive",
         "type": "bar",
         "x": [
          "George Washington",
          "Thomas Jefferson",
          "Andrew Jackson",
          "Franklin D. Roosevelt",
          "Richard M. Nixon",
          "Ronald Reagan",
          "George H. W. Bush",
          "Bill Clinton",
          "George W. Bush",
          "Barack Obama",
          "Donald Trump"
         ],
         "y": [
          20,
          23,
          26,
          36,
          20,
          56,
          20,
          35,
          30,
          44,
          19
         ]
        },
        {
         "marker": {
          "color": "indianred"
         },
         "name": "Negative",
         "type": "bar",
         "x": [
          "George Washington",
          "Thomas Jefferson",
          "Andrew Jackson",
          "Franklin D. Roosevelt",
          "Richard M. Nixon",
          "Ronald Reagan",
          "George H. W. Bush",
          "Bill Clinton",
          "George W. Bush",
          "Barack Obama",
          "Donald Trump"
         ],
         "y": [
          1,
          1,
          0,
          13,
          3,
          3,
          3,
          4,
          9,
          6,
          3
         ]
        }
       ],
       "layout": {
        "barmode": "group",
        "template": {
         "data": {
          "bar": [
           {
            "error_x": {
             "color": "#2a3f5f"
            },
            "error_y": {
             "color": "#2a3f5f"
            },
            "marker": {
             "line": {
              "color": "#E5ECF6",
              "width": 0.5
             }
            },
            "type": "bar"
           }
          ],
          "barpolar": [
           {
            "marker": {
             "line": {
              "color": "#E5ECF6",
              "width": 0.5
             }
            },
            "type": "barpolar"
           }
          ],
          "carpet": [
           {
            "aaxis": {
             "endlinecolor": "#2a3f5f",
             "gridcolor": "white",
             "linecolor": "white",
             "minorgridcolor": "white",
             "startlinecolor": "#2a3f5f"
            },
            "baxis": {
             "endlinecolor": "#2a3f5f",
             "gridcolor": "white",
             "linecolor": "white",
             "minorgridcolor": "white",
             "startlinecolor": "#2a3f5f"
            },
            "type": "carpet"
           }
          ],
          "choropleth": [
           {
            "colorbar": {
             "outlinewidth": 0,
             "ticks": ""
            },
            "type": "choropleth"
           }
          ],
          "contour": [
           {
            "colorbar": {
             "outlinewidth": 0,
             "ticks": ""
            },
            "colorscale": [
             [
              0,
              "#0d0887"
             ],
             [
              0.1111111111111111,
              "#46039f"
             ],
             [
              0.2222222222222222,
              "#7201a8"
             ],
             [
              0.3333333333333333,
              "#9c179e"
             ],
             [
              0.4444444444444444,
              "#bd3786"
             ],
             [
              0.5555555555555556,
              "#d8576b"
             ],
             [
              0.6666666666666666,
              "#ed7953"
             ],
             [
              0.7777777777777778,
              "#fb9f3a"
             ],
             [
              0.8888888888888888,
              "#fdca26"
             ],
             [
              1,
              "#f0f921"
             ]
            ],
            "type": "contour"
           }
          ],
          "contourcarpet": [
           {
            "colorbar": {
             "outlinewidth": 0,
             "ticks": ""
            },
            "type": "contourcarpet"
           }
          ],
          "heatmap": [
           {
            "colorbar": {
             "outlinewidth": 0,
             "ticks": ""
            },
            "colorscale": [
             [
              0,
              "#0d0887"
             ],
             [
              0.1111111111111111,
              "#46039f"
             ],
             [
              0.2222222222222222,
              "#7201a8"
             ],
             [
              0.3333333333333333,
              "#9c179e"
             ],
             [
              0.4444444444444444,
              "#bd3786"
             ],
             [
              0.5555555555555556,
              "#d8576b"
             ],
             [
              0.6666666666666666,
              "#ed7953"
             ],
             [
              0.7777777777777778,
              "#fb9f3a"
             ],
             [
              0.8888888888888888,
              "#fdca26"
             ],
             [
              1,
              "#f0f921"
             ]
            ],
            "type": "heatmap"
           }
          ],
          "heatmapgl": [
           {
            "colorbar": {
             "outlinewidth": 0,
             "ticks": ""
            },
            "colorscale": [
             [
              0,
              "#0d0887"
             ],
             [
              0.1111111111111111,
              "#46039f"
             ],
             [
              0.2222222222222222,
              "#7201a8"
             ],
             [
              0.3333333333333333,
              "#9c179e"
             ],
             [
              0.4444444444444444,
              "#bd3786"
             ],
             [
              0.5555555555555556,
              "#d8576b"
             ],
             [
              0.6666666666666666,
              "#ed7953"
             ],
             [
              0.7777777777777778,
              "#fb9f3a"
             ],
             [
              0.8888888888888888,
              "#fdca26"
             ],
             [
              1,
              "#f0f921"
             ]
            ],
            "type": "heatmapgl"
           }
          ],
          "histogram": [
           {
            "marker": {
             "colorbar": {
              "outlinewidth": 0,
              "ticks": ""
             }
            },
            "type": "histogram"
           }
          ],
          "histogram2d": [
           {
            "colorbar": {
             "outlinewidth": 0,
             "ticks": ""
            },
            "colorscale": [
             [
              0,
              "#0d0887"
             ],
             [
              0.1111111111111111,
              "#46039f"
             ],
             [
              0.2222222222222222,
              "#7201a8"
             ],
             [
              0.3333333333333333,
              "#9c179e"
             ],
             [
              0.4444444444444444,
              "#bd3786"
             ],
             [
              0.5555555555555556,
              "#d8576b"
             ],
             [
              0.6666666666666666,
              "#ed7953"
             ],
             [
              0.7777777777777778,
              "#fb9f3a"
             ],
             [
              0.8888888888888888,
              "#fdca26"
             ],
             [
              1,
              "#f0f921"
             ]
            ],
            "type": "histogram2d"
           }
          ],
          "histogram2dcontour": [
           {
            "colorbar": {
             "outlinewidth": 0,
             "ticks": ""
            },
            "colorscale": [
             [
              0,
              "#0d0887"
             ],
             [
              0.1111111111111111,
              "#46039f"
             ],
             [
              0.2222222222222222,
              "#7201a8"
             ],
             [
              0.3333333333333333,
              "#9c179e"
             ],
             [
              0.4444444444444444,
              "#bd3786"
             ],
             [
              0.5555555555555556,
              "#d8576b"
             ],
             [
              0.6666666666666666,
              "#ed7953"
             ],
             [
              0.7777777777777778,
              "#fb9f3a"
             ],
             [
              0.8888888888888888,
              "#fdca26"
             ],
             [
              1,
              "#f0f921"
             ]
            ],
            "type": "histogram2dcontour"
           }
          ],
          "mesh3d": [
           {
            "colorbar": {
             "outlinewidth": 0,
             "ticks": ""
            },
            "type": "mesh3d"
           }
          ],
          "parcoords": [
           {
            "line": {
             "colorbar": {
              "outlinewidth": 0,
              "ticks": ""
             }
            },
            "type": "parcoords"
           }
          ],
          "pie": [
           {
            "automargin": true,
            "type": "pie"
           }
          ],
          "scatter": [
           {
            "marker": {
             "colorbar": {
              "outlinewidth": 0,
              "ticks": ""
             }
            },
            "type": "scatter"
           }
          ],
          "scatter3d": [
           {
            "line": {
             "colorbar": {
              "outlinewidth": 0,
              "ticks": ""
             }
            },
            "marker": {
             "colorbar": {
              "outlinewidth": 0,
              "ticks": ""
             }
            },
            "type": "scatter3d"
           }
          ],
          "scattercarpet": [
           {
            "marker": {
             "colorbar": {
              "outlinewidth": 0,
              "ticks": ""
             }
            },
            "type": "scattercarpet"
           }
          ],
          "scattergeo": [
           {
            "marker": {
             "colorbar": {
              "outlinewidth": 0,
              "ticks": ""
             }
            },
            "type": "scattergeo"
           }
          ],
          "scattergl": [
           {
            "marker": {
             "colorbar": {
              "outlinewidth": 0,
              "ticks": ""
             }
            },
            "type": "scattergl"
           }
          ],
          "scattermapbox": [
           {
            "marker": {
             "colorbar": {
              "outlinewidth": 0,
              "ticks": ""
             }
            },
            "type": "scattermapbox"
           }
          ],
          "scatterpolar": [
           {
            "marker": {
             "colorbar": {
              "outlinewidth": 0,
              "ticks": ""
             }
            },
            "type": "scatterpolar"
           }
          ],
          "scatterpolargl": [
           {
            "marker": {
             "colorbar": {
              "outlinewidth": 0,
              "ticks": ""
             }
            },
            "type": "scatterpolargl"
           }
          ],
          "scatterternary": [
           {
            "marker": {
             "colorbar": {
              "outlinewidth": 0,
              "ticks": ""
             }
            },
            "type": "scatterternary"
           }
          ],
          "surface": [
           {
            "colorbar": {
             "outlinewidth": 0,
             "ticks": ""
            },
            "colorscale": [
             [
              0,
              "#0d0887"
             ],
             [
              0.1111111111111111,
              "#46039f"
             ],
             [
              0.2222222222222222,
              "#7201a8"
             ],
             [
              0.3333333333333333,
              "#9c179e"
             ],
             [
              0.4444444444444444,
              "#bd3786"
             ],
             [
              0.5555555555555556,
              "#d8576b"
             ],
             [
              0.6666666666666666,
              "#ed7953"
             ],
             [
              0.7777777777777778,
              "#fb9f3a"
             ],
             [
              0.8888888888888888,
              "#fdca26"
             ],
             [
              1,
              "#f0f921"
             ]
            ],
            "type": "surface"
           }
          ],
          "table": [
           {
            "cells": {
             "fill": {
              "color": "#EBF0F8"
             },
             "line": {
              "color": "white"
             }
            },
            "header": {
             "fill": {
              "color": "#C8D4E3"
             },
             "line": {
              "color": "white"
             }
            },
            "type": "table"
           }
          ]
         },
         "layout": {
          "annotationdefaults": {
           "arrowcolor": "#2a3f5f",
           "arrowhead": 0,
           "arrowwidth": 1
          },
          "coloraxis": {
           "colorbar": {
            "outlinewidth": 0,
            "ticks": ""
           }
          },
          "colorscale": {
           "diverging": [
            [
             0,
             "#8e0152"
            ],
            [
             0.1,
             "#c51b7d"
            ],
            [
             0.2,
             "#de77ae"
            ],
            [
             0.3,
             "#f1b6da"
            ],
            [
             0.4,
             "#fde0ef"
            ],
            [
             0.5,
             "#f7f7f7"
            ],
            [
             0.6,
             "#e6f5d0"
            ],
            [
             0.7,
             "#b8e186"
            ],
            [
             0.8,
             "#7fbc41"
            ],
            [
             0.9,
             "#4d9221"
            ],
            [
             1,
             "#276419"
            ]
           ],
           "sequential": [
            [
             0,
             "#0d0887"
            ],
            [
             0.1111111111111111,
             "#46039f"
            ],
            [
             0.2222222222222222,
             "#7201a8"
            ],
            [
             0.3333333333333333,
             "#9c179e"
            ],
            [
             0.4444444444444444,
             "#bd3786"
            ],
            [
             0.5555555555555556,
             "#d8576b"
            ],
            [
             0.6666666666666666,
             "#ed7953"
            ],
            [
             0.7777777777777778,
             "#fb9f3a"
            ],
            [
             0.8888888888888888,
             "#fdca26"
            ],
            [
             1,
             "#f0f921"
            ]
           ],
           "sequentialminus": [
            [
             0,
             "#0d0887"
            ],
            [
             0.1111111111111111,
             "#46039f"
            ],
            [
             0.2222222222222222,
             "#7201a8"
            ],
            [
             0.3333333333333333,
             "#9c179e"
            ],
            [
             0.4444444444444444,
             "#bd3786"
            ],
            [
             0.5555555555555556,
             "#d8576b"
            ],
            [
             0.6666666666666666,
             "#ed7953"
            ],
            [
             0.7777777777777778,
             "#fb9f3a"
            ],
            [
             0.8888888888888888,
             "#fdca26"
            ],
            [
             1,
             "#f0f921"
            ]
           ]
          },
          "colorway": [
           "#636efa",
           "#EF553B",
           "#00cc96",
           "#ab63fa",
           "#FFA15A",
           "#19d3f3",
           "#FF6692",
           "#B6E880",
           "#FF97FF",
           "#FECB52"
          ],
          "font": {
           "color": "#2a3f5f"
          },
          "geo": {
           "bgcolor": "white",
           "lakecolor": "white",
           "landcolor": "#E5ECF6",
           "showlakes": true,
           "showland": true,
           "subunitcolor": "white"
          },
          "hoverlabel": {
           "align": "left"
          },
          "hovermode": "closest",
          "mapbox": {
           "style": "light"
          },
          "paper_bgcolor": "white",
          "plot_bgcolor": "#E5ECF6",
          "polar": {
           "angularaxis": {
            "gridcolor": "white",
            "linecolor": "white",
            "ticks": ""
           },
           "bgcolor": "#E5ECF6",
           "radialaxis": {
            "gridcolor": "white",
            "linecolor": "white",
            "ticks": ""
           }
          },
          "scene": {
           "xaxis": {
            "backgroundcolor": "#E5ECF6",
            "gridcolor": "white",
            "gridwidth": 2,
            "linecolor": "white",
            "showbackground": true,
            "ticks": "",
            "zerolinecolor": "white"
           },
           "yaxis": {
            "backgroundcolor": "#E5ECF6",
            "gridcolor": "white",
            "gridwidth": 2,
            "linecolor": "white",
            "showbackground": true,
            "ticks": "",
            "zerolinecolor": "white"
           },
           "zaxis": {
            "backgroundcolor": "#E5ECF6",
            "gridcolor": "white",
            "gridwidth": 2,
            "linecolor": "white",
            "showbackground": true,
            "ticks": "",
            "zerolinecolor": "white"
           }
          },
          "shapedefaults": {
           "line": {
            "color": "#2a3f5f"
           }
          },
          "ternary": {
           "aaxis": {
            "gridcolor": "white",
            "linecolor": "white",
            "ticks": ""
           },
           "baxis": {
            "gridcolor": "white",
            "linecolor": "white",
            "ticks": ""
           },
           "bgcolor": "#E5ECF6",
           "caxis": {
            "gridcolor": "white",
            "linecolor": "white",
            "ticks": ""
           }
          },
          "title": {
           "x": 0.05
          },
          "xaxis": {
           "automargin": true,
           "gridcolor": "white",
           "linecolor": "white",
           "ticks": "",
           "title": {
            "standoff": 15
           },
           "zerolinecolor": "white",
           "zerolinewidth": 2
          },
          "yaxis": {
           "automargin": true,
           "gridcolor": "white",
           "linecolor": "white",
           "ticks": "",
           "title": {
            "standoff": 15
           },
           "zerolinecolor": "white",
           "zerolinewidth": 2
          }
         }
        },
        "xaxis": {
         "tickangle": -45
        }
       }
      },
      "text/html": [
       "<div>\n",
       "        \n",
       "        \n",
       "            <div id=\"b2645924-8a18-4e76-8bd6-be8f745ab58f\" class=\"plotly-graph-div\" style=\"height:525px; width:100%;\"></div>\n",
       "            <script type=\"text/javascript\">\n",
       "                require([\"plotly\"], function(Plotly) {\n",
       "                    window.PLOTLYENV=window.PLOTLYENV || {};\n",
       "                    \n",
       "                if (document.getElementById(\"b2645924-8a18-4e76-8bd6-be8f745ab58f\")) {\n",
       "                    Plotly.newPlot(\n",
       "                        'b2645924-8a18-4e76-8bd6-be8f745ab58f',\n",
       "                        [{\"marker\": {\"color\": \"blue\"}, \"name\": \"Positive\", \"type\": \"bar\", \"x\": [\"George Washington\", \"Thomas Jefferson\", \"Andrew Jackson\", \"Franklin D. Roosevelt\", \"Richard M. Nixon\", \"Ronald Reagan\", \"George H. W. Bush\", \"Bill Clinton\", \"George W. Bush\", \"Barack Obama\", \"Donald Trump\"], \"y\": [20, 23, 26, 36, 20, 56, 20, 35, 30, 44, 19]}, {\"marker\": {\"color\": \"indianred\"}, \"name\": \"Negative\", \"type\": \"bar\", \"x\": [\"George Washington\", \"Thomas Jefferson\", \"Andrew Jackson\", \"Franklin D. Roosevelt\", \"Richard M. Nixon\", \"Ronald Reagan\", \"George H. W. Bush\", \"Bill Clinton\", \"George W. Bush\", \"Barack Obama\", \"Donald Trump\"], \"y\": [1, 1, 0, 13, 3, 3, 3, 4, 9, 6, 3]}],\n",
       "                        {\"barmode\": \"group\", \"template\": {\"data\": {\"bar\": [{\"error_x\": {\"color\": \"#2a3f5f\"}, \"error_y\": {\"color\": \"#2a3f5f\"}, \"marker\": {\"line\": {\"color\": \"#E5ECF6\", \"width\": 0.5}}, \"type\": \"bar\"}], \"barpolar\": [{\"marker\": {\"line\": {\"color\": \"#E5ECF6\", \"width\": 0.5}}, \"type\": \"barpolar\"}], \"carpet\": [{\"aaxis\": {\"endlinecolor\": \"#2a3f5f\", \"gridcolor\": \"white\", \"linecolor\": \"white\", \"minorgridcolor\": \"white\", \"startlinecolor\": \"#2a3f5f\"}, \"baxis\": {\"endlinecolor\": \"#2a3f5f\", \"gridcolor\": \"white\", \"linecolor\": \"white\", \"minorgridcolor\": \"white\", \"startlinecolor\": \"#2a3f5f\"}, \"type\": \"carpet\"}], \"choropleth\": [{\"colorbar\": {\"outlinewidth\": 0, \"ticks\": \"\"}, \"type\": \"choropleth\"}], \"contour\": [{\"colorbar\": {\"outlinewidth\": 0, \"ticks\": \"\"}, \"colorscale\": [[0.0, \"#0d0887\"], [0.1111111111111111, \"#46039f\"], [0.2222222222222222, \"#7201a8\"], [0.3333333333333333, \"#9c179e\"], [0.4444444444444444, \"#bd3786\"], [0.5555555555555556, \"#d8576b\"], [0.6666666666666666, \"#ed7953\"], [0.7777777777777778, \"#fb9f3a\"], [0.8888888888888888, \"#fdca26\"], [1.0, \"#f0f921\"]], \"type\": \"contour\"}], \"contourcarpet\": [{\"colorbar\": {\"outlinewidth\": 0, \"ticks\": \"\"}, \"type\": \"contourcarpet\"}], \"heatmap\": [{\"colorbar\": {\"outlinewidth\": 0, \"ticks\": \"\"}, \"colorscale\": [[0.0, \"#0d0887\"], [0.1111111111111111, \"#46039f\"], [0.2222222222222222, \"#7201a8\"], [0.3333333333333333, \"#9c179e\"], [0.4444444444444444, \"#bd3786\"], [0.5555555555555556, \"#d8576b\"], [0.6666666666666666, \"#ed7953\"], [0.7777777777777778, \"#fb9f3a\"], [0.8888888888888888, \"#fdca26\"], [1.0, \"#f0f921\"]], \"type\": \"heatmap\"}], \"heatmapgl\": [{\"colorbar\": {\"outlinewidth\": 0, \"ticks\": \"\"}, \"colorscale\": [[0.0, \"#0d0887\"], [0.1111111111111111, \"#46039f\"], [0.2222222222222222, \"#7201a8\"], [0.3333333333333333, \"#9c179e\"], [0.4444444444444444, \"#bd3786\"], [0.5555555555555556, \"#d8576b\"], [0.6666666666666666, \"#ed7953\"], [0.7777777777777778, \"#fb9f3a\"], [0.8888888888888888, \"#fdca26\"], [1.0, \"#f0f921\"]], \"type\": \"heatmapgl\"}], \"histogram\": [{\"marker\": {\"colorbar\": {\"outlinewidth\": 0, \"ticks\": \"\"}}, \"type\": \"histogram\"}], \"histogram2d\": [{\"colorbar\": {\"outlinewidth\": 0, \"ticks\": \"\"}, \"colorscale\": [[0.0, \"#0d0887\"], [0.1111111111111111, \"#46039f\"], [0.2222222222222222, \"#7201a8\"], [0.3333333333333333, \"#9c179e\"], [0.4444444444444444, \"#bd3786\"], [0.5555555555555556, \"#d8576b\"], [0.6666666666666666, \"#ed7953\"], [0.7777777777777778, \"#fb9f3a\"], [0.8888888888888888, \"#fdca26\"], [1.0, \"#f0f921\"]], \"type\": \"histogram2d\"}], \"histogram2dcontour\": [{\"colorbar\": {\"outlinewidth\": 0, \"ticks\": \"\"}, \"colorscale\": [[0.0, \"#0d0887\"], [0.1111111111111111, \"#46039f\"], [0.2222222222222222, \"#7201a8\"], [0.3333333333333333, \"#9c179e\"], [0.4444444444444444, \"#bd3786\"], [0.5555555555555556, \"#d8576b\"], [0.6666666666666666, \"#ed7953\"], [0.7777777777777778, \"#fb9f3a\"], [0.8888888888888888, \"#fdca26\"], [1.0, \"#f0f921\"]], \"type\": \"histogram2dcontour\"}], \"mesh3d\": [{\"colorbar\": {\"outlinewidth\": 0, \"ticks\": \"\"}, \"type\": \"mesh3d\"}], \"parcoords\": [{\"line\": {\"colorbar\": {\"outlinewidth\": 0, \"ticks\": \"\"}}, \"type\": \"parcoords\"}], \"pie\": [{\"automargin\": true, \"type\": \"pie\"}], \"scatter\": [{\"marker\": {\"colorbar\": {\"outlinewidth\": 0, \"ticks\": \"\"}}, \"type\": \"scatter\"}], \"scatter3d\": [{\"line\": {\"colorbar\": {\"outlinewidth\": 0, \"ticks\": \"\"}}, \"marker\": {\"colorbar\": {\"outlinewidth\": 0, \"ticks\": \"\"}}, \"type\": \"scatter3d\"}], \"scattercarpet\": [{\"marker\": {\"colorbar\": {\"outlinewidth\": 0, \"ticks\": \"\"}}, \"type\": \"scattercarpet\"}], \"scattergeo\": [{\"marker\": {\"colorbar\": {\"outlinewidth\": 0, \"ticks\": \"\"}}, \"type\": \"scattergeo\"}], \"scattergl\": [{\"marker\": {\"colorbar\": {\"outlinewidth\": 0, \"ticks\": \"\"}}, \"type\": \"scattergl\"}], \"scattermapbox\": [{\"marker\": {\"colorbar\": {\"outlinewidth\": 0, \"ticks\": \"\"}}, \"type\": \"scattermapbox\"}], \"scatterpolar\": [{\"marker\": {\"colorbar\": {\"outlinewidth\": 0, \"ticks\": \"\"}}, \"type\": \"scatterpolar\"}], \"scatterpolargl\": [{\"marker\": {\"colorbar\": {\"outlinewidth\": 0, \"ticks\": \"\"}}, \"type\": \"scatterpolargl\"}], \"scatterternary\": [{\"marker\": {\"colorbar\": {\"outlinewidth\": 0, \"ticks\": \"\"}}, \"type\": \"scatterternary\"}], \"surface\": [{\"colorbar\": {\"outlinewidth\": 0, \"ticks\": \"\"}, \"colorscale\": [[0.0, \"#0d0887\"], [0.1111111111111111, \"#46039f\"], [0.2222222222222222, \"#7201a8\"], [0.3333333333333333, \"#9c179e\"], [0.4444444444444444, \"#bd3786\"], [0.5555555555555556, \"#d8576b\"], [0.6666666666666666, \"#ed7953\"], [0.7777777777777778, \"#fb9f3a\"], [0.8888888888888888, \"#fdca26\"], [1.0, \"#f0f921\"]], \"type\": \"surface\"}], \"table\": [{\"cells\": {\"fill\": {\"color\": \"#EBF0F8\"}, \"line\": {\"color\": \"white\"}}, \"header\": {\"fill\": {\"color\": \"#C8D4E3\"}, \"line\": {\"color\": \"white\"}}, \"type\": \"table\"}]}, \"layout\": {\"annotationdefaults\": {\"arrowcolor\": \"#2a3f5f\", \"arrowhead\": 0, \"arrowwidth\": 1}, \"coloraxis\": {\"colorbar\": {\"outlinewidth\": 0, \"ticks\": \"\"}}, \"colorscale\": {\"diverging\": [[0, \"#8e0152\"], [0.1, \"#c51b7d\"], [0.2, \"#de77ae\"], [0.3, \"#f1b6da\"], [0.4, \"#fde0ef\"], [0.5, \"#f7f7f7\"], [0.6, \"#e6f5d0\"], [0.7, \"#b8e186\"], [0.8, \"#7fbc41\"], [0.9, \"#4d9221\"], [1, \"#276419\"]], \"sequential\": [[0.0, \"#0d0887\"], [0.1111111111111111, \"#46039f\"], [0.2222222222222222, \"#7201a8\"], [0.3333333333333333, \"#9c179e\"], [0.4444444444444444, \"#bd3786\"], [0.5555555555555556, \"#d8576b\"], [0.6666666666666666, \"#ed7953\"], [0.7777777777777778, \"#fb9f3a\"], [0.8888888888888888, \"#fdca26\"], [1.0, \"#f0f921\"]], \"sequentialminus\": [[0.0, \"#0d0887\"], [0.1111111111111111, \"#46039f\"], [0.2222222222222222, \"#7201a8\"], [0.3333333333333333, \"#9c179e\"], [0.4444444444444444, \"#bd3786\"], [0.5555555555555556, \"#d8576b\"], [0.6666666666666666, \"#ed7953\"], [0.7777777777777778, \"#fb9f3a\"], [0.8888888888888888, \"#fdca26\"], [1.0, \"#f0f921\"]]}, \"colorway\": [\"#636efa\", \"#EF553B\", \"#00cc96\", \"#ab63fa\", \"#FFA15A\", \"#19d3f3\", \"#FF6692\", \"#B6E880\", \"#FF97FF\", \"#FECB52\"], \"font\": {\"color\": \"#2a3f5f\"}, \"geo\": {\"bgcolor\": \"white\", \"lakecolor\": \"white\", \"landcolor\": \"#E5ECF6\", \"showlakes\": true, \"showland\": true, \"subunitcolor\": \"white\"}, \"hoverlabel\": {\"align\": \"left\"}, \"hovermode\": \"closest\", \"mapbox\": {\"style\": \"light\"}, \"paper_bgcolor\": \"white\", \"plot_bgcolor\": \"#E5ECF6\", \"polar\": {\"angularaxis\": {\"gridcolor\": \"white\", \"linecolor\": \"white\", \"ticks\": \"\"}, \"bgcolor\": \"#E5ECF6\", \"radialaxis\": {\"gridcolor\": \"white\", \"linecolor\": \"white\", \"ticks\": \"\"}}, \"scene\": {\"xaxis\": {\"backgroundcolor\": \"#E5ECF6\", \"gridcolor\": \"white\", \"gridwidth\": 2, \"linecolor\": \"white\", \"showbackground\": true, \"ticks\": \"\", \"zerolinecolor\": \"white\"}, \"yaxis\": {\"backgroundcolor\": \"#E5ECF6\", \"gridcolor\": \"white\", \"gridwidth\": 2, \"linecolor\": \"white\", \"showbackground\": true, \"ticks\": \"\", \"zerolinecolor\": \"white\"}, \"zaxis\": {\"backgroundcolor\": \"#E5ECF6\", \"gridcolor\": \"white\", \"gridwidth\": 2, \"linecolor\": \"white\", \"showbackground\": true, \"ticks\": \"\", \"zerolinecolor\": \"white\"}}, \"shapedefaults\": {\"line\": {\"color\": \"#2a3f5f\"}}, \"ternary\": {\"aaxis\": {\"gridcolor\": \"white\", \"linecolor\": \"white\", \"ticks\": \"\"}, \"baxis\": {\"gridcolor\": \"white\", \"linecolor\": \"white\", \"ticks\": \"\"}, \"bgcolor\": \"#E5ECF6\", \"caxis\": {\"gridcolor\": \"white\", \"linecolor\": \"white\", \"ticks\": \"\"}}, \"title\": {\"x\": 0.05}, \"xaxis\": {\"automargin\": true, \"gridcolor\": \"white\", \"linecolor\": \"white\", \"ticks\": \"\", \"title\": {\"standoff\": 15}, \"zerolinecolor\": \"white\", \"zerolinewidth\": 2}, \"yaxis\": {\"automargin\": true, \"gridcolor\": \"white\", \"linecolor\": \"white\", \"ticks\": \"\", \"title\": {\"standoff\": 15}, \"zerolinecolor\": \"white\", \"zerolinewidth\": 2}}}, \"xaxis\": {\"tickangle\": -45}},\n",
       "                        {\"responsive\": true}\n",
       "                    ).then(function(){\n",
       "                            \n",
       "var gd = document.getElementById('b2645924-8a18-4e76-8bd6-be8f745ab58f');\n",
       "var x = new MutationObserver(function (mutations, observer) {{\n",
       "        var display = window.getComputedStyle(gd).display;\n",
       "        if (!display || display === 'none') {{\n",
       "            console.log([gd, 'removed!']);\n",
       "            Plotly.purge(gd);\n",
       "            observer.disconnect();\n",
       "        }}\n",
       "}});\n",
       "\n",
       "// Listen for the removal of the full notebook cells\n",
       "var notebookContainer = gd.closest('#notebook-container');\n",
       "if (notebookContainer) {{\n",
       "    x.observe(notebookContainer, {childList: true});\n",
       "}}\n",
       "\n",
       "// Listen for the clearing of the current output cell\n",
       "var outputEl = gd.closest('.output');\n",
       "if (outputEl) {{\n",
       "    x.observe(outputEl, {childList: true});\n",
       "}}\n",
       "\n",
       "                        })\n",
       "                };\n",
       "                });\n",
       "            </script>\n",
       "        </div>"
      ]
     },
     "metadata": {},
     "output_type": "display_data"
    }
   ],
   "source": [
    "fig = go.Figure()\n",
    "fig.add_trace(go.Bar(\n",
    "    x=total[\"Name\"],y=total[\"Total Positive\"],\n",
    "    name='Positive',\n",
    "    marker_color='blue'\n",
    "))\n",
    "fig.add_trace(go.Bar(\n",
    "    x=total[\"Name\"],y=total[\"Total Negative\"],\n",
    "    name='Negative',\n",
    "    marker_color='indianred'\n",
    "))\n",
    "\n",
    "# Here we modify the tickangle of the xaxis, resulting in rotated labels.\n",
    "fig.update_layout(barmode='group', xaxis_tickangle=-45)\n",
    "fig.show()"
   ]
  },
  {
   "cell_type": "code",
   "execution_count": null,
   "metadata": {},
   "outputs": [],
   "source": []
  }
 ],
 "metadata": {
  "kernelspec": {
   "display_name": "Python 3",
   "language": "python",
   "name": "python3"
  },
  "language_info": {
   "codemirror_mode": {
    "name": "ipython",
    "version": 3
   },
   "file_extension": ".py",
   "mimetype": "text/x-python",
   "name": "python",
   "nbconvert_exporter": "python",
   "pygments_lexer": "ipython3",
   "version": "3.7.3"
  }
 },
 "nbformat": 4,
 "nbformat_minor": 4
}
